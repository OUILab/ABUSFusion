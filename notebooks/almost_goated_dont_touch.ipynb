{
 "cells": [
  {
   "cell_type": "markdown",
   "id": "59741aac-6342-4da5-bb10-3782a1c8c03d",
   "metadata": {},
   "source": [
    "# Ultrasound Reconstruction with IMU and Optical Tracker Data\n"
   ]
  },
  {
   "cell_type": "markdown",
   "id": "e2e65153-05a0-4c6f-bf1d-be012c384324",
   "metadata": {},
   "source": [
    "## 1. Import Libraries\n"
   ]
  },
  {
   "cell_type": "code",
   "execution_count": 25,
   "id": "41d89fb6-dff5-4096-a5de-b13b07c05133",
   "metadata": {},
   "outputs": [],
   "source": [
    "import matplotlib.pyplot as plt\n",
    "import numpy as np\n",
    "import pandas as pd\n",
    "import torch\n",
    "import torch.nn as nn\n",
    "import torch.optim as optim\n",
    "import torchvision.transforms as transforms\n",
    "from mpl_toolkits.mplot3d import Axes3D\n",
    "from scipy.interpolate import RegularGridInterpolator\n",
    "from scipy.spatial.transform import Rotation\n",
    "from sklearn.decomposition import PCA\n",
    "from sklearn.model_selection import train_test_split\n",
    "from torch.optim.lr_scheduler import ReduceLROnPlateau\n",
    "from torch.utils.data import DataLoader, Dataset, SubsetRandomSampler\n",
    "from tqdm.notebook import tqdm"
   ]
  },
  {
   "cell_type": "markdown",
   "id": "9e157830-9405-4201-8dad-de0bfa80927d",
   "metadata": {},
   "source": [
    "## 2. Load and Preprocess Data\n"
   ]
  },
  {
   "cell_type": "code",
   "execution_count": 2,
   "id": "0b257f5b-cd1c-4ca9-a6c9-28271fd6d2fc",
   "metadata": {},
   "outputs": [],
   "source": [
    "def load_data(file_path):\n",
    "    return pd.read_hdf(file_path)\n",
    "\n",
    "\n",
    "file_path = \"/home/varun/xia_lab/repos/ABUSFusion/scans/20240826/wrist_data.h5\"\n",
    "df = load_data(file_path)"
   ]
  },
  {
   "cell_type": "markdown",
   "id": "1d77fbf2-ad3c-4a13-9798-1bb25b3014f0",
   "metadata": {},
   "source": [
    "## 3. Create Dataset and DataLoader\n"
   ]
  },
  {
   "cell_type": "code",
   "execution_count": 3,
   "id": "867cde6b-9b08-4bd0-bcbf-2b7983d57fe1",
   "metadata": {},
   "outputs": [],
   "source": [
    "class UltrasoundSequenceDataset(Dataset):\n",
    "    def __init__(self, df, sequence_length=2, transform=None, downsample_factor=3):\n",
    "        self.df = df\n",
    "        self.sequence_length = sequence_length\n",
    "        self.transform = transform\n",
    "        self.downsample_factor = downsample_factor\n",
    "\n",
    "        # Create a resizing transform\n",
    "        self.resize = transforms.Resize(\n",
    "            (1000 // self.downsample_factor, 657 // self.downsample_factor)\n",
    "        )\n",
    "\n",
    "    def __len__(self):\n",
    "        return len(self.df) - self.sequence_length + 1\n",
    "\n",
    "    def __getitem__(self, idx):\n",
    "        sequence = self.df.iloc[idx : idx + self.sequence_length]\n",
    "\n",
    "        frames = torch.tensor(np.stack(sequence[\"frame\"].values)).float()\n",
    "        frames = frames.mean(dim=-1, keepdim=True)  # Convert RGB to grayscale\n",
    "        frames = frames.permute(\n",
    "            0, 3, 1, 2\n",
    "        )  # Change to (sequence_length, channels, height, width)\n",
    "\n",
    "        # Apply resizing to each frame in the sequence\n",
    "        resized_frames = torch.stack([self.resize(frame) for frame in frames])\n",
    "\n",
    "        imu_data = torch.tensor(\n",
    "            sequence[\n",
    "                [\n",
    "                    \"imu_acc_x\",\n",
    "                    \"imu_acc_y\",\n",
    "                    \"imu_acc_z\",\n",
    "                    \"imu_orientation_x\",\n",
    "                    \"imu_orientation_y\",\n",
    "                    \"imu_orientation_z\",\n",
    "                ]\n",
    "            ].values\n",
    "        ).float()\n",
    "\n",
    "        ot_data = torch.tensor(\n",
    "            sequence[\n",
    "                [\"ot_pos_x\", \"ot_pos_y\", \"ot_pos_z\", \"ot_qw\", \"ot_qx\", \"ot_qy\", \"ot_qz\"]\n",
    "            ].values\n",
    "        ).float()\n",
    "\n",
    "        sample = (resized_frames, imu_data, ot_data)\n",
    "\n",
    "        if self.transform:\n",
    "            sample = self.transform(sample)\n",
    "\n",
    "        return sample"
   ]
  },
  {
   "cell_type": "code",
   "execution_count": 4,
   "id": "b347cce2-b9bc-4162-80cf-ef5eab8af205",
   "metadata": {},
   "outputs": [],
   "source": [
    "class QuaternionToEulerTransform:\n",
    "    def __call__(self, sample):\n",
    "        frames, imu_data, ot_data = sample\n",
    "\n",
    "        ot_pos = ot_data[..., :3]\n",
    "        ot_quat = ot_data[..., 3:]\n",
    "\n",
    "        # Convert quaternions to Euler angles\n",
    "        ot_euler = torch.tensor(\n",
    "            Rotation.from_quat(ot_quat.numpy()).as_euler(\"xyz\")\n",
    "        ).float()\n",
    "        target = torch.cat([ot_pos, ot_euler], dim=-1)\n",
    "\n",
    "        return frames, imu_data, target"
   ]
  },
  {
   "cell_type": "code",
   "execution_count": 5,
   "id": "76fbd361-1bca-4446-8b29-389d6121f68a",
   "metadata": {},
   "outputs": [],
   "source": [
    "# Create datasets and dataloaders\n",
    "transform = QuaternionToEulerTransform()\n",
    "dataset = UltrasoundSequenceDataset(\n",
    "    df, sequence_length=2, transform=transform, downsample_factor=3\n",
    ")"
   ]
  },
  {
   "cell_type": "code",
   "execution_count": 6,
   "id": "4c63a9b3-4ae9-49d7-a47f-0f890a738f2e",
   "metadata": {},
   "outputs": [],
   "source": [
    "# Split the dataset\n",
    "train_indices, val_indices = train_test_split(\n",
    "    range(len(dataset)), test_size=0.2, random_state=42\n",
    ")"
   ]
  },
  {
   "cell_type": "code",
   "execution_count": 7,
   "id": "66513fab-d03b-4839-b7d4-4252a14b3084",
   "metadata": {},
   "outputs": [],
   "source": [
    "train_sampler = SubsetRandomSampler(train_indices)\n",
    "val_sampler = SubsetRandomSampler(val_indices)"
   ]
  },
  {
   "cell_type": "code",
   "execution_count": 8,
   "id": "7c3b0709-ed8b-446a-adab-9dca2ae59299",
   "metadata": {},
   "outputs": [],
   "source": [
    "train_loader = DataLoader(dataset, batch_size=8, sampler=train_sampler)\n",
    "val_loader = DataLoader(dataset, batch_size=1, sampler=val_sampler)"
   ]
  },
  {
   "cell_type": "markdown",
   "id": "2e654be2-1177-4ca8-8f7d-5099e1da0df2",
   "metadata": {},
   "source": [
    "## 4. Define Model Architecture\n"
   ]
  },
  {
   "cell_type": "code",
   "execution_count": 9,
   "id": "09503847-c072-4459-a667-59d3463e5750",
   "metadata": {},
   "outputs": [],
   "source": [
    "class UltrasoundIMUModel(nn.Module):\n",
    "    def __init__(self, input_channels=1, input_height=1000, input_width=657):\n",
    "        super(UltrasoundIMUModel, self).__init__()\n",
    "        self.conv1 = nn.Conv2d(input_channels, 32, kernel_size=3, padding=1)\n",
    "        self.conv2 = nn.Conv2d(32, 64, kernel_size=3, padding=1)\n",
    "        self.pool = nn.MaxPool2d(2, 2)\n",
    "\n",
    "        conv_output_height = input_height // 4\n",
    "        conv_output_width = input_width // 4\n",
    "\n",
    "        self.lstm = nn.LSTM(\n",
    "            64 * conv_output_height * conv_output_width + 6, 128, batch_first=True\n",
    "        )\n",
    "        self.fc = nn.Linear(128, 6)  # Output: tx, ty, tz, rx, ry, rz\n",
    "\n",
    "    def forward(self, frames, imu_data):\n",
    "        batch_size, seq_len, _, height, width = frames.shape\n",
    "\n",
    "        frame_features = []\n",
    "        for i in range(seq_len):\n",
    "            x = self.pool(torch.relu(self.conv1(frames[:, i, :, :, :])))\n",
    "            x = self.pool(torch.relu(self.conv2(x)))\n",
    "            frame_features.append(x.view(batch_size, -1))\n",
    "\n",
    "        combined_features = torch.cat(\n",
    "            [torch.stack(frame_features, dim=1), imu_data], dim=2\n",
    "        )\n",
    "\n",
    "        lstm_out, _ = self.lstm(combined_features)\n",
    "        transformations = self.fc(lstm_out[:, -1, :])  # Use only the last output\n",
    "\n",
    "        return transformations"
   ]
  },
  {
   "cell_type": "code",
   "execution_count": 10,
   "id": "c8e0e314-41b5-4367-9c1b-5eba22704163",
   "metadata": {},
   "outputs": [],
   "source": [
    "# Initialize model\n",
    "model = UltrasoundIMUModel(\n",
    "    input_channels=1, input_height=1000 // 3, input_width=657 // 3\n",
    ")"
   ]
  },
  {
   "cell_type": "markdown",
   "id": "12c26f76-67e2-459d-a93b-3a972bb0335d",
   "metadata": {},
   "source": [
    "## 5. Train Model\n"
   ]
  },
  {
   "cell_type": "code",
   "execution_count": 11,
   "id": "965a4da6-a4d9-4db9-9169-7660fa15b9db",
   "metadata": {},
   "outputs": [
    {
     "name": "stderr",
     "output_type": "stream",
     "text": [
      "/home/varun/mambaforge/envs/abusfusion/lib/python3.12/site-packages/torch/optim/lr_scheduler.py:60: UserWarning: The verbose parameter is deprecated. Please use get_last_lr() to access the learning rate.\n",
      "  warnings.warn(\n"
     ]
    }
   ],
   "source": [
    "device = torch.device(\"cuda\" if torch.cuda.is_available() else \"cpu\")\n",
    "model = model.to(device)\n",
    "criterion = nn.SmoothL1Loss(beta=4.0)\n",
    "optimizer = torch.optim.AdamW(model.parameters(), lr=0.01)\n",
    "scheduler = ReduceLROnPlateau(\n",
    "    optimizer, mode=\"min\", factor=0.1, patience=5, verbose=True\n",
    ")"
   ]
  },
  {
   "cell_type": "code",
   "execution_count": 12,
   "id": "d8a3639f-5cb9-4234-87dd-866352fd89d1",
   "metadata": {},
   "outputs": [],
   "source": [
    "def train_model(\n",
    "    model,\n",
    "    train_loader,\n",
    "    val_loader,\n",
    "    criterion,\n",
    "    optimizer,\n",
    "    scheduler,\n",
    "    num_epochs=10000,\n",
    "    patience=10,\n",
    "):\n",
    "    device = torch.device(\"cuda\" if torch.cuda.is_available() else \"cpu\")\n",
    "    model = model.to(device)\n",
    "\n",
    "    best_val_loss = float(\"inf\")\n",
    "    best_model_weights = None\n",
    "    epochs_no_improve = 0\n",
    "\n",
    "    for epoch in tqdm(range(num_epochs), desc=\"Epochs\", position=0):\n",
    "        model.train()\n",
    "        train_loss = 0.0\n",
    "        epoch_progress = tqdm(\n",
    "            train_loader, desc=f\"Epoch {epoch+1}/{num_epochs}\", position=1, leave=False\n",
    "        )\n",
    "        for frames, imu_data, targets in epoch_progress:\n",
    "            frames, imu_data, targets = (\n",
    "                frames.to(device),\n",
    "                imu_data.to(device),\n",
    "                targets.to(device),\n",
    "            )\n",
    "\n",
    "            optimizer.zero_grad()\n",
    "            outputs = model(frames, imu_data)\n",
    "            loss = criterion(\n",
    "                outputs, targets[:, -1, :]\n",
    "            )  # Compare with the last target in the sequence\n",
    "            loss.backward()\n",
    "            optimizer.step()\n",
    "\n",
    "            train_loss += loss.item()\n",
    "            train_loss_avg = train_loss / (epoch_progress.n + 1)\n",
    "\n",
    "            epoch_progress.set_postfix({\"Avg Loss\": f\"{train_loss_avg:.4f}\"})\n",
    "\n",
    "        # Validation\n",
    "        model.eval()\n",
    "        val_loss = 0.0\n",
    "        with torch.no_grad():\n",
    "            for frames, imu_data, targets in val_loader:\n",
    "                frames, imu_data, targets = (\n",
    "                    frames.to(device),\n",
    "                    imu_data.to(device),\n",
    "                    targets.to(device),\n",
    "                )\n",
    "                outputs = model(frames, imu_data)\n",
    "                loss = criterion(outputs, targets[:, -1, :])\n",
    "                val_loss += loss.item()\n",
    "\n",
    "        val_loss /= len(val_loader)\n",
    "\n",
    "        scheduler.step(val_loss)\n",
    "\n",
    "        tqdm.write(\n",
    "            f\"Epoch {epoch+1}/{num_epochs}, Train Loss: {train_loss_avg:.4f}, Val Loss: {val_loss:.4f}\"\n",
    "        )\n",
    "\n",
    "        if val_loss < best_val_loss:\n",
    "            best_val_loss = val_loss\n",
    "            best_model_weights = model.state_dict().copy()\n",
    "            epochs_no_improve = 0\n",
    "        else:\n",
    "            epochs_no_improve += 1\n",
    "            if epochs_no_improve == patience:\n",
    "                tqdm.write(\"Early stopping triggered\")\n",
    "                break\n",
    "\n",
    "    model.load_state_dict(best_model_weights)\n",
    "    return model"
   ]
  },
  {
   "cell_type": "code",
   "execution_count": 13,
   "id": "f5df9f68-84c9-45ea-b41c-387df572d529",
   "metadata": {},
   "outputs": [
    {
     "data": {
      "application/vnd.jupyter.widget-view+json": {
       "model_id": "159708fddb4b480495b8836a1db32b11",
       "version_major": 2,
       "version_minor": 0
      },
      "text/plain": [
       "Epochs:   0%|          | 0/10000 [00:00<?, ?it/s]"
      ]
     },
     "metadata": {},
     "output_type": "display_data"
    },
    {
     "data": {
      "application/vnd.jupyter.widget-view+json": {
       "model_id": "5595b0d9ef944edbb00dcfe698a7f5ad",
       "version_major": 2,
       "version_minor": 0
      },
      "text/plain": [
       "Epoch 1/10000:   0%|          | 0/50 [00:00<?, ?it/s]"
      ]
     },
     "metadata": {},
     "output_type": "display_data"
    },
    {
     "name": "stdout",
     "output_type": "stream",
     "text": [
      "Epoch 1/10000, Train Loss: 175.2594, Val Loss: 168.9464\n"
     ]
    },
    {
     "data": {
      "application/vnd.jupyter.widget-view+json": {
       "model_id": "508752f75607498dadab1a88cbf0ce1a",
       "version_major": 2,
       "version_minor": 0
      },
      "text/plain": [
       "Epoch 2/10000:   0%|          | 0/50 [00:00<?, ?it/s]"
      ]
     },
     "metadata": {},
     "output_type": "display_data"
    },
    {
     "name": "stdout",
     "output_type": "stream",
     "text": [
      "Epoch 2/10000, Train Loss: 167.3405, Val Loss: 159.0063\n"
     ]
    },
    {
     "data": {
      "application/vnd.jupyter.widget-view+json": {
       "model_id": "73bc392ee0c842b9834a74a4779dfe4c",
       "version_major": 2,
       "version_minor": 0
      },
      "text/plain": [
       "Epoch 3/10000:   0%|          | 0/50 [00:00<?, ?it/s]"
      ]
     },
     "metadata": {},
     "output_type": "display_data"
    },
    {
     "name": "stdout",
     "output_type": "stream",
     "text": [
      "Epoch 3/10000, Train Loss: 157.6009, Val Loss: 149.8178\n"
     ]
    },
    {
     "data": {
      "application/vnd.jupyter.widget-view+json": {
       "model_id": "709b0004693d42af996dd4bd7a9cd512",
       "version_major": 2,
       "version_minor": 0
      },
      "text/plain": [
       "Epoch 4/10000:   0%|          | 0/50 [00:00<?, ?it/s]"
      ]
     },
     "metadata": {},
     "output_type": "display_data"
    },
    {
     "name": "stdout",
     "output_type": "stream",
     "text": [
      "Epoch 4/10000, Train Loss: 147.5859, Val Loss: 139.7190\n"
     ]
    },
    {
     "data": {
      "application/vnd.jupyter.widget-view+json": {
       "model_id": "d068bca79c9f4427a92be7c2c5c94d43",
       "version_major": 2,
       "version_minor": 0
      },
      "text/plain": [
       "Epoch 5/10000:   0%|          | 0/50 [00:00<?, ?it/s]"
      ]
     },
     "metadata": {},
     "output_type": "display_data"
    },
    {
     "name": "stdout",
     "output_type": "stream",
     "text": [
      "Epoch 5/10000, Train Loss: 139.8585, Val Loss: 134.2349\n"
     ]
    },
    {
     "data": {
      "application/vnd.jupyter.widget-view+json": {
       "model_id": "1eaf2af5d0764497a3d0cf18cf33e668",
       "version_major": 2,
       "version_minor": 0
      },
      "text/plain": [
       "Epoch 6/10000:   0%|          | 0/50 [00:00<?, ?it/s]"
      ]
     },
     "metadata": {},
     "output_type": "display_data"
    },
    {
     "name": "stdout",
     "output_type": "stream",
     "text": [
      "Epoch 6/10000, Train Loss: 134.3062, Val Loss: 128.8641\n"
     ]
    },
    {
     "data": {
      "application/vnd.jupyter.widget-view+json": {
       "model_id": "d9f541b24b18439fa91868c2dd6bff45",
       "version_major": 2,
       "version_minor": 0
      },
      "text/plain": [
       "Epoch 7/10000:   0%|          | 0/50 [00:00<?, ?it/s]"
      ]
     },
     "metadata": {},
     "output_type": "display_data"
    },
    {
     "name": "stdout",
     "output_type": "stream",
     "text": [
      "Epoch 7/10000, Train Loss: 128.6626, Val Loss: 123.3723\n"
     ]
    },
    {
     "data": {
      "application/vnd.jupyter.widget-view+json": {
       "model_id": "d42638664e39412a88babda03519f0ea",
       "version_major": 2,
       "version_minor": 0
      },
      "text/plain": [
       "Epoch 8/10000:   0%|          | 0/50 [00:00<?, ?it/s]"
      ]
     },
     "metadata": {},
     "output_type": "display_data"
    },
    {
     "name": "stdout",
     "output_type": "stream",
     "text": [
      "Epoch 8/10000, Train Loss: 123.3176, Val Loss: 118.7047\n"
     ]
    },
    {
     "data": {
      "application/vnd.jupyter.widget-view+json": {
       "model_id": "b1e70cb9def148b08203a1b4f06319f1",
       "version_major": 2,
       "version_minor": 0
      },
      "text/plain": [
       "Epoch 9/10000:   0%|          | 0/50 [00:00<?, ?it/s]"
      ]
     },
     "metadata": {},
     "output_type": "display_data"
    },
    {
     "name": "stdout",
     "output_type": "stream",
     "text": [
      "Epoch 9/10000, Train Loss: 118.5345, Val Loss: 113.4391\n"
     ]
    },
    {
     "data": {
      "application/vnd.jupyter.widget-view+json": {
       "model_id": "b610c12acfb64f7883db81ba337f9c6f",
       "version_major": 2,
       "version_minor": 0
      },
      "text/plain": [
       "Epoch 10/10000:   0%|          | 0/50 [00:00<?, ?it/s]"
      ]
     },
     "metadata": {},
     "output_type": "display_data"
    },
    {
     "name": "stdout",
     "output_type": "stream",
     "text": [
      "Epoch 10/10000, Train Loss: 112.9984, Val Loss: 108.0306\n"
     ]
    },
    {
     "data": {
      "application/vnd.jupyter.widget-view+json": {
       "model_id": "6c395f91223c441181b9d7376d5df2ae",
       "version_major": 2,
       "version_minor": 0
      },
      "text/plain": [
       "Epoch 11/10000:   0%|          | 0/50 [00:00<?, ?it/s]"
      ]
     },
     "metadata": {},
     "output_type": "display_data"
    },
    {
     "name": "stdout",
     "output_type": "stream",
     "text": [
      "Epoch 11/10000, Train Loss: 107.6594, Val Loss: 102.5408\n"
     ]
    },
    {
     "data": {
      "application/vnd.jupyter.widget-view+json": {
       "model_id": "24db39c37a5546138f6573999df2217a",
       "version_major": 2,
       "version_minor": 0
      },
      "text/plain": [
       "Epoch 12/10000:   0%|          | 0/50 [00:00<?, ?it/s]"
      ]
     },
     "metadata": {},
     "output_type": "display_data"
    },
    {
     "name": "stdout",
     "output_type": "stream",
     "text": [
      "Epoch 12/10000, Train Loss: 102.1472, Val Loss: 97.5096\n"
     ]
    },
    {
     "data": {
      "application/vnd.jupyter.widget-view+json": {
       "model_id": "a1d0763ca8d1432283831272ba927faa",
       "version_major": 2,
       "version_minor": 0
      },
      "text/plain": [
       "Epoch 13/10000:   0%|          | 0/50 [00:00<?, ?it/s]"
      ]
     },
     "metadata": {},
     "output_type": "display_data"
    },
    {
     "name": "stdout",
     "output_type": "stream",
     "text": [
      "Epoch 13/10000, Train Loss: 97.0465, Val Loss: 92.5140\n"
     ]
    },
    {
     "data": {
      "application/vnd.jupyter.widget-view+json": {
       "model_id": "d0d8bb8d904a4e5ea49593551d1bdb26",
       "version_major": 2,
       "version_minor": 0
      },
      "text/plain": [
       "Epoch 14/10000:   0%|          | 0/50 [00:00<?, ?it/s]"
      ]
     },
     "metadata": {},
     "output_type": "display_data"
    },
    {
     "name": "stdout",
     "output_type": "stream",
     "text": [
      "Epoch 14/10000, Train Loss: 91.9860, Val Loss: 87.6073\n"
     ]
    },
    {
     "data": {
      "application/vnd.jupyter.widget-view+json": {
       "model_id": "cc63c6aa4874423da95ed87753ad2147",
       "version_major": 2,
       "version_minor": 0
      },
      "text/plain": [
       "Epoch 15/10000:   0%|          | 0/50 [00:00<?, ?it/s]"
      ]
     },
     "metadata": {},
     "output_type": "display_data"
    },
    {
     "name": "stdout",
     "output_type": "stream",
     "text": [
      "Epoch 15/10000, Train Loss: 87.0031, Val Loss: 82.7421\n"
     ]
    },
    {
     "data": {
      "application/vnd.jupyter.widget-view+json": {
       "model_id": "59a1738219da462fa822ed53ff0cfd76",
       "version_major": 2,
       "version_minor": 0
      },
      "text/plain": [
       "Epoch 16/10000:   0%|          | 0/50 [00:00<?, ?it/s]"
      ]
     },
     "metadata": {},
     "output_type": "display_data"
    },
    {
     "name": "stdout",
     "output_type": "stream",
     "text": [
      "Epoch 16/10000, Train Loss: 82.0630, Val Loss: 77.9233\n"
     ]
    },
    {
     "data": {
      "application/vnd.jupyter.widget-view+json": {
       "model_id": "bf42a2ff9cd9482091bef82d88876f9d",
       "version_major": 2,
       "version_minor": 0
      },
      "text/plain": [
       "Epoch 17/10000:   0%|          | 0/50 [00:00<?, ?it/s]"
      ]
     },
     "metadata": {},
     "output_type": "display_data"
    },
    {
     "name": "stdout",
     "output_type": "stream",
     "text": [
      "Epoch 17/10000, Train Loss: 77.1653, Val Loss: 73.1425\n"
     ]
    },
    {
     "data": {
      "application/vnd.jupyter.widget-view+json": {
       "model_id": "7f1ad0e774144ae88ce1a300ddc9e002",
       "version_major": 2,
       "version_minor": 0
      },
      "text/plain": [
       "Epoch 18/10000:   0%|          | 0/50 [00:00<?, ?it/s]"
      ]
     },
     "metadata": {},
     "output_type": "display_data"
    },
    {
     "name": "stdout",
     "output_type": "stream",
     "text": [
      "Epoch 18/10000, Train Loss: 72.3062, Val Loss: 68.3958\n"
     ]
    },
    {
     "data": {
      "application/vnd.jupyter.widget-view+json": {
       "model_id": "1170ac82673f4650893b60d7a2aad16c",
       "version_major": 2,
       "version_minor": 0
      },
      "text/plain": [
       "Epoch 19/10000:   0%|          | 0/50 [00:00<?, ?it/s]"
      ]
     },
     "metadata": {},
     "output_type": "display_data"
    },
    {
     "name": "stdout",
     "output_type": "stream",
     "text": [
      "Epoch 19/10000, Train Loss: 67.4847, Val Loss: 63.6841\n"
     ]
    },
    {
     "data": {
      "application/vnd.jupyter.widget-view+json": {
       "model_id": "8ef346929d3c499d9488140d35c73fd6",
       "version_major": 2,
       "version_minor": 0
      },
      "text/plain": [
       "Epoch 20/10000:   0%|          | 0/50 [00:00<?, ?it/s]"
      ]
     },
     "metadata": {},
     "output_type": "display_data"
    },
    {
     "name": "stdout",
     "output_type": "stream",
     "text": [
      "Epoch 20/10000, Train Loss: 62.6910, Val Loss: 59.0056\n"
     ]
    },
    {
     "data": {
      "application/vnd.jupyter.widget-view+json": {
       "model_id": "11f4badfe3a244c3b430835885a5f543",
       "version_major": 2,
       "version_minor": 0
      },
      "text/plain": [
       "Epoch 21/10000:   0%|          | 0/50 [00:00<?, ?it/s]"
      ]
     },
     "metadata": {},
     "output_type": "display_data"
    },
    {
     "name": "stdout",
     "output_type": "stream",
     "text": [
      "Epoch 21/10000, Train Loss: 57.9359, Val Loss: 54.3578\n"
     ]
    },
    {
     "data": {
      "application/vnd.jupyter.widget-view+json": {
       "model_id": "111dc8092b504a5f8a99e3eaf6d215fe",
       "version_major": 2,
       "version_minor": 0
      },
      "text/plain": [
       "Epoch 22/10000:   0%|          | 0/50 [00:00<?, ?it/s]"
      ]
     },
     "metadata": {},
     "output_type": "display_data"
    },
    {
     "name": "stdout",
     "output_type": "stream",
     "text": [
      "Epoch 22/10000, Train Loss: 53.2022, Val Loss: 49.7383\n"
     ]
    },
    {
     "data": {
      "application/vnd.jupyter.widget-view+json": {
       "model_id": "9e3b243e46b249e1a16e0e9a50be5238",
       "version_major": 2,
       "version_minor": 0
      },
      "text/plain": [
       "Epoch 23/10000:   0%|          | 0/50 [00:00<?, ?it/s]"
      ]
     },
     "metadata": {},
     "output_type": "display_data"
    },
    {
     "name": "stdout",
     "output_type": "stream",
     "text": [
      "Epoch 23/10000, Train Loss: 48.5121, Val Loss: 45.1573\n"
     ]
    },
    {
     "data": {
      "application/vnd.jupyter.widget-view+json": {
       "model_id": "4615aef50ab74a60a5d6347245f79544",
       "version_major": 2,
       "version_minor": 0
      },
      "text/plain": [
       "Epoch 24/10000:   0%|          | 0/50 [00:00<?, ?it/s]"
      ]
     },
     "metadata": {},
     "output_type": "display_data"
    },
    {
     "name": "stdout",
     "output_type": "stream",
     "text": [
      "Epoch 24/10000, Train Loss: 42.9718, Val Loss: 40.5923\n"
     ]
    },
    {
     "data": {
      "application/vnd.jupyter.widget-view+json": {
       "model_id": "82f85ac3a1634f339304fdcc475b4b4f",
       "version_major": 2,
       "version_minor": 0
      },
      "text/plain": [
       "Epoch 25/10000:   0%|          | 0/50 [00:00<?, ?it/s]"
      ]
     },
     "metadata": {},
     "output_type": "display_data"
    },
    {
     "name": "stdout",
     "output_type": "stream",
     "text": [
      "Epoch 25/10000, Train Loss: 38.4279, Val Loss: 36.0623\n"
     ]
    },
    {
     "data": {
      "application/vnd.jupyter.widget-view+json": {
       "model_id": "1b35da4f9f25495caa076396c982ab88",
       "version_major": 2,
       "version_minor": 0
      },
      "text/plain": [
       "Epoch 26/10000:   0%|          | 0/50 [00:00<?, ?it/s]"
      ]
     },
     "metadata": {},
     "output_type": "display_data"
    },
    {
     "name": "stdout",
     "output_type": "stream",
     "text": [
      "Epoch 26/10000, Train Loss: 34.5950, Val Loss: 31.5712\n"
     ]
    },
    {
     "data": {
      "application/vnd.jupyter.widget-view+json": {
       "model_id": "f8e3304c666a4dd2853872c03f82eec3",
       "version_major": 2,
       "version_minor": 0
      },
      "text/plain": [
       "Epoch 27/10000:   0%|          | 0/50 [00:00<?, ?it/s]"
      ]
     },
     "metadata": {},
     "output_type": "display_data"
    },
    {
     "name": "stdout",
     "output_type": "stream",
     "text": [
      "Epoch 27/10000, Train Loss: 30.0273, Val Loss: 27.0909\n"
     ]
    },
    {
     "data": {
      "application/vnd.jupyter.widget-view+json": {
       "model_id": "7f1b887078154e81b559828cf93fc642",
       "version_major": 2,
       "version_minor": 0
      },
      "text/plain": [
       "Epoch 28/10000:   0%|          | 0/50 [00:00<?, ?it/s]"
      ]
     },
     "metadata": {},
     "output_type": "display_data"
    },
    {
     "name": "stdout",
     "output_type": "stream",
     "text": [
      "Epoch 28/10000, Train Loss: 25.4676, Val Loss: 22.6218\n"
     ]
    },
    {
     "data": {
      "application/vnd.jupyter.widget-view+json": {
       "model_id": "f90acfc284d548959c61210b9d98ea9e",
       "version_major": 2,
       "version_minor": 0
      },
      "text/plain": [
       "Epoch 29/10000:   0%|          | 0/50 [00:00<?, ?it/s]"
      ]
     },
     "metadata": {},
     "output_type": "display_data"
    },
    {
     "name": "stdout",
     "output_type": "stream",
     "text": [
      "Epoch 29/10000, Train Loss: 20.9282, Val Loss: 18.2042\n"
     ]
    },
    {
     "data": {
      "application/vnd.jupyter.widget-view+json": {
       "model_id": "79843b8fde304308942cdc8a96ccf40d",
       "version_major": 2,
       "version_minor": 0
      },
      "text/plain": [
       "Epoch 30/10000:   0%|          | 0/50 [00:00<?, ?it/s]"
      ]
     },
     "metadata": {},
     "output_type": "display_data"
    },
    {
     "name": "stdout",
     "output_type": "stream",
     "text": [
      "Epoch 30/10000, Train Loss: 16.4278, Val Loss: 13.7959\n"
     ]
    },
    {
     "data": {
      "application/vnd.jupyter.widget-view+json": {
       "model_id": "d8bc437292574ee08216c9d621c1c52c",
       "version_major": 2,
       "version_minor": 0
      },
      "text/plain": [
       "Epoch 31/10000:   0%|          | 0/50 [00:00<?, ?it/s]"
      ]
     },
     "metadata": {},
     "output_type": "display_data"
    },
    {
     "name": "stdout",
     "output_type": "stream",
     "text": [
      "Epoch 31/10000, Train Loss: 11.9500, Val Loss: 9.4193\n"
     ]
    },
    {
     "data": {
      "application/vnd.jupyter.widget-view+json": {
       "model_id": "f823b0063263430cae2c338d2cd42eda",
       "version_major": 2,
       "version_minor": 0
      },
      "text/plain": [
       "Epoch 32/10000:   0%|          | 0/50 [00:00<?, ?it/s]"
      ]
     },
     "metadata": {},
     "output_type": "display_data"
    },
    {
     "name": "stdout",
     "output_type": "stream",
     "text": [
      "Epoch 32/10000, Train Loss: 7.5107, Val Loss: 5.1748\n"
     ]
    },
    {
     "data": {
      "application/vnd.jupyter.widget-view+json": {
       "model_id": "2800e81283cd4b27a18f81f40849fb71",
       "version_major": 2,
       "version_minor": 0
      },
      "text/plain": [
       "Epoch 33/10000:   0%|          | 0/50 [00:00<?, ?it/s]"
      ]
     },
     "metadata": {},
     "output_type": "display_data"
    },
    {
     "name": "stdout",
     "output_type": "stream",
     "text": [
      "Epoch 33/10000, Train Loss: 4.0425, Val Loss: 3.3580\n"
     ]
    },
    {
     "data": {
      "application/vnd.jupyter.widget-view+json": {
       "model_id": "0b17125b11934beb952015795d88d3de",
       "version_major": 2,
       "version_minor": 0
      },
      "text/plain": [
       "Epoch 34/10000:   0%|          | 0/50 [00:00<?, ?it/s]"
      ]
     },
     "metadata": {},
     "output_type": "display_data"
    },
    {
     "name": "stdout",
     "output_type": "stream",
     "text": [
      "Epoch 34/10000, Train Loss: 2.8084, Val Loss: 2.9018\n"
     ]
    },
    {
     "data": {
      "application/vnd.jupyter.widget-view+json": {
       "model_id": "116c6e26541c451d88d402416fa20492",
       "version_major": 2,
       "version_minor": 0
      },
      "text/plain": [
       "Epoch 35/10000:   0%|          | 0/50 [00:00<?, ?it/s]"
      ]
     },
     "metadata": {},
     "output_type": "display_data"
    },
    {
     "name": "stdout",
     "output_type": "stream",
     "text": [
      "Epoch 35/10000, Train Loss: 2.5810, Val Loss: 2.8283\n"
     ]
    },
    {
     "data": {
      "application/vnd.jupyter.widget-view+json": {
       "model_id": "0012eaf286ce4c40afb466afb1da9e74",
       "version_major": 2,
       "version_minor": 0
      },
      "text/plain": [
       "Epoch 36/10000:   0%|          | 0/50 [00:00<?, ?it/s]"
      ]
     },
     "metadata": {},
     "output_type": "display_data"
    },
    {
     "name": "stdout",
     "output_type": "stream",
     "text": [
      "Epoch 36/10000, Train Loss: 2.5255, Val Loss: 2.8128\n"
     ]
    },
    {
     "data": {
      "application/vnd.jupyter.widget-view+json": {
       "model_id": "ddeed3faed03497090a3cc0359824a6d",
       "version_major": 2,
       "version_minor": 0
      },
      "text/plain": [
       "Epoch 37/10000:   0%|          | 0/50 [00:00<?, ?it/s]"
      ]
     },
     "metadata": {},
     "output_type": "display_data"
    },
    {
     "name": "stdout",
     "output_type": "stream",
     "text": [
      "Epoch 37/10000, Train Loss: 2.5352, Val Loss: 2.8355\n"
     ]
    },
    {
     "data": {
      "application/vnd.jupyter.widget-view+json": {
       "model_id": "886c9b1cf7724be69cb344440124131a",
       "version_major": 2,
       "version_minor": 0
      },
      "text/plain": [
       "Epoch 38/10000:   0%|          | 0/50 [00:00<?, ?it/s]"
      ]
     },
     "metadata": {},
     "output_type": "display_data"
    },
    {
     "name": "stdout",
     "output_type": "stream",
     "text": [
      "Epoch 38/10000, Train Loss: 2.5102, Val Loss: 2.8114\n"
     ]
    },
    {
     "data": {
      "application/vnd.jupyter.widget-view+json": {
       "model_id": "507a44288b894f55ab1aeec02a385dbb",
       "version_major": 2,
       "version_minor": 0
      },
      "text/plain": [
       "Epoch 39/10000:   0%|          | 0/50 [00:00<?, ?it/s]"
      ]
     },
     "metadata": {},
     "output_type": "display_data"
    },
    {
     "name": "stdout",
     "output_type": "stream",
     "text": [
      "Epoch 39/10000, Train Loss: 2.5827, Val Loss: 2.8132\n"
     ]
    },
    {
     "data": {
      "application/vnd.jupyter.widget-view+json": {
       "model_id": "b81509debcef4ac19a504aeb4222973f",
       "version_major": 2,
       "version_minor": 0
      },
      "text/plain": [
       "Epoch 40/10000:   0%|          | 0/50 [00:00<?, ?it/s]"
      ]
     },
     "metadata": {},
     "output_type": "display_data"
    },
    {
     "name": "stdout",
     "output_type": "stream",
     "text": [
      "Epoch 40/10000, Train Loss: 2.5113, Val Loss: 2.7905\n"
     ]
    },
    {
     "data": {
      "application/vnd.jupyter.widget-view+json": {
       "model_id": "4b891a5379054cd98b1a20ebb1e1c6dc",
       "version_major": 2,
       "version_minor": 0
      },
      "text/plain": [
       "Epoch 41/10000:   0%|          | 0/50 [00:00<?, ?it/s]"
      ]
     },
     "metadata": {},
     "output_type": "display_data"
    },
    {
     "name": "stdout",
     "output_type": "stream",
     "text": [
      "Epoch 41/10000, Train Loss: 2.5577, Val Loss: 2.8169\n"
     ]
    },
    {
     "data": {
      "application/vnd.jupyter.widget-view+json": {
       "model_id": "dca5e18a916547d6a5ae60434b7fbdf8",
       "version_major": 2,
       "version_minor": 0
      },
      "text/plain": [
       "Epoch 42/10000:   0%|          | 0/50 [00:00<?, ?it/s]"
      ]
     },
     "metadata": {},
     "output_type": "display_data"
    },
    {
     "name": "stdout",
     "output_type": "stream",
     "text": [
      "Epoch 42/10000, Train Loss: 2.5708, Val Loss: 2.7966\n"
     ]
    },
    {
     "data": {
      "application/vnd.jupyter.widget-view+json": {
       "model_id": "2dcf8716652e4ada96a666572bb49792",
       "version_major": 2,
       "version_minor": 0
      },
      "text/plain": [
       "Epoch 43/10000:   0%|          | 0/50 [00:00<?, ?it/s]"
      ]
     },
     "metadata": {},
     "output_type": "display_data"
    },
    {
     "name": "stdout",
     "output_type": "stream",
     "text": [
      "Epoch 43/10000, Train Loss: 2.5673, Val Loss: 2.7920\n"
     ]
    },
    {
     "data": {
      "application/vnd.jupyter.widget-view+json": {
       "model_id": "7475b1a048eb4337870f8b049e404679",
       "version_major": 2,
       "version_minor": 0
      },
      "text/plain": [
       "Epoch 44/10000:   0%|          | 0/50 [00:00<?, ?it/s]"
      ]
     },
     "metadata": {},
     "output_type": "display_data"
    },
    {
     "name": "stdout",
     "output_type": "stream",
     "text": [
      "Epoch 44/10000, Train Loss: 2.4968, Val Loss: 2.7894\n"
     ]
    },
    {
     "data": {
      "application/vnd.jupyter.widget-view+json": {
       "model_id": "2e58bc5717954ae8b4f13e40906ea9ff",
       "version_major": 2,
       "version_minor": 0
      },
      "text/plain": [
       "Epoch 45/10000:   0%|          | 0/50 [00:00<?, ?it/s]"
      ]
     },
     "metadata": {},
     "output_type": "display_data"
    },
    {
     "name": "stdout",
     "output_type": "stream",
     "text": [
      "Epoch 45/10000, Train Loss: 2.5594, Val Loss: 2.7942\n"
     ]
    },
    {
     "data": {
      "application/vnd.jupyter.widget-view+json": {
       "model_id": "4ff2ca45a364474b9354bdfbe2a883a7",
       "version_major": 2,
       "version_minor": 0
      },
      "text/plain": [
       "Epoch 46/10000:   0%|          | 0/50 [00:00<?, ?it/s]"
      ]
     },
     "metadata": {},
     "output_type": "display_data"
    },
    {
     "name": "stdout",
     "output_type": "stream",
     "text": [
      "Epoch 46/10000, Train Loss: 2.5556, Val Loss: 2.8033\n"
     ]
    },
    {
     "data": {
      "application/vnd.jupyter.widget-view+json": {
       "model_id": "be0c1d057d7d41cca0578896f0db1b8e",
       "version_major": 2,
       "version_minor": 0
      },
      "text/plain": [
       "Epoch 47/10000:   0%|          | 0/50 [00:00<?, ?it/s]"
      ]
     },
     "metadata": {},
     "output_type": "display_data"
    },
    {
     "name": "stdout",
     "output_type": "stream",
     "text": [
      "Epoch 47/10000, Train Loss: 2.5753, Val Loss: 2.8021\n"
     ]
    },
    {
     "data": {
      "application/vnd.jupyter.widget-view+json": {
       "model_id": "b1bf400fd70d4f04b7fef78f3a793528",
       "version_major": 2,
       "version_minor": 0
      },
      "text/plain": [
       "Epoch 48/10000:   0%|          | 0/50 [00:00<?, ?it/s]"
      ]
     },
     "metadata": {},
     "output_type": "display_data"
    },
    {
     "name": "stdout",
     "output_type": "stream",
     "text": [
      "Epoch 48/10000, Train Loss: 2.5486, Val Loss: 2.7859\n"
     ]
    },
    {
     "data": {
      "application/vnd.jupyter.widget-view+json": {
       "model_id": "36a0095731fc494492ae0d9194723323",
       "version_major": 2,
       "version_minor": 0
      },
      "text/plain": [
       "Epoch 49/10000:   0%|          | 0/50 [00:00<?, ?it/s]"
      ]
     },
     "metadata": {},
     "output_type": "display_data"
    },
    {
     "name": "stdout",
     "output_type": "stream",
     "text": [
      "Epoch 49/10000, Train Loss: 2.5400, Val Loss: 2.7929\n"
     ]
    },
    {
     "data": {
      "application/vnd.jupyter.widget-view+json": {
       "model_id": "de33541dfc2443af9caed897407be27b",
       "version_major": 2,
       "version_minor": 0
      },
      "text/plain": [
       "Epoch 50/10000:   0%|          | 0/50 [00:00<?, ?it/s]"
      ]
     },
     "metadata": {},
     "output_type": "display_data"
    },
    {
     "name": "stdout",
     "output_type": "stream",
     "text": [
      "Epoch 50/10000, Train Loss: 2.5728, Val Loss: 2.8129\n"
     ]
    },
    {
     "data": {
      "application/vnd.jupyter.widget-view+json": {
       "model_id": "2ada684f079143ef86b6aebcc1f7e269",
       "version_major": 2,
       "version_minor": 0
      },
      "text/plain": [
       "Epoch 51/10000:   0%|          | 0/50 [00:00<?, ?it/s]"
      ]
     },
     "metadata": {},
     "output_type": "display_data"
    },
    {
     "name": "stdout",
     "output_type": "stream",
     "text": [
      "Epoch 51/10000, Train Loss: 2.5522, Val Loss: 2.7841\n"
     ]
    },
    {
     "data": {
      "application/vnd.jupyter.widget-view+json": {
       "model_id": "0c22d5af47e04af49f98124739533499",
       "version_major": 2,
       "version_minor": 0
      },
      "text/plain": [
       "Epoch 52/10000:   0%|          | 0/50 [00:00<?, ?it/s]"
      ]
     },
     "metadata": {},
     "output_type": "display_data"
    },
    {
     "name": "stdout",
     "output_type": "stream",
     "text": [
      "Epoch 52/10000, Train Loss: 2.5565, Val Loss: 2.7908\n"
     ]
    },
    {
     "data": {
      "application/vnd.jupyter.widget-view+json": {
       "model_id": "bab2afdb34064a1a9c64355f879d5ab9",
       "version_major": 2,
       "version_minor": 0
      },
      "text/plain": [
       "Epoch 53/10000:   0%|          | 0/50 [00:00<?, ?it/s]"
      ]
     },
     "metadata": {},
     "output_type": "display_data"
    },
    {
     "name": "stdout",
     "output_type": "stream",
     "text": [
      "Epoch 53/10000, Train Loss: 2.4998, Val Loss: 2.7976\n"
     ]
    },
    {
     "data": {
      "application/vnd.jupyter.widget-view+json": {
       "model_id": "6c6a355731e6451c9129c5c4cdc3589e",
       "version_major": 2,
       "version_minor": 0
      },
      "text/plain": [
       "Epoch 54/10000:   0%|          | 0/50 [00:00<?, ?it/s]"
      ]
     },
     "metadata": {},
     "output_type": "display_data"
    },
    {
     "name": "stdout",
     "output_type": "stream",
     "text": [
      "Epoch 54/10000, Train Loss: 2.5549, Val Loss: 2.7840\n"
     ]
    },
    {
     "data": {
      "application/vnd.jupyter.widget-view+json": {
       "model_id": "15bda598e4e445c2969fd5e9ffe37601",
       "version_major": 2,
       "version_minor": 0
      },
      "text/plain": [
       "Epoch 55/10000:   0%|          | 0/50 [00:00<?, ?it/s]"
      ]
     },
     "metadata": {},
     "output_type": "display_data"
    },
    {
     "name": "stdout",
     "output_type": "stream",
     "text": [
      "Epoch 55/10000, Train Loss: 2.5524, Val Loss: 2.7849\n"
     ]
    },
    {
     "data": {
      "application/vnd.jupyter.widget-view+json": {
       "model_id": "4bc414c9a24246e396c8cd82168d9fd0",
       "version_major": 2,
       "version_minor": 0
      },
      "text/plain": [
       "Epoch 56/10000:   0%|          | 0/50 [00:00<?, ?it/s]"
      ]
     },
     "metadata": {},
     "output_type": "display_data"
    },
    {
     "name": "stdout",
     "output_type": "stream",
     "text": [
      "Epoch 56/10000, Train Loss: 2.5382, Val Loss: 2.7968\n"
     ]
    },
    {
     "data": {
      "application/vnd.jupyter.widget-view+json": {
       "model_id": "8a03ffa1b583462b9423ef8d7a238390",
       "version_major": 2,
       "version_minor": 0
      },
      "text/plain": [
       "Epoch 57/10000:   0%|          | 0/50 [00:00<?, ?it/s]"
      ]
     },
     "metadata": {},
     "output_type": "display_data"
    },
    {
     "name": "stdout",
     "output_type": "stream",
     "text": [
      "Epoch 57/10000, Train Loss: 2.5684, Val Loss: 2.8199\n"
     ]
    },
    {
     "data": {
      "application/vnd.jupyter.widget-view+json": {
       "model_id": "86c2d693c9434e16a0d6b9337499bec9",
       "version_major": 2,
       "version_minor": 0
      },
      "text/plain": [
       "Epoch 58/10000:   0%|          | 0/50 [00:00<?, ?it/s]"
      ]
     },
     "metadata": {},
     "output_type": "display_data"
    },
    {
     "name": "stdout",
     "output_type": "stream",
     "text": [
      "Epoch 58/10000, Train Loss: 2.5573, Val Loss: 2.7913\n"
     ]
    },
    {
     "data": {
      "application/vnd.jupyter.widget-view+json": {
       "model_id": "6e844de5beb4411ab9cfa05e91772b63",
       "version_major": 2,
       "version_minor": 0
      },
      "text/plain": [
       "Epoch 59/10000:   0%|          | 0/50 [00:00<?, ?it/s]"
      ]
     },
     "metadata": {},
     "output_type": "display_data"
    },
    {
     "name": "stdout",
     "output_type": "stream",
     "text": [
      "Epoch 59/10000, Train Loss: 2.5472, Val Loss: 2.7911\n"
     ]
    },
    {
     "data": {
      "application/vnd.jupyter.widget-view+json": {
       "model_id": "6146962cd74c4ee3a76fb271b6088f44",
       "version_major": 2,
       "version_minor": 0
      },
      "text/plain": [
       "Epoch 60/10000:   0%|          | 0/50 [00:00<?, ?it/s]"
      ]
     },
     "metadata": {},
     "output_type": "display_data"
    },
    {
     "name": "stdout",
     "output_type": "stream",
     "text": [
      "Epoch 60/10000, Train Loss: 2.5428, Val Loss: 2.7868\n"
     ]
    },
    {
     "data": {
      "application/vnd.jupyter.widget-view+json": {
       "model_id": "32ae4f24ac334fa7b0eb2ee50388b1c5",
       "version_major": 2,
       "version_minor": 0
      },
      "text/plain": [
       "Epoch 61/10000:   0%|          | 0/50 [00:00<?, ?it/s]"
      ]
     },
     "metadata": {},
     "output_type": "display_data"
    },
    {
     "name": "stdout",
     "output_type": "stream",
     "text": [
      "Epoch 61/10000, Train Loss: 2.5439, Val Loss: 2.7882\n"
     ]
    },
    {
     "data": {
      "application/vnd.jupyter.widget-view+json": {
       "model_id": "e7ab435ce8ce43f7abdd15ef62088569",
       "version_major": 2,
       "version_minor": 0
      },
      "text/plain": [
       "Epoch 62/10000:   0%|          | 0/50 [00:00<?, ?it/s]"
      ]
     },
     "metadata": {},
     "output_type": "display_data"
    },
    {
     "name": "stdout",
     "output_type": "stream",
     "text": [
      "Epoch 62/10000, Train Loss: 2.5386, Val Loss: 2.7822\n"
     ]
    },
    {
     "data": {
      "application/vnd.jupyter.widget-view+json": {
       "model_id": "e0c2324699be46279ca065294c13932b",
       "version_major": 2,
       "version_minor": 0
      },
      "text/plain": [
       "Epoch 63/10000:   0%|          | 0/50 [00:00<?, ?it/s]"
      ]
     },
     "metadata": {},
     "output_type": "display_data"
    },
    {
     "name": "stdout",
     "output_type": "stream",
     "text": [
      "Epoch 63/10000, Train Loss: 2.5376, Val Loss: 2.7836\n"
     ]
    },
    {
     "data": {
      "application/vnd.jupyter.widget-view+json": {
       "model_id": "326c1527a3d440f3b4dd82e4c668db96",
       "version_major": 2,
       "version_minor": 0
      },
      "text/plain": [
       "Epoch 64/10000:   0%|          | 0/50 [00:00<?, ?it/s]"
      ]
     },
     "metadata": {},
     "output_type": "display_data"
    },
    {
     "name": "stdout",
     "output_type": "stream",
     "text": [
      "Epoch 64/10000, Train Loss: 2.5369, Val Loss: 2.7812\n"
     ]
    },
    {
     "data": {
      "application/vnd.jupyter.widget-view+json": {
       "model_id": "60142688af7f45eab02da59bcdb6be40",
       "version_major": 2,
       "version_minor": 0
      },
      "text/plain": [
       "Epoch 65/10000:   0%|          | 0/50 [00:00<?, ?it/s]"
      ]
     },
     "metadata": {},
     "output_type": "display_data"
    },
    {
     "name": "stdout",
     "output_type": "stream",
     "text": [
      "Epoch 65/10000, Train Loss: 2.5346, Val Loss: 2.7793\n"
     ]
    },
    {
     "data": {
      "application/vnd.jupyter.widget-view+json": {
       "model_id": "3d681a3c58094c97a655e8bb5ce0ac50",
       "version_major": 2,
       "version_minor": 0
      },
      "text/plain": [
       "Epoch 66/10000:   0%|          | 0/50 [00:00<?, ?it/s]"
      ]
     },
     "metadata": {},
     "output_type": "display_data"
    },
    {
     "name": "stdout",
     "output_type": "stream",
     "text": [
      "Epoch 66/10000, Train Loss: 2.5374, Val Loss: 2.7839\n"
     ]
    },
    {
     "data": {
      "application/vnd.jupyter.widget-view+json": {
       "model_id": "e32047d3256e4aeca852c20f3c12deb4",
       "version_major": 2,
       "version_minor": 0
      },
      "text/plain": [
       "Epoch 67/10000:   0%|          | 0/50 [00:00<?, ?it/s]"
      ]
     },
     "metadata": {},
     "output_type": "display_data"
    },
    {
     "name": "stdout",
     "output_type": "stream",
     "text": [
      "Epoch 67/10000, Train Loss: 2.5352, Val Loss: 2.7788\n"
     ]
    },
    {
     "data": {
      "application/vnd.jupyter.widget-view+json": {
       "model_id": "a26a7e1d012c4178994381244df042a6",
       "version_major": 2,
       "version_minor": 0
      },
      "text/plain": [
       "Epoch 68/10000:   0%|          | 0/50 [00:00<?, ?it/s]"
      ]
     },
     "metadata": {},
     "output_type": "display_data"
    },
    {
     "name": "stdout",
     "output_type": "stream",
     "text": [
      "Epoch 68/10000, Train Loss: 2.5323, Val Loss: 2.7791\n"
     ]
    },
    {
     "data": {
      "application/vnd.jupyter.widget-view+json": {
       "model_id": "ee0b171263e144408910573b1a53a74c",
       "version_major": 2,
       "version_minor": 0
      },
      "text/plain": [
       "Epoch 69/10000:   0%|          | 0/50 [00:00<?, ?it/s]"
      ]
     },
     "metadata": {},
     "output_type": "display_data"
    },
    {
     "name": "stdout",
     "output_type": "stream",
     "text": [
      "Epoch 69/10000, Train Loss: 2.5335, Val Loss: 2.7761\n"
     ]
    },
    {
     "data": {
      "application/vnd.jupyter.widget-view+json": {
       "model_id": "9138d5d25ded4446b13124473c38eaf7",
       "version_major": 2,
       "version_minor": 0
      },
      "text/plain": [
       "Epoch 70/10000:   0%|          | 0/50 [00:00<?, ?it/s]"
      ]
     },
     "metadata": {},
     "output_type": "display_data"
    },
    {
     "name": "stdout",
     "output_type": "stream",
     "text": [
      "Epoch 70/10000, Train Loss: 2.4848, Val Loss: 2.7782\n"
     ]
    },
    {
     "data": {
      "application/vnd.jupyter.widget-view+json": {
       "model_id": "c086e8538018444982739a98b67996ef",
       "version_major": 2,
       "version_minor": 0
      },
      "text/plain": [
       "Epoch 71/10000:   0%|          | 0/50 [00:00<?, ?it/s]"
      ]
     },
     "metadata": {},
     "output_type": "display_data"
    },
    {
     "name": "stdout",
     "output_type": "stream",
     "text": [
      "Epoch 71/10000, Train Loss: 2.4812, Val Loss: 2.7766\n"
     ]
    },
    {
     "data": {
      "application/vnd.jupyter.widget-view+json": {
       "model_id": "987fcede6cf7496692b996277da9d1c2",
       "version_major": 2,
       "version_minor": 0
      },
      "text/plain": [
       "Epoch 72/10000:   0%|          | 0/50 [00:00<?, ?it/s]"
      ]
     },
     "metadata": {},
     "output_type": "display_data"
    },
    {
     "name": "stdout",
     "output_type": "stream",
     "text": [
      "Epoch 72/10000, Train Loss: 2.4821, Val Loss: 2.7764\n"
     ]
    },
    {
     "data": {
      "application/vnd.jupyter.widget-view+json": {
       "model_id": "d185e549ad3849dcb9eeb6f2699ec7a9",
       "version_major": 2,
       "version_minor": 0
      },
      "text/plain": [
       "Epoch 73/10000:   0%|          | 0/50 [00:00<?, ?it/s]"
      ]
     },
     "metadata": {},
     "output_type": "display_data"
    },
    {
     "name": "stdout",
     "output_type": "stream",
     "text": [
      "Epoch 73/10000, Train Loss: 2.4801, Val Loss: 2.7774\n"
     ]
    },
    {
     "data": {
      "application/vnd.jupyter.widget-view+json": {
       "model_id": "7675e5ba195843d2b01e436ffa7103f5",
       "version_major": 2,
       "version_minor": 0
      },
      "text/plain": [
       "Epoch 74/10000:   0%|          | 0/50 [00:00<?, ?it/s]"
      ]
     },
     "metadata": {},
     "output_type": "display_data"
    },
    {
     "name": "stdout",
     "output_type": "stream",
     "text": [
      "Epoch 74/10000, Train Loss: 2.5291, Val Loss: 2.7743\n"
     ]
    },
    {
     "data": {
      "application/vnd.jupyter.widget-view+json": {
       "model_id": "c641259bfb0448ccbe1254db73f1ae52",
       "version_major": 2,
       "version_minor": 0
      },
      "text/plain": [
       "Epoch 75/10000:   0%|          | 0/50 [00:00<?, ?it/s]"
      ]
     },
     "metadata": {},
     "output_type": "display_data"
    },
    {
     "name": "stdout",
     "output_type": "stream",
     "text": [
      "Epoch 75/10000, Train Loss: 2.5308, Val Loss: 2.7777\n"
     ]
    },
    {
     "data": {
      "application/vnd.jupyter.widget-view+json": {
       "model_id": "12de1442c06b4021a121345103c3e81a",
       "version_major": 2,
       "version_minor": 0
      },
      "text/plain": [
       "Epoch 76/10000:   0%|          | 0/50 [00:00<?, ?it/s]"
      ]
     },
     "metadata": {},
     "output_type": "display_data"
    },
    {
     "name": "stdout",
     "output_type": "stream",
     "text": [
      "Epoch 76/10000, Train Loss: 2.5324, Val Loss: 2.7748\n"
     ]
    },
    {
     "data": {
      "application/vnd.jupyter.widget-view+json": {
       "model_id": "7ac531d840bd435ba197716e95635802",
       "version_major": 2,
       "version_minor": 0
      },
      "text/plain": [
       "Epoch 77/10000:   0%|          | 0/50 [00:00<?, ?it/s]"
      ]
     },
     "metadata": {},
     "output_type": "display_data"
    },
    {
     "name": "stdout",
     "output_type": "stream",
     "text": [
      "Epoch 77/10000, Train Loss: 2.5316, Val Loss: 2.7756\n"
     ]
    },
    {
     "data": {
      "application/vnd.jupyter.widget-view+json": {
       "model_id": "62c3c7cb8d1146818a6cce5e2f4d2707",
       "version_major": 2,
       "version_minor": 0
      },
      "text/plain": [
       "Epoch 78/10000:   0%|          | 0/50 [00:00<?, ?it/s]"
      ]
     },
     "metadata": {},
     "output_type": "display_data"
    },
    {
     "name": "stdout",
     "output_type": "stream",
     "text": [
      "Epoch 78/10000, Train Loss: 2.5303, Val Loss: 2.7753\n"
     ]
    },
    {
     "data": {
      "application/vnd.jupyter.widget-view+json": {
       "model_id": "8d2b08fe40f5465f8af32fb932387c70",
       "version_major": 2,
       "version_minor": 0
      },
      "text/plain": [
       "Epoch 79/10000:   0%|          | 0/50 [00:00<?, ?it/s]"
      ]
     },
     "metadata": {},
     "output_type": "display_data"
    },
    {
     "name": "stdout",
     "output_type": "stream",
     "text": [
      "Epoch 79/10000, Train Loss: 2.5269, Val Loss: 2.7717\n"
     ]
    },
    {
     "data": {
      "application/vnd.jupyter.widget-view+json": {
       "model_id": "15502a89798b4e49b4bb129750ccae8a",
       "version_major": 2,
       "version_minor": 0
      },
      "text/plain": [
       "Epoch 80/10000:   0%|          | 0/50 [00:00<?, ?it/s]"
      ]
     },
     "metadata": {},
     "output_type": "display_data"
    },
    {
     "name": "stdout",
     "output_type": "stream",
     "text": [
      "Epoch 80/10000, Train Loss: 2.5282, Val Loss: 2.7735\n"
     ]
    },
    {
     "data": {
      "application/vnd.jupyter.widget-view+json": {
       "model_id": "f9078622d4654cc8a1cb331c8cacd061",
       "version_major": 2,
       "version_minor": 0
      },
      "text/plain": [
       "Epoch 81/10000:   0%|          | 0/50 [00:00<?, ?it/s]"
      ]
     },
     "metadata": {},
     "output_type": "display_data"
    },
    {
     "name": "stdout",
     "output_type": "stream",
     "text": [
      "Epoch 81/10000, Train Loss: 2.5272, Val Loss: 2.7731\n"
     ]
    },
    {
     "data": {
      "application/vnd.jupyter.widget-view+json": {
       "model_id": "82d6b0dff96d414a8e23602a578130e0",
       "version_major": 2,
       "version_minor": 0
      },
      "text/plain": [
       "Epoch 82/10000:   0%|          | 0/50 [00:00<?, ?it/s]"
      ]
     },
     "metadata": {},
     "output_type": "display_data"
    },
    {
     "name": "stdout",
     "output_type": "stream",
     "text": [
      "Epoch 82/10000, Train Loss: 2.5308, Val Loss: 2.7716\n"
     ]
    },
    {
     "data": {
      "application/vnd.jupyter.widget-view+json": {
       "model_id": "781af06dc1a44dd4b04bb26329cf4b30",
       "version_major": 2,
       "version_minor": 0
      },
      "text/plain": [
       "Epoch 83/10000:   0%|          | 0/50 [00:00<?, ?it/s]"
      ]
     },
     "metadata": {},
     "output_type": "display_data"
    },
    {
     "name": "stdout",
     "output_type": "stream",
     "text": [
      "Epoch 83/10000, Train Loss: 2.5290, Val Loss: 2.7727\n"
     ]
    },
    {
     "data": {
      "application/vnd.jupyter.widget-view+json": {
       "model_id": "f7038fe9e7d142d5815a5acf0e32707b",
       "version_major": 2,
       "version_minor": 0
      },
      "text/plain": [
       "Epoch 84/10000:   0%|          | 0/50 [00:00<?, ?it/s]"
      ]
     },
     "metadata": {},
     "output_type": "display_data"
    },
    {
     "name": "stdout",
     "output_type": "stream",
     "text": [
      "Epoch 84/10000, Train Loss: 2.5303, Val Loss: 2.7751\n"
     ]
    },
    {
     "data": {
      "application/vnd.jupyter.widget-view+json": {
       "model_id": "0ed895f3a50f424d8f61a8e336a39b5e",
       "version_major": 2,
       "version_minor": 0
      },
      "text/plain": [
       "Epoch 85/10000:   0%|          | 0/50 [00:00<?, ?it/s]"
      ]
     },
     "metadata": {},
     "output_type": "display_data"
    },
    {
     "name": "stdout",
     "output_type": "stream",
     "text": [
      "Epoch 85/10000, Train Loss: 2.4759, Val Loss: 2.7732\n"
     ]
    },
    {
     "data": {
      "application/vnd.jupyter.widget-view+json": {
       "model_id": "de6b68d8375a42679d9e85e925e273f9",
       "version_major": 2,
       "version_minor": 0
      },
      "text/plain": [
       "Epoch 86/10000:   0%|          | 0/50 [00:00<?, ?it/s]"
      ]
     },
     "metadata": {},
     "output_type": "display_data"
    },
    {
     "name": "stdout",
     "output_type": "stream",
     "text": [
      "Epoch 86/10000, Train Loss: 2.5221, Val Loss: 2.7730\n"
     ]
    },
    {
     "data": {
      "application/vnd.jupyter.widget-view+json": {
       "model_id": "445680c2d8b14b03b900c31c0619b348",
       "version_major": 2,
       "version_minor": 0
      },
      "text/plain": [
       "Epoch 87/10000:   0%|          | 0/50 [00:00<?, ?it/s]"
      ]
     },
     "metadata": {},
     "output_type": "display_data"
    },
    {
     "name": "stdout",
     "output_type": "stream",
     "text": [
      "Epoch 87/10000, Train Loss: 2.5250, Val Loss: 2.7727\n"
     ]
    },
    {
     "data": {
      "application/vnd.jupyter.widget-view+json": {
       "model_id": "dc4ace10c75845498eb71a10e0011aed",
       "version_major": 2,
       "version_minor": 0
      },
      "text/plain": [
       "Epoch 88/10000:   0%|          | 0/50 [00:00<?, ?it/s]"
      ]
     },
     "metadata": {},
     "output_type": "display_data"
    },
    {
     "name": "stdout",
     "output_type": "stream",
     "text": [
      "Epoch 88/10000, Train Loss: 2.5254, Val Loss: 2.7723\n"
     ]
    },
    {
     "data": {
      "application/vnd.jupyter.widget-view+json": {
       "model_id": "c88b2a1e5a4c464d97065c549151c427",
       "version_major": 2,
       "version_minor": 0
      },
      "text/plain": [
       "Epoch 89/10000:   0%|          | 0/50 [00:00<?, ?it/s]"
      ]
     },
     "metadata": {},
     "output_type": "display_data"
    },
    {
     "name": "stdout",
     "output_type": "stream",
     "text": [
      "Epoch 89/10000, Train Loss: 2.5250, Val Loss: 2.7725\n"
     ]
    },
    {
     "data": {
      "application/vnd.jupyter.widget-view+json": {
       "model_id": "ff194c54533249c6801c815ce11a3818",
       "version_major": 2,
       "version_minor": 0
      },
      "text/plain": [
       "Epoch 90/10000:   0%|          | 0/50 [00:00<?, ?it/s]"
      ]
     },
     "metadata": {},
     "output_type": "display_data"
    },
    {
     "name": "stdout",
     "output_type": "stream",
     "text": [
      "Epoch 90/10000, Train Loss: 2.4737, Val Loss: 2.7722\n"
     ]
    },
    {
     "data": {
      "application/vnd.jupyter.widget-view+json": {
       "model_id": "4f37ab4126704909adf5d8f0eada6a8a",
       "version_major": 2,
       "version_minor": 0
      },
      "text/plain": [
       "Epoch 91/10000:   0%|          | 0/50 [00:00<?, ?it/s]"
      ]
     },
     "metadata": {},
     "output_type": "display_data"
    },
    {
     "name": "stdout",
     "output_type": "stream",
     "text": [
      "Epoch 91/10000, Train Loss: 2.5275, Val Loss: 2.7723\n"
     ]
    },
    {
     "data": {
      "application/vnd.jupyter.widget-view+json": {
       "model_id": "c458a326ea2d4ad596490c4421f16a04",
       "version_major": 2,
       "version_minor": 0
      },
      "text/plain": [
       "Epoch 92/10000:   0%|          | 0/50 [00:00<?, ?it/s]"
      ]
     },
     "metadata": {},
     "output_type": "display_data"
    },
    {
     "name": "stdout",
     "output_type": "stream",
     "text": [
      "Epoch 92/10000, Train Loss: 2.5241, Val Loss: 2.7723\n",
      "Early stopping triggered\n"
     ]
    }
   ],
   "source": [
    "# Train the model\n",
    "trained_model = train_model(\n",
    "    model, train_loader, val_loader, criterion, optimizer, scheduler\n",
    ")\n",
    "\n",
    "# Save the best model\n",
    "torch.save(trained_model.state_dict(), \"best_model.pth\")"
   ]
  },
  {
   "cell_type": "markdown",
   "id": "869caa5f-8713-4a40-862d-5068db523da3",
   "metadata": {},
   "source": [
    "## 6. Evaluate Model\n"
   ]
  },
  {
   "cell_type": "code",
   "execution_count": 14,
   "id": "93f2ebed-5824-4a92-93e5-528be227ce76",
   "metadata": {},
   "outputs": [],
   "source": [
    "def evaluate_model(model, data_loader):\n",
    "    model.eval()\n",
    "    total_loss = 0.0\n",
    "    all_predictions = []\n",
    "    all_targets = []\n",
    "\n",
    "    with torch.no_grad():\n",
    "        for frames, imu_data, targets in data_loader:\n",
    "            frames, imu_data, targets = (\n",
    "                frames.to(device),\n",
    "                imu_data.to(device),\n",
    "                targets.to(device),\n",
    "            )\n",
    "            outputs = model(frames, imu_data)\n",
    "            loss = criterion(outputs, targets[:, -1, :])\n",
    "            total_loss += loss.item()\n",
    "\n",
    "            all_predictions.append(outputs.cpu().numpy())\n",
    "            all_targets.append(targets[:, -1, :].cpu().numpy())\n",
    "\n",
    "    avg_loss = total_loss / len(data_loader)\n",
    "    all_predictions = np.concatenate(all_predictions)\n",
    "    all_targets = np.concatenate(all_targets)\n",
    "\n",
    "    return avg_loss, all_predictions, all_targets"
   ]
  },
  {
   "cell_type": "code",
   "execution_count": 15,
   "id": "aadedd9c-4aa8-435e-b753-49f8abfd84ce",
   "metadata": {},
   "outputs": [
    {
     "name": "stdout",
     "output_type": "stream",
     "text": [
      "Validation Loss: 2.7723\n"
     ]
    }
   ],
   "source": [
    "# Evaluate the model\n",
    "val_loss, val_predictions, val_targets = evaluate_model(trained_model, val_loader)\n",
    "print(f\"Validation Loss: {val_loss:.4f}\")"
   ]
  },
  {
   "cell_type": "markdown",
   "id": "dad77fa6-66ad-4727-bef0-fb8979671595",
   "metadata": {},
   "source": [
    "## 7. Visualize Results\n"
   ]
  },
  {
   "cell_type": "code",
   "execution_count": 16,
   "id": "811ecc52-2841-4749-b828-f612c0da8883",
   "metadata": {},
   "outputs": [],
   "source": [
    "def visualize_predictions(predictions, targets):\n",
    "    fig, axes = plt.subplots(2, 3, figsize=(15, 10))\n",
    "    titles = [\n",
    "        \"Translation X\",\n",
    "        \"Translation Y\",\n",
    "        \"Translation Z\",\n",
    "        \"Rotation X\",\n",
    "        \"Rotation Y\",\n",
    "        \"Rotation Z\",\n",
    "    ]\n",
    "\n",
    "    for i in range(6):\n",
    "        ax = axes[i // 3, i % 3]\n",
    "        ax.plot(predictions[:100, i], label=\"Predicted\")\n",
    "        ax.plot(targets[:100, i], label=\"Ground Truth\")\n",
    "        ax.set_title(titles[i])\n",
    "        ax.legend()\n",
    "\n",
    "    plt.tight_layout()\n",
    "    plt.show()"
   ]
  },
  {
   "cell_type": "code",
   "execution_count": 17,
   "id": "57b278a5-c34f-4bb7-9772-968043083c2b",
   "metadata": {},
   "outputs": [
    {
     "data": {
      "image/png": "[encoded data removed]",
      "text/plain": [
       "<Figure size 1500x1000 with 6 Axes>"
      ]
     },
     "metadata": {},
     "output_type": "display_data"
    }
   ],
   "source": [
    "visualize_predictions(val_predictions, val_targets)"
   ]
  },
  {
   "cell_type": "markdown",
   "id": "35a5dfca-85bf-46ef-ba00-5e7f3b67b4af",
   "metadata": {},
   "source": [
    "## 8. Generate ground truth volume\n"
   ]
  },
  {
   "cell_type": "code",
   "execution_count": 18,
   "id": "bdc24071-2c2c-4cb2-9ca7-8ca46d16f4b4",
   "metadata": {},
   "outputs": [
    {
     "data": {
      "image/png": "[encoded data removed]",
      "text/plain": [
       "<Figure size 1200x1000 with 1 Axes>"
      ]
     },
     "metadata": {},
     "output_type": "display_data"
    }
   ],
   "source": [
    "def plot_trajectory_and_poses(df, frame_stride=1, scale=10):\n",
    "    # Extract optical tracker data\n",
    "    positions = df[[\"ot_pos_x\", \"ot_pos_y\", \"ot_pos_z\"]].values\n",
    "    orientations = df[[\"ot_qw\", \"ot_qx\", \"ot_qy\", \"ot_qz\"]].values\n",
    "\n",
    "    # Create figure and 3D axis\n",
    "    fig = plt.figure(figsize=(12, 10))\n",
    "    ax = fig.add_subplot(111, projection=\"3d\")\n",
    "\n",
    "    # Plot trajectory\n",
    "    ax.plot(positions[:, 0], positions[:, 1], positions[:, 2], \"b-\", label=\"Trajectory\")\n",
    "\n",
    "    # Plot pose vectors\n",
    "    for i in range(0, len(df), frame_stride):\n",
    "        pos = positions[i]\n",
    "        quat = orientations[i]\n",
    "\n",
    "        # Convert quaternion to rotation matrix\n",
    "        rot_matrix = Rotation.from_quat(quat).as_matrix()\n",
    "\n",
    "        # Define coordinate axes\n",
    "        axes = np.array([[scale, 0, 0], [0, scale, 0], [0, 0, scale]])\n",
    "\n",
    "        # Rotate and translate axes\n",
    "        transformed_axes = rot_matrix @ axes.T + pos[:, np.newaxis]\n",
    "\n",
    "        # Plot coordinate axes\n",
    "        colors = [\"r\", \"g\", \"b\"]\n",
    "        labels = [\"X\", \"Y\", \"Z\"]\n",
    "        for j, (color, label) in enumerate(zip(colors, labels)):\n",
    "            if i == 0:  # Only add label for the first iteration\n",
    "                ax.quiver(\n",
    "                    pos[0],\n",
    "                    pos[1],\n",
    "                    pos[2],\n",
    "                    transformed_axes[0, j] - pos[0],\n",
    "                    transformed_axes[1, j] - pos[1],\n",
    "                    transformed_axes[2, j] - pos[2],\n",
    "                    color=color,\n",
    "                    label=label,\n",
    "                )\n",
    "            else:\n",
    "                ax.quiver(\n",
    "                    pos[0],\n",
    "                    pos[1],\n",
    "                    pos[2],\n",
    "                    transformed_axes[0, j] - pos[0],\n",
    "                    transformed_axes[1, j] - pos[1],\n",
    "                    transformed_axes[2, j] - pos[2],\n",
    "                    color=color,\n",
    "                )\n",
    "\n",
    "    # Set labels and title\n",
    "    ax.set_xlabel(\"X\")\n",
    "    ax.set_ylabel(\"Y\")\n",
    "    ax.set_zlabel(\"Z\")\n",
    "    ax.set_title(\"Ultrasound Frame Trajectory and Poses\")\n",
    "\n",
    "    # Add legend\n",
    "    ax.legend()\n",
    "\n",
    "    # Set aspect ratio to 'equal'\n",
    "    ax.set_box_aspect(\n",
    "        (np.ptp(positions[:, 0]), np.ptp(positions[:, 1]), np.ptp(positions[:, 2]))\n",
    "    )\n",
    "\n",
    "    # Show plot\n",
    "    plt.tight_layout()\n",
    "    plt.show()\n",
    "\n",
    "\n",
    "# Usage\n",
    "# Assuming 'df' is your DataFrame containing the optical tracker data\n",
    "plot_trajectory_and_poses(df, frame_stride=1, scale=1)"
   ]
  },
  {
   "cell_type": "code",
   "execution_count": 20,
   "id": "8715a77f-06bb-4c62-8f05-55866851b365",
   "metadata": {},
   "outputs": [
    {
     "name": "stdout",
     "output_type": "stream",
     "text": [
      "Reconstructing ground truth volume...\n"
     ]
    },
    {
     "data": {
      "application/vnd.jupyter.widget-view+json": {
       "model_id": "b8cf285d1cb34c2c837d14c6f87427e8",
       "version_major": 2,
       "version_minor": 0
      },
      "text/plain": [
       "  0%|          | 0/500 [00:00<?, ?it/s]"
      ]
     },
     "metadata": {},
     "output_type": "display_data"
    },
    {
     "name": "stdout",
     "output_type": "stream",
     "text": [
      "Ground truth volume shape: (697, 715, 601)\n",
      "Volume origin: [  44.0769405   -13.89386663 -969.06145428]\n",
      "Voxel size: 0.1 mm\n"
     ]
    }
   ],
   "source": [
    "def reconstruct_ground_truth_volume(df, probe_specs, voxel_size=0.5):\n",
    "    frames = df[\"frame\"].values\n",
    "    positions = df[[\"ot_pos_x\", \"ot_pos_y\", \"ot_pos_z\"]].values\n",
    "    orientations = df[[\"ot_qw\", \"ot_qx\", \"ot_qy\", \"ot_qz\"]].values\n",
    "\n",
    "    # Probe specifications\n",
    "    depth = probe_specs[\"depth\"]  # mm (axial direction)\n",
    "    width = probe_specs[\"width\"]  # mm (lateral direction)\n",
    "    axial_res = probe_specs[\"axial_res\"]  # mm\n",
    "    lateral_res = probe_specs[\"lateral_res\"]  # mm\n",
    "    slice_thickness = probe_specs[\"slice_thickness\"]  # mm (elevational direction)\n",
    "    marker_to_probe_bottom = probe_specs[\"marker_to_probe_bottom\"]  # mm\n",
    "\n",
    "    # Calculate scaling factors\n",
    "    axial_scale = depth / 1000  # mm per pixel in axial direction\n",
    "    lateral_scale = width / 657  # mm per pixel in lateral direction\n",
    "\n",
    "    # Calculate volume bounds\n",
    "    rotations = Rotation.from_quat(orientations[:, [1, 2, 3, 0]])\n",
    "\n",
    "    # Define frame corners in probe coordinates (y: axial, x: lateral, z: elevational)\n",
    "    frame_corners = np.array(\n",
    "        [[0, 0, 0], [width, 0, 0], [0, depth, 0], [width, depth, 0]]\n",
    "    )\n",
    "\n",
    "    # Transform to align with optical tracker coordinates\n",
    "    transform_matrix = np.array(\n",
    "        [\n",
    "            [0, 0, -1],  # Tracker X -> -Probe Z (elevational)\n",
    "            [1, 0, 0],  # Tracker Y -> Probe X (lateral)\n",
    "            [0, -1, 0],  # Tracker Z -> -Probe Y (axial)\n",
    "        ]\n",
    "    )\n",
    "\n",
    "    frame_corners = frame_corners @ transform_matrix.T\n",
    "\n",
    "    # Add offset for marker to probe bottom\n",
    "    frame_corners[:, 2] += marker_to_probe_bottom\n",
    "\n",
    "    all_corners = (\n",
    "        np.einsum(\"ijk,lk->ilj\", rotations.as_matrix(), frame_corners)\n",
    "        + positions[:, np.newaxis, :]\n",
    "    )\n",
    "    min_corner = np.min(all_corners.reshape(-1, 3), axis=0)\n",
    "    max_corner = np.max(all_corners.reshape(-1, 3), axis=0)\n",
    "\n",
    "    # Initialize volume\n",
    "    volume_shape = np.ceil((max_corner - min_corner) / voxel_size).astype(int) + 1\n",
    "    volume = np.zeros(volume_shape, dtype=np.float32)\n",
    "    counts = np.zeros(volume_shape, dtype=np.int32)\n",
    "\n",
    "    # Create coordinate grid for frames\n",
    "    x, y = np.meshgrid(np.arange(657) * lateral_scale, np.arange(1000) * axial_scale)\n",
    "    frame_coords = np.stack((x, y, np.zeros_like(x)), axis=-1)\n",
    "\n",
    "    # Transform frame coordinates to align with optical tracker\n",
    "    frame_coords = frame_coords @ transform_matrix.T\n",
    "    frame_coords[:, :, 2] += marker_to_probe_bottom\n",
    "\n",
    "    print(\"Reconstructing ground truth volume...\")\n",
    "    for i, (frame, position, orientation) in enumerate(\n",
    "        tqdm(zip(frames, positions, orientations), total=len(frames))\n",
    "    ):\n",
    "        # Convert frame to grayscale\n",
    "        frame = np.mean(frame, axis=-1).astype(np.float32)\n",
    "\n",
    "        # Transform frame coordinates to world space\n",
    "        rotation = Rotation.from_quat(orientation[[1, 2, 3, 0]]).as_matrix()\n",
    "        world_coords = np.einsum(\"ij,klj->kli\", rotation, frame_coords) + position\n",
    "\n",
    "        # Calculate voxel coordinates\n",
    "        voxel_coords = np.round((world_coords - min_corner) / voxel_size).astype(int)\n",
    "\n",
    "        # Filter out-of-bounds voxels\n",
    "        mask = np.all((voxel_coords >= 0) & (voxel_coords < volume_shape), axis=2)\n",
    "        valid_voxels = voxel_coords[mask]\n",
    "        valid_intensities = frame[mask]\n",
    "\n",
    "        # Update volume and counts\n",
    "        np.add.at(volume, tuple(valid_voxels.T), valid_intensities)\n",
    "        np.add.at(counts, tuple(valid_voxels.T), 1)\n",
    "\n",
    "    # Average intensities and handle zero counts\n",
    "    mask = counts > 0\n",
    "    volume[mask] /= counts[mask]\n",
    "\n",
    "    return volume, min_corner, voxel_size\n",
    "\n",
    "\n",
    "# Probe specifications\n",
    "probe_specs = {\n",
    "    \"depth\": 50,  # mm (axial direction)\n",
    "    \"width\": 38,  # mm (lateral direction, assuming 19 mm on each side of the center)\n",
    "    \"axial_res\": 0.5,  # mm\n",
    "    \"lateral_res\": 2,  # mm\n",
    "    \"slice_thickness\": 5,  # mm (elevational direction)\n",
    "    \"marker_to_probe_bottom\": 54,  # mm (approximate, to be refined)\n",
    "}\n",
    "\n",
    "# Reconstruct ground truth volume\n",
    "ground_truth_volume, volume_origin, voxel_size = reconstruct_ground_truth_volume(\n",
    "    df, probe_specs, voxel_size=0.1  # lower voxel size corresponds to higher resolution\n",
    ")\n",
    "\n",
    "print(f\"Ground truth volume shape: {ground_truth_volume.shape}\")\n",
    "print(f\"Volume origin: {volume_origin}\")\n",
    "print(f\"Voxel size: {voxel_size} mm\")"
   ]
  },
  {
   "cell_type": "code",
   "execution_count": 21,
   "id": "01426dac-4608-4e54-a776-22e19027bbfe",
   "metadata": {},
   "outputs": [
    {
     "name": "stdout",
     "output_type": "stream",
     "text": [
      "Ground truth volume saved as 'ground_truth_volume2.npy'\n",
      "Metadata saved as 'ground_truth_volume_metadata2.npy'\n"
     ]
    }
   ],
   "source": [
    "# Save the ground truth volume\n",
    "np.save(\"ground_truth_volume2.npy\", np.flip(ground_truth_volume, axis=0))\n",
    "print(\"Ground truth volume saved as 'ground_truth_volume2.npy'\")\n",
    "\n",
    "# Save metadata\n",
    "metadata = {\n",
    "    \"volume_origin\": volume_origin.tolist(),\n",
    "    \"voxel_size\": voxel_size,\n",
    "    \"probe_specs\": probe_specs,\n",
    "}\n",
    "np.save(\"ground_truth_volume_metadata2.npy\", metadata)\n",
    "print(\"Metadata saved as 'ground_truth_volume_metadata2.npy'\")"
   ]
  },
  {
   "cell_type": "code",
   "execution_count": 22,
   "id": "3b870365-74ae-4fec-9c17-db80b9173ccc",
   "metadata": {},
   "outputs": [
    {
     "data": {
      "text/plain": [
       "(697, 715, 601)"
      ]
     },
     "execution_count": 22,
     "metadata": {},
     "output_type": "execute_result"
    }
   ],
   "source": [
    "ground_truth_volume.shape"
   ]
  },
  {
   "cell_type": "markdown",
   "id": "4a4b21bb-a21f-4b75-bd46-a907d58ed705",
   "metadata": {},
   "source": [
    "## Reconstruct predictions\n"
   ]
  },
  {
   "cell_type": "code",
   "execution_count": 23,
   "id": "83a33077-dfc5-4078-a66b-7767060b6134",
   "metadata": {},
   "outputs": [],
   "source": [
    "def euler_to_rotation_matrix(euler_angles):\n",
    "    return Rotation.from_euler(\"xyz\", euler_angles).as_matrix()\n",
    "\n",
    "\n",
    "def reconstruct_predicted_volume(\n",
    "    frames, predicted_transforms, probe_specs, voxel_size=0.5\n",
    "):\n",
    "    # Extract translations and rotations from predicted transforms\n",
    "    translations = predicted_transforms[:, :3]\n",
    "    rotations = [\n",
    "        euler_to_rotation_matrix(euler) for euler in predicted_transforms[:, 3:]\n",
    "    ]\n",
    "\n",
    "    # Probe specifications\n",
    "    depth = probe_specs[\"depth\"]\n",
    "    width = probe_specs[\"width\"]\n",
    "    marker_to_probe_bottom = probe_specs[\"marker_to_probe_bottom\"]\n",
    "\n",
    "    # Calculate scaling factors\n",
    "    axial_scale = depth / frames.shape[1]\n",
    "    lateral_scale = width / frames.shape[2]\n",
    "\n",
    "    # Calculate volume bounds\n",
    "    frame_corners = np.array(\n",
    "        [[0, 0, 0], [width, 0, 0], [0, depth, 0], [width, depth, 0]]\n",
    "    )\n",
    "    transform_matrix = np.array(\n",
    "        [\n",
    "            [0, 0, -1],\n",
    "            [1, 0, 0],\n",
    "            [0, -1, 0],\n",
    "        ]\n",
    "    )\n",
    "    frame_corners = frame_corners @ transform_matrix.T\n",
    "    frame_corners[:, 2] += marker_to_probe_bottom\n",
    "\n",
    "    all_corners = (\n",
    "        np.einsum(\"ijk,lk->ilj\", rotations, frame_corners)\n",
    "        + translations[:, np.newaxis, :]\n",
    "    )\n",
    "    min_corner = np.min(all_corners.reshape(-1, 3), axis=0)\n",
    "    max_corner = np.max(all_corners.reshape(-1, 3), axis=0)\n",
    "\n",
    "    # Initialize volume\n",
    "    volume_shape = np.ceil((max_corner - min_corner) / voxel_size).astype(int) + 1\n",
    "    volume = np.zeros(volume_shape, dtype=np.float32)\n",
    "    counts = np.zeros(volume_shape, dtype=np.int32)\n",
    "\n",
    "    # Create coordinate grid for frames\n",
    "    x, y = np.meshgrid(\n",
    "        np.arange(frames.shape[2]) * lateral_scale,\n",
    "        np.arange(frames.shape[1]) * axial_scale,\n",
    "    )\n",
    "    frame_coords = np.stack((x, y, np.zeros_like(x)), axis=-1)\n",
    "    frame_coords = frame_coords @ transform_matrix.T\n",
    "    frame_coords[:, :, 2] += marker_to_probe_bottom\n",
    "\n",
    "    print(\"Reconstructing predicted volume...\")\n",
    "    for i, (frame, translation, rotation) in enumerate(\n",
    "        tqdm(zip(frames, translations, rotations), total=len(frames))\n",
    "    ):\n",
    "        # Ensure frame is 2D (height x width)\n",
    "        if frame.ndim == 3:\n",
    "            frame = np.mean(frame, axis=-1).astype(np.float32)\n",
    "\n",
    "        # Transform frame coordinates to world space\n",
    "        world_coords = np.einsum(\"ij,klj->kli\", rotation, frame_coords) + translation\n",
    "\n",
    "        # Calculate voxel coordinates\n",
    "        voxel_coords = np.round((world_coords - min_corner) / voxel_size).astype(int)\n",
    "\n",
    "        # Filter out-of-bounds voxels\n",
    "        mask = np.all((voxel_coords >= 0) & (voxel_coords < volume_shape), axis=2)\n",
    "        valid_voxels = voxel_coords[mask]\n",
    "        valid_intensities = frame[mask]\n",
    "\n",
    "        # Update volume and counts\n",
    "        np.add.at(volume, tuple(valid_voxels.T), valid_intensities)\n",
    "        np.add.at(counts, tuple(valid_voxels.T), 1)\n",
    "\n",
    "    # Average intensities and handle zero counts\n",
    "    mask = counts > 0\n",
    "    volume[mask] /= counts[mask]\n",
    "\n",
    "    return volume, min_corner, voxel_size"
   ]
  },
  {
   "cell_type": "code",
   "execution_count": 24,
   "id": "5cfd3891-a2b9-4087-bcc8-40eada8fa4bb",
   "metadata": {},
   "outputs": [
    {
     "name": "stdout",
     "output_type": "stream",
     "text": [
      "Reconstructing predicted volume...\n"
     ]
    },
    {
     "data": {
      "application/vnd.jupyter.widget-view+json": {
       "model_id": "749f9de38c814bdaa13928c87abdba68",
       "version_major": 2,
       "version_minor": 0
      },
      "text/plain": [
       "  0%|          | 0/100 [00:00<?, ?it/s]"
      ]
     },
     "metadata": {},
     "output_type": "display_data"
    },
    {
     "name": "stdout",
     "output_type": "stream",
     "text": [
      "Predicted volume shape: (619, 626, 132)\n",
      "Volume origin: [  73.77915046  -36.05526916 -956.07145139]\n",
      "Voxel size: 0.1 mm\n",
      "Predicted volume saved as 'predicted_volume.npy'\n",
      "Metadata saved as 'predicted_volume_metadata.npy'\n"
     ]
    }
   ],
   "source": [
    "# Assuming you have already trained the model and have the validation dataset\n",
    "model.eval()\n",
    "all_frames = []\n",
    "all_predictions = []\n",
    "\n",
    "with torch.no_grad():\n",
    "    for frames, imu_data, _ in val_loader:\n",
    "        frames = frames.to(device)\n",
    "        imu_data = imu_data.to(device)\n",
    "        outputs = model(frames, imu_data)\n",
    "\n",
    "        all_frames.append(frames.cpu().numpy())\n",
    "        all_predictions.append(outputs.cpu().numpy())\n",
    "\n",
    "all_frames = np.concatenate(all_frames, axis=0)\n",
    "all_predictions = np.concatenate(all_predictions, axis=0)\n",
    "\n",
    "# Reconstruct the predicted volume\n",
    "predicted_volume, volume_origin, voxel_size = reconstruct_predicted_volume(\n",
    "    all_frames[:, 0],  # Use only the first frame of each sequence\n",
    "    all_predictions,  # Use all predictions\n",
    "    probe_specs,\n",
    "    voxel_size=0.1,\n",
    ")\n",
    "\n",
    "print(f\"Predicted volume shape: {predicted_volume.shape}\")\n",
    "print(f\"Volume origin: {volume_origin}\")\n",
    "print(f\"Voxel size: {voxel_size} mm\")\n",
    "\n",
    "# Save the predicted volume\n",
    "np.save(\"predicted_volume.npy\", predicted_volume)\n",
    "print(\"Predicted volume saved as 'predicted_volume.npy'\")\n",
    "\n",
    "# Save metadata\n",
    "metadata = {\n",
    "    \"volume_origin\": volume_origin.tolist(),\n",
    "    \"voxel_size\": voxel_size,\n",
    "    \"probe_specs\": probe_specs,\n",
    "}\n",
    "np.save(\"predicted_volume_metadata.npy\", metadata)\n",
    "print(\"Metadata saved as 'predicted_volume_metadata.npy'\")"
   ]
  },
  {
   "cell_type": "code",
   "execution_count": 26,
   "metadata": {},
   "outputs": [],
   "source": [
    "def preprocess_and_align_data(df):\n",
    "    # Extract IMU and OT data\n",
    "    imu_acc = df[[\"imu_acc_x\", \"imu_acc_y\", \"imu_acc_z\"]].values\n",
    "    imu_orientation = df[\n",
    "        [\"imu_orientation_x\", \"imu_orientation_y\", \"imu_orientation_z\"]\n",
    "    ].values\n",
    "    ot_pos = df[[\"ot_pos_x\", \"ot_pos_y\", \"ot_pos_z\"]].values\n",
    "    ot_quat = df[[\"ot_qw\", \"ot_qx\", \"ot_qy\", \"ot_qz\"]].values\n",
    "\n",
    "    # 1. Handle IMU acceleration\n",
    "    # We'll keep accelerations as they are, since they're already rates of change\n",
    "    # But we'll transform them to the world frame using IMU orientations\n",
    "    imu_rotations = Rotation.from_euler(\"xyz\", imu_orientation)\n",
    "    world_acc = imu_rotations.apply(imu_acc)\n",
    "\n",
    "    # 2. Calculate OT velocities (as an analog to accelerations)\n",
    "    ot_vel = np.diff(ot_pos, axis=0, prepend=ot_pos[0][np.newaxis, :])\n",
    "\n",
    "    # 3. Align IMU and OT trajectories using PCA\n",
    "    # Combine world_acc and ot_vel for PCA\n",
    "    combined_data = np.hstack((world_acc, ot_vel))\n",
    "    pca = PCA(n_components=3)\n",
    "    pca.fit(combined_data)\n",
    "\n",
    "    # Transform both datasets to the PCA space\n",
    "    world_acc_pca = pca.transform(world_acc)\n",
    "    ot_vel_pca = pca.transform(ot_vel)\n",
    "\n",
    "    # 4. Find the rotation between PCA space and OT space\n",
    "    ot_rotations = Rotation.from_quat(ot_quat)\n",
    "    pca_to_ot_rotation = Rotation.align_vectors(ot_vel, ot_vel_pca)[0]\n",
    "\n",
    "    # 5. Transform IMU data to OT space\n",
    "    aligned_imu_acc = pca_to_ot_rotation.apply(world_acc_pca)\n",
    "\n",
    "    # 6. Calculate relative rotations for OT data\n",
    "    ot_rel_rotations = ot_rotations[:-1].inv() * ot_rotations[1:]\n",
    "    ot_rel_quats = ot_rel_rotations.as_quat()\n",
    "\n",
    "    # Prepare the preprocessed dataframe\n",
    "    preprocessed_df = pd.DataFrame(\n",
    "        {\n",
    "            \"aligned_imu_acc_x\": aligned_imu_acc[:, 0],\n",
    "            \"aligned_imu_acc_y\": aligned_imu_acc[:, 1],\n",
    "            \"aligned_imu_acc_z\": aligned_imu_acc[:, 2],\n",
    "            \"imu_orientation_x\": imu_orientation[:, 0],\n",
    "            \"imu_orientation_y\": imu_orientation[:, 1],\n",
    "            \"imu_orientation_z\": imu_orientation[:, 2],\n",
    "            \"ot_vel_x\": ot_vel[:, 0],\n",
    "            \"ot_vel_y\": ot_vel[:, 1],\n",
    "            \"ot_vel_z\": ot_vel[:, 2],\n",
    "        }\n",
    "    )\n",
    "\n",
    "    # Add relative rotation quaternions\n",
    "    for i in range(4):\n",
    "        preprocessed_df[f\"ot_rel_quat_{i}\"] = np.pad(\n",
    "            ot_rel_quats[:, i], (0, 1), mode=\"edge\"\n",
    "        )\n",
    "\n",
    "    # Add original frame data\n",
    "    preprocessed_df[\"frame\"] = df[\"frame\"]\n",
    "\n",
    "    return preprocessed_df, pca_to_ot_rotation"
   ]
  },
  {
   "cell_type": "code",
   "execution_count": 27,
   "metadata": {},
   "outputs": [
    {
     "data": {
      "text/html": [
       "<div>\n",
       "<style scoped>\n",
       "    .dataframe tbody tr th:only-of-type {\n",
       "        vertical-align: middle;\n",
       "    }\n",
       "\n",
       "    .dataframe tbody tr th {\n",
       "        vertical-align: top;\n",
       "    }\n",
       "\n",
       "    .dataframe thead th {\n",
       "        text-align: right;\n",
       "    }\n",
       "</style>\n",
       "<table border=\"1\" class=\"dataframe\">\n",
       "  <thead>\n",
       "    <tr style=\"text-align: right;\">\n",
       "      <th></th>\n",
       "      <th>timestamp</th>\n",
       "      <th>frame</th>\n",
       "      <th>imu_acc_x</th>\n",
       "      <th>imu_acc_y</th>\n",
       "      <th>imu_acc_z</th>\n",
       "      <th>imu_orientation_x</th>\n",
       "      <th>imu_orientation_y</th>\n",
       "      <th>imu_orientation_z</th>\n",
       "      <th>ot_pos_x</th>\n",
       "      <th>ot_pos_y</th>\n",
       "      <th>ot_pos_z</th>\n",
       "      <th>ot_qw</th>\n",
       "      <th>ot_qx</th>\n",
       "      <th>ot_qy</th>\n",
       "      <th>ot_qz</th>\n",
       "    </tr>\n",
       "  </thead>\n",
       "  <tbody>\n",
       "    <tr>\n",
       "      <th>0</th>\n",
       "      <td>2024-08-14 14:04:53.612948</td>\n",
       "      <td>[[[35, 38, 38], [41, 44, 44], [54, 57, 57], [5...</td>\n",
       "      <td>0.00518</td>\n",
       "      <td>-0.002743</td>\n",
       "      <td>-0.098182</td>\n",
       "      <td>-0.034068</td>\n",
       "      <td>0.040456</td>\n",
       "      <td>0.043649</td>\n",
       "      <td>108.045212</td>\n",
       "      <td>28.900089</td>\n",
       "      <td>-969.858948</td>\n",
       "      <td>0.719787</td>\n",
       "      <td>0.255863</td>\n",
       "      <td>-0.57866</td>\n",
       "      <td>0.285646</td>\n",
       "    </tr>\n",
       "    <tr>\n",
       "      <th>1</th>\n",
       "      <td>2024-08-14 14:04:53.712948</td>\n",
       "      <td>[[[35, 38, 38], [41, 44, 44], [54, 57, 57], [5...</td>\n",
       "      <td>0.00518</td>\n",
       "      <td>-0.002743</td>\n",
       "      <td>-0.098182</td>\n",
       "      <td>-0.034068</td>\n",
       "      <td>0.040456</td>\n",
       "      <td>0.043649</td>\n",
       "      <td>108.045212</td>\n",
       "      <td>28.900089</td>\n",
       "      <td>-969.858948</td>\n",
       "      <td>0.719787</td>\n",
       "      <td>0.255863</td>\n",
       "      <td>-0.57866</td>\n",
       "      <td>0.285646</td>\n",
       "    </tr>\n",
       "    <tr>\n",
       "      <th>2</th>\n",
       "      <td>2024-08-14 14:04:53.812948</td>\n",
       "      <td>[[[35, 38, 38], [41, 44, 44], [54, 57, 57], [5...</td>\n",
       "      <td>0.00518</td>\n",
       "      <td>-0.002743</td>\n",
       "      <td>-0.098182</td>\n",
       "      <td>-0.034068</td>\n",
       "      <td>0.040456</td>\n",
       "      <td>0.043649</td>\n",
       "      <td>108.045212</td>\n",
       "      <td>28.900089</td>\n",
       "      <td>-969.858948</td>\n",
       "      <td>0.719787</td>\n",
       "      <td>0.255863</td>\n",
       "      <td>-0.57866</td>\n",
       "      <td>0.285646</td>\n",
       "    </tr>\n",
       "    <tr>\n",
       "      <th>3</th>\n",
       "      <td>2024-08-14 14:04:53.912948</td>\n",
       "      <td>[[[41, 44, 44], [49, 52, 52], [61, 64, 64], [6...</td>\n",
       "      <td>0.00518</td>\n",
       "      <td>-0.002743</td>\n",
       "      <td>-0.098182</td>\n",
       "      <td>-0.034068</td>\n",
       "      <td>0.040456</td>\n",
       "      <td>0.043649</td>\n",
       "      <td>108.045212</td>\n",
       "      <td>28.900089</td>\n",
       "      <td>-969.858948</td>\n",
       "      <td>0.719787</td>\n",
       "      <td>0.255863</td>\n",
       "      <td>-0.57866</td>\n",
       "      <td>0.285646</td>\n",
       "    </tr>\n",
       "    <tr>\n",
       "      <th>4</th>\n",
       "      <td>2024-08-14 14:04:54.012948</td>\n",
       "      <td>[[[42, 45, 45], [49, 52, 52], [61, 64, 64], [6...</td>\n",
       "      <td>0.00518</td>\n",
       "      <td>-0.002743</td>\n",
       "      <td>-0.098182</td>\n",
       "      <td>-0.034068</td>\n",
       "      <td>0.040456</td>\n",
       "      <td>0.043649</td>\n",
       "      <td>108.045212</td>\n",
       "      <td>28.900089</td>\n",
       "      <td>-969.858948</td>\n",
       "      <td>0.719787</td>\n",
       "      <td>0.255863</td>\n",
       "      <td>-0.57866</td>\n",
       "      <td>0.285646</td>\n",
       "    </tr>\n",
       "  </tbody>\n",
       "</table>\n",
       "</div>"
      ],
      "text/plain": [
       "                   timestamp  \\\n",
       "0 2024-08-14 14:04:53.612948   \n",
       "1 2024-08-14 14:04:53.712948   \n",
       "2 2024-08-14 14:04:53.812948   \n",
       "3 2024-08-14 14:04:53.912948   \n",
       "4 2024-08-14 14:04:54.012948   \n",
       "\n",
       "                                               frame  imu_acc_x  imu_acc_y  \\\n",
       "0  [[[35, 38, 38], [41, 44, 44], [54, 57, 57], [5...    0.00518  -0.002743   \n",
       "1  [[[35, 38, 38], [41, 44, 44], [54, 57, 57], [5...    0.00518  -0.002743   \n",
       "2  [[[35, 38, 38], [41, 44, 44], [54, 57, 57], [5...    0.00518  -0.002743   \n",
       "3  [[[41, 44, 44], [49, 52, 52], [61, 64, 64], [6...    0.00518  -0.002743   \n",
       "4  [[[42, 45, 45], [49, 52, 52], [61, 64, 64], [6...    0.00518  -0.002743   \n",
       "\n",
       "   imu_acc_z  imu_orientation_x  imu_orientation_y  imu_orientation_z  \\\n",
       "0  -0.098182          -0.034068           0.040456           0.043649   \n",
       "1  -0.098182          -0.034068           0.040456           0.043649   \n",
       "2  -0.098182          -0.034068           0.040456           0.043649   \n",
       "3  -0.098182          -0.034068           0.040456           0.043649   \n",
       "4  -0.098182          -0.034068           0.040456           0.043649   \n",
       "\n",
       "     ot_pos_x   ot_pos_y    ot_pos_z     ot_qw     ot_qx    ot_qy     ot_qz  \n",
       "0  108.045212  28.900089 -969.858948  0.719787  0.255863 -0.57866  0.285646  \n",
       "1  108.045212  28.900089 -969.858948  0.719787  0.255863 -0.57866  0.285646  \n",
       "2  108.045212  28.900089 -969.858948  0.719787  0.255863 -0.57866  0.285646  \n",
       "3  108.045212  28.900089 -969.858948  0.719787  0.255863 -0.57866  0.285646  \n",
       "4  108.045212  28.900089 -969.858948  0.719787  0.255863 -0.57866  0.285646  "
      ]
     },
     "execution_count": 27,
     "metadata": {},
     "output_type": "execute_result"
    }
   ],
   "source": [
    "import pandas as pd\n",
    "\n",
    "pd.read_hdf(\"/home/varun/xia_lab/repos/ABUSFusion/scans/20240826/wrist_data.h5\").head()"
   ]
  },
  {
   "cell_type": "code",
   "execution_count": 28,
   "metadata": {},
   "outputs": [
    {
     "data": {
      "text/plain": [
       "((500,), (1000, 657, 3))"
      ]
     },
     "execution_count": 28,
     "metadata": {},
     "output_type": "execute_result"
    }
   ],
   "source": [
    "df[\"frame\"].values.shape, df[\"frame\"].values[0].shape"
   ]
  },
  {
   "cell_type": "code",
   "execution_count": null,
   "metadata": {},
   "outputs": [],
   "source": []
  }
 ],
 "metadata": {
  "kernelspec": {
   "display_name": "abusfusion",
   "language": "python",
   "name": "python3"
  },
  "language_info": {
   "codemirror_mode": {
    "name": "ipython",
    "version": 3
   },
   "file_extension": ".py",
   "mimetype": "text/x-python",
   "name": "python",
   "nbconvert_exporter": "python",
   "pygments_lexer": "ipython3",
   "version": "3.11.9"
  }
 },
 "nbformat": 4,
 "nbformat_minor": 2
}
