{
 "cells": [
  {
   "cell_type": "markdown",
   "id": "43299b3a-65c5-4102-a44d-2b71bdafba8c",
   "metadata": {},
   "source": [
    "# Ultrasound Reconstruction with IMU and Optical Tracker Data\n"
   ]
  },
  {
   "cell_type": "markdown",
   "id": "8e5a29c4-d0a7-44c9-b526-76338b3bfbf6",
   "metadata": {},
   "source": [
    "## 1. Import Libraries\n"
   ]
  },
  {
   "cell_type": "code",
   "execution_count": 26,
   "id": "04e9bfad-9558-427d-8269-10559d66718b",
   "metadata": {},
   "outputs": [],
   "source": [
    "import matplotlib.pyplot as plt\n",
    "import numpy as np\n",
    "import pandas as pd\n",
    "import torch\n",
    "import torch.nn as nn\n",
    "import torch.optim as optim\n",
    "import torchvision.transforms as transforms\n",
    "from mpl_toolkits.mplot3d import Axes3D\n",
    "from scipy.interpolate import RegularGridInterpolator\n",
    "from scipy.spatial.transform import Rotation\n",
    "from sklearn.model_selection import train_test_split\n",
    "from torch.optim.lr_scheduler import ReduceLROnPlateau\n",
    "from torch.utils.data import DataLoader, Dataset, SubsetRandomSampler\n",
    "from tqdm.notebook import tqdm"
   ]
  },
  {
   "cell_type": "markdown",
   "id": "185a259b-1089-4036-a276-8ce5ad907dbc",
   "metadata": {},
   "source": [
    "## 2. Load and Preprocess Data\n"
   ]
  },
  {
   "cell_type": "code",
   "execution_count": 2,
   "id": "77b2309c-bff9-40ac-b573-b8aaef8ff903",
   "metadata": {},
   "outputs": [],
   "source": [
    "def load_data(file_path):\n",
    "    return pd.read_hdf(file_path)\n",
    "\n",
    "\n",
    "file_path = \"/home/varun/xia_lab/repos/ABUSFusion/scans/20240826/wrist_data.h5\"\n",
    "df = load_data(file_path)"
   ]
  },
  {
   "cell_type": "markdown",
   "id": "756692c6-85bb-4dda-8adf-c86bb398cfa5",
   "metadata": {},
   "source": [
    "## 3. Create Dataset and DataLoader\n"
   ]
  },
  {
   "cell_type": "code",
   "execution_count": 3,
   "id": "8e73baa4-ed55-440b-93b4-16a462d24fed",
   "metadata": {},
   "outputs": [],
   "source": [
    "class UltrasoundSequenceDataset(Dataset):\n",
    "    def __init__(self, df, sequence_length=10, transform=None, downsample_factor=3):\n",
    "        self.df = df\n",
    "        self.sequence_length = sequence_length\n",
    "        self.transform = transform\n",
    "        self.downsample_factor = downsample_factor\n",
    "\n",
    "        # Create a resizing transform\n",
    "        self.resize = transforms.Resize(\n",
    "            (1000 // self.downsample_factor, 657 // self.downsample_factor)\n",
    "        )\n",
    "\n",
    "    def __len__(self):\n",
    "        return len(self.df) - self.sequence_length + 1\n",
    "\n",
    "    def __getitem__(self, idx):\n",
    "        sequence = self.df.iloc[idx : idx + self.sequence_length]\n",
    "\n",
    "        frames = torch.tensor(np.stack(sequence[\"frame\"].values)).float()\n",
    "        frames = frames.mean(dim=-1, keepdim=True)  # Convert RGB to grayscale\n",
    "        frames = frames.permute(\n",
    "            0, 3, 1, 2\n",
    "        )  # Change to (sequence_length, channels, height, width)\n",
    "\n",
    "        # Apply resizing to each frame in the sequence\n",
    "        resized_frames = torch.stack([self.resize(frame) for frame in frames])\n",
    "\n",
    "        imu_data = torch.tensor(\n",
    "            sequence[\n",
    "                [\n",
    "                    \"imu_acc_x\",\n",
    "                    \"imu_acc_y\",\n",
    "                    \"imu_acc_z\",\n",
    "                    \"imu_orientation_x\",\n",
    "                    \"imu_orientation_y\",\n",
    "                    \"imu_orientation_z\",\n",
    "                ]\n",
    "            ].values\n",
    "        ).float()\n",
    "\n",
    "        ot_data = torch.tensor(\n",
    "            sequence[\n",
    "                [\"ot_pos_x\", \"ot_pos_y\", \"ot_pos_z\", \"ot_qw\", \"ot_qx\", \"ot_qy\", \"ot_qz\"]\n",
    "            ].values\n",
    "        ).float()\n",
    "\n",
    "        sample = (resized_frames, imu_data, ot_data)\n",
    "\n",
    "        if self.transform:\n",
    "            sample = self.transform(sample)\n",
    "\n",
    "        return sample"
   ]
  },
  {
   "cell_type": "code",
   "execution_count": 4,
   "metadata": {},
   "outputs": [],
   "source": [
    "class QuaternionToEulerTransform:\n",
    "    def __call__(self, sample):\n",
    "        frames, imu_data, ot_data = sample\n",
    "\n",
    "        ot_pos = ot_data[..., :3]\n",
    "        ot_quat = ot_data[..., 3:]\n",
    "\n",
    "        w, x, y, z = ot_quat.unbind(-1)\n",
    "\n",
    "        t0 = 2.0 * (w * x + y * z)\n",
    "        t1 = 1.0 - 2.0 * (x * x + y * y)\n",
    "        ex = torch.atan2(t0, t1)\n",
    "\n",
    "        t2 = 2.0 * (w * y - z * x)\n",
    "        t2 = torch.clamp(t2, -1.0, 1.0)\n",
    "        ey = torch.asin(t2)\n",
    "\n",
    "        t3 = 2.0 * (w * z + x * y)\n",
    "        t4 = 1.0 - 2.0 * (y * y + z * z)\n",
    "        ez = torch.atan2(t3, t4)\n",
    "\n",
    "        ot_euler = torch.stack([ex, ey, ez], dim=-1)\n",
    "        target = torch.cat([ot_pos, ot_euler], dim=-1)\n",
    "\n",
    "        return frames, imu_data, target"
   ]
  },
  {
   "cell_type": "code",
   "execution_count": 5,
   "metadata": {},
   "outputs": [],
   "source": [
    "# Create datasets and dataloaders\n",
    "transform = QuaternionToEulerTransform()\n",
    "dataset = UltrasoundSequenceDataset(\n",
    "    df, sequence_length=10, transform=transform, downsample_factor=3\n",
    ")"
   ]
  },
  {
   "cell_type": "code",
   "execution_count": 6,
   "metadata": {},
   "outputs": [],
   "source": [
    "# Split the dataset\n",
    "train_indices, val_indices = train_test_split(\n",
    "    range(len(dataset)), test_size=0.2, random_state=42\n",
    ")"
   ]
  },
  {
   "cell_type": "code",
   "execution_count": 7,
   "metadata": {},
   "outputs": [],
   "source": [
    "train_sampler = SubsetRandomSampler(train_indices)\n",
    "val_sampler = SubsetRandomSampler(val_indices)"
   ]
  },
  {
   "cell_type": "code",
   "execution_count": 8,
   "metadata": {},
   "outputs": [],
   "source": [
    "train_loader = DataLoader(dataset, batch_size=8, sampler=train_sampler)\n",
    "val_loader = DataLoader(dataset, batch_size=1, sampler=val_sampler)"
   ]
  },
  {
   "cell_type": "markdown",
   "id": "cd207795-7728-4192-9157-61aa23bda049",
   "metadata": {},
   "source": [
    "## 4. Define Model Architecture\n"
   ]
  },
  {
   "cell_type": "code",
   "execution_count": 9,
   "id": "610bbecd-a4a4-4906-b47e-7b5bdad63b27",
   "metadata": {},
   "outputs": [],
   "source": [
    "class UltrasoundGRUModel(nn.Module):\n",
    "    def __init__(self, input_channels=1, input_height=1000, input_width=657):\n",
    "        super(UltrasoundGRUModel, self).__init__()\n",
    "        self.conv1 = nn.Conv2d(input_channels, 32, kernel_size=3, padding=1)\n",
    "        self.conv2 = nn.Conv2d(32, 64, kernel_size=3, padding=1)\n",
    "        self.pool = nn.MaxPool2d(2, 2)\n",
    "\n",
    "        conv_output_height = input_height // 4\n",
    "        conv_output_width = input_width // 4\n",
    "\n",
    "        self.gru = nn.GRU(\n",
    "            64 * conv_output_height * conv_output_width + 6, 128, batch_first=True\n",
    "        )\n",
    "        self.fc = nn.Linear(128, 6)  # Output: tx, ty, tz, ex, ey, ez\n",
    "\n",
    "    def forward(self, frames, imu_data):\n",
    "        batch_size, seq_len, _, height, width = frames.shape\n",
    "\n",
    "        frame_features = []\n",
    "        for i in range(seq_len):\n",
    "            x = self.pool(torch.relu(self.conv1(frames[:, i, :, :, :])))\n",
    "            x = self.pool(torch.relu(self.conv2(x)))\n",
    "            frame_features.append(x.view(batch_size, -1))\n",
    "\n",
    "        combined_features = torch.cat(\n",
    "            [torch.stack(frame_features, dim=1), imu_data], dim=2\n",
    "        )\n",
    "\n",
    "        gru_out, _ = self.gru(combined_features)\n",
    "\n",
    "        transformations = self.fc(gru_out)\n",
    "\n",
    "        return transformations"
   ]
  },
  {
   "cell_type": "code",
   "execution_count": 10,
   "metadata": {},
   "outputs": [],
   "source": [
    "# Initialize model\n",
    "model = UltrasoundGRUModel(\n",
    "    input_channels=1, input_height=1000 // 3, input_width=657 // 3\n",
    ")"
   ]
  },
  {
   "cell_type": "markdown",
   "id": "483cdd1b-8f7f-4ddf-a755-fb6201d6c723",
   "metadata": {},
   "source": [
    "## 5. Train Model\n"
   ]
  },
  {
   "cell_type": "code",
   "execution_count": 11,
   "id": "9ded850e-fb10-463f-b2d1-ff2a461b43ca",
   "metadata": {},
   "outputs": [
    {
     "name": "stderr",
     "output_type": "stream",
     "text": [
      "/home/varun/mambaforge/envs/abusfusion/lib/python3.12/site-packages/torch/optim/lr_scheduler.py:60: UserWarning: The verbose parameter is deprecated. Please use get_last_lr() to access the learning rate.\n",
      "  warnings.warn(\n"
     ]
    }
   ],
   "source": [
    "device = torch.device(\"cuda\" if torch.cuda.is_available() else \"cpu\")\n",
    "model = model.to(device)\n",
    "criterion = nn.L1Loss()\n",
    "optimizer = torch.optim.Adam(model.parameters(), lr=0.005)\n",
    "scheduler = ReduceLROnPlateau(\n",
    "    optimizer, mode=\"min\", factor=0.1, patience=5, verbose=True\n",
    ")"
   ]
  },
  {
   "cell_type": "code",
   "execution_count": 12,
   "metadata": {},
   "outputs": [],
   "source": [
    "def train_model(\n",
    "    model,\n",
    "    train_loader,\n",
    "    val_loader,\n",
    "    criterion,\n",
    "    optimizer,\n",
    "    scheduler,\n",
    "    num_epochs=100,\n",
    "    patience=10,\n",
    "):\n",
    "    device = torch.device(\"cuda\" if torch.cuda.is_available() else \"cpu\")\n",
    "    model = model.to(device)\n",
    "\n",
    "    best_val_loss = float(\"inf\")\n",
    "    best_model_weights = None\n",
    "    epochs_no_improve = 0\n",
    "\n",
    "    for epoch in tqdm(range(num_epochs), desc=\"Epochs\", position=0):\n",
    "        model.train()\n",
    "        train_loss = 0.0\n",
    "        epoch_progress = tqdm(\n",
    "            train_loader, desc=f\"Epoch {epoch+1}/{num_epochs}\", position=1, leave=False\n",
    "        )\n",
    "        for frames, imu_data, targets in epoch_progress:\n",
    "            frames, imu_data, targets = (\n",
    "                frames.to(device),\n",
    "                imu_data.to(device),\n",
    "                targets.to(device),\n",
    "            )\n",
    "\n",
    "            optimizer.zero_grad()\n",
    "            outputs = model(frames, imu_data)\n",
    "            loss = criterion(outputs, targets)\n",
    "            loss.backward()\n",
    "            optimizer.step()\n",
    "\n",
    "            train_loss += loss.item()\n",
    "            train_loss_avg = train_loss / (epoch_progress.n + 1)\n",
    "\n",
    "            epoch_progress.set_postfix({\"Avg Loss\": f\"{train_loss_avg:.4f}\"})\n",
    "\n",
    "        # Validation\n",
    "        model.eval()\n",
    "        val_loss = 0.0\n",
    "        with torch.no_grad():\n",
    "            for frames, imu_data, targets in val_loader:\n",
    "                frames, imu_data, targets = (\n",
    "                    frames.to(device),\n",
    "                    imu_data.to(device),\n",
    "                    targets.to(device),\n",
    "                )\n",
    "                outputs = model(frames, imu_data)\n",
    "                loss = criterion(outputs, targets)\n",
    "                val_loss += loss.item()\n",
    "\n",
    "        val_loss /= len(val_loader)\n",
    "\n",
    "        scheduler.step(val_loss)\n",
    "\n",
    "        tqdm.write(\n",
    "            f\"Epoch {epoch+1}/{num_epochs}, Train Loss: {train_loss_avg:.4f}, Val Loss: {val_loss:.4f}\"\n",
    "        )\n",
    "\n",
    "        if val_loss < best_val_loss:\n",
    "            best_val_loss = val_loss\n",
    "            best_model_weights = model.state_dict().copy()\n",
    "            epochs_no_improve = 0\n",
    "        else:\n",
    "            epochs_no_improve += 1\n",
    "            if epochs_no_improve == patience:\n",
    "                tqdm.write(\"Early stopping triggered\")\n",
    "                break\n",
    "\n",
    "    model.load_state_dict(best_model_weights)\n",
    "    return model"
   ]
  },
  {
   "cell_type": "code",
   "execution_count": 13,
   "metadata": {},
   "outputs": [
    {
     "data": {
      "application/vnd.jupyter.widget-view+json": {
       "model_id": "e1ccc45025174c92a61ac62b4f4d39f4",
       "version_major": 2,
       "version_minor": 0
      },
      "text/plain": [
       "Epochs:   0%|          | 0/100 [00:00<?, ?it/s]"
      ]
     },
     "metadata": {},
     "output_type": "display_data"
    },
    {
     "data": {
      "application/vnd.jupyter.widget-view+json": {
       "model_id": "3ebe927641d748bcbb172338a6985504",
       "version_major": 2,
       "version_minor": 0
      },
      "text/plain": [
       "Epoch 1/100:   0%|          | 0/49 [00:00<?, ?it/s]"
      ]
     },
     "metadata": {},
     "output_type": "display_data"
    },
    {
     "name": "stdout",
     "output_type": "stream",
     "text": [
      "Epoch 1/100, Train Loss: 177.8905, Val Loss: 173.1926\n"
     ]
    },
    {
     "data": {
      "application/vnd.jupyter.widget-view+json": {
       "model_id": "6817e4eb49a648c8a997acf7e574b6ab",
       "version_major": 2,
       "version_minor": 0
      },
      "text/plain": [
       "Epoch 2/100:   0%|          | 0/49 [00:00<?, ?it/s]"
      ]
     },
     "metadata": {},
     "output_type": "display_data"
    },
    {
     "name": "stdout",
     "output_type": "stream",
     "text": [
      "Epoch 2/100, Train Loss: 169.5041, Val Loss: 165.6274\n"
     ]
    },
    {
     "data": {
      "application/vnd.jupyter.widget-view+json": {
       "model_id": "681694f1079d43ba8b10efc9c9076a7a",
       "version_major": 2,
       "version_minor": 0
      },
      "text/plain": [
       "Epoch 3/100:   0%|          | 0/49 [00:00<?, ?it/s]"
      ]
     },
     "metadata": {},
     "output_type": "display_data"
    },
    {
     "name": "stdout",
     "output_type": "stream",
     "text": [
      "Epoch 3/100, Train Loss: 163.1310, Val Loss: 159.9327\n"
     ]
    },
    {
     "data": {
      "application/vnd.jupyter.widget-view+json": {
       "model_id": "9afea5ddec424d71b5711129eaa6a4a4",
       "version_major": 2,
       "version_minor": 0
      },
      "text/plain": [
       "Epoch 4/100:   0%|          | 0/49 [00:00<?, ?it/s]"
      ]
     },
     "metadata": {},
     "output_type": "display_data"
    },
    {
     "name": "stdout",
     "output_type": "stream",
     "text": [
      "Epoch 4/100, Train Loss: 157.5188, Val Loss: 154.3187\n"
     ]
    },
    {
     "data": {
      "application/vnd.jupyter.widget-view+json": {
       "model_id": "279ef65df1574ad8aff3d49aba31604f",
       "version_major": 2,
       "version_minor": 0
      },
      "text/plain": [
       "Epoch 5/100:   0%|          | 0/49 [00:00<?, ?it/s]"
      ]
     },
     "metadata": {},
     "output_type": "display_data"
    },
    {
     "name": "stdout",
     "output_type": "stream",
     "text": [
      "Epoch 5/100, Train Loss: 151.9285, Val Loss: 148.7276\n"
     ]
    },
    {
     "data": {
      "application/vnd.jupyter.widget-view+json": {
       "model_id": "d736f71fcbb04ec4a8f74171ffefc95f",
       "version_major": 2,
       "version_minor": 0
      },
      "text/plain": [
       "Epoch 6/100:   0%|          | 0/49 [00:00<?, ?it/s]"
      ]
     },
     "metadata": {},
     "output_type": "display_data"
    },
    {
     "name": "stdout",
     "output_type": "stream",
     "text": [
      "Epoch 6/100, Train Loss: 146.3399, Val Loss: 143.1533\n"
     ]
    },
    {
     "data": {
      "application/vnd.jupyter.widget-view+json": {
       "model_id": "4291ed36592248ca89456397f9637ebe",
       "version_major": 2,
       "version_minor": 0
      },
      "text/plain": [
       "Epoch 7/100:   0%|          | 0/49 [00:00<?, ?it/s]"
      ]
     },
     "metadata": {},
     "output_type": "display_data"
    },
    {
     "name": "stdout",
     "output_type": "stream",
     "text": [
      "Epoch 7/100, Train Loss: 141.1520, Val Loss: 139.0445\n"
     ]
    },
    {
     "data": {
      "application/vnd.jupyter.widget-view+json": {
       "model_id": "c74dc0319cc04ef28a93995516ff32ee",
       "version_major": 2,
       "version_minor": 0
      },
      "text/plain": [
       "Epoch 8/100:   0%|          | 0/49 [00:00<?, ?it/s]"
      ]
     },
     "metadata": {},
     "output_type": "display_data"
    },
    {
     "name": "stdout",
     "output_type": "stream",
     "text": [
      "Epoch 8/100, Train Loss: 138.0039, Val Loss: 136.2455\n"
     ]
    },
    {
     "data": {
      "application/vnd.jupyter.widget-view+json": {
       "model_id": "c5bbbb0680a6409984f813957ab4f7c9",
       "version_major": 2,
       "version_minor": 0
      },
      "text/plain": [
       "Epoch 9/100:   0%|          | 0/49 [00:00<?, ?it/s]"
      ]
     },
     "metadata": {},
     "output_type": "display_data"
    },
    {
     "name": "stdout",
     "output_type": "stream",
     "text": [
      "Epoch 9/100, Train Loss: 135.2169, Val Loss: 133.4641\n"
     ]
    },
    {
     "data": {
      "application/vnd.jupyter.widget-view+json": {
       "model_id": "9880c6dbdec94aa393ecc44ea17403a7",
       "version_major": 2,
       "version_minor": 0
      },
      "text/plain": [
       "Epoch 10/100:   0%|          | 0/49 [00:00<?, ?it/s]"
      ]
     },
     "metadata": {},
     "output_type": "display_data"
    },
    {
     "name": "stdout",
     "output_type": "stream",
     "text": [
      "Epoch 10/100, Train Loss: 132.4399, Val Loss: 130.7116\n"
     ]
    },
    {
     "data": {
      "application/vnd.jupyter.widget-view+json": {
       "model_id": "d8467ea955ff4566a45989126781cb3a",
       "version_major": 2,
       "version_minor": 0
      },
      "text/plain": [
       "Epoch 11/100:   0%|          | 0/49 [00:00<?, ?it/s]"
      ]
     },
     "metadata": {},
     "output_type": "display_data"
    },
    {
     "name": "stdout",
     "output_type": "stream",
     "text": [
      "Epoch 11/100, Train Loss: 129.6570, Val Loss: 127.9068\n"
     ]
    },
    {
     "data": {
      "application/vnd.jupyter.widget-view+json": {
       "model_id": "47b4dfcd69564b178bec426ab2fe5526",
       "version_major": 2,
       "version_minor": 0
      },
      "text/plain": [
       "Epoch 12/100:   0%|          | 0/49 [00:00<?, ?it/s]"
      ]
     },
     "metadata": {},
     "output_type": "display_data"
    },
    {
     "name": "stdout",
     "output_type": "stream",
     "text": [
      "Epoch 12/100, Train Loss: 126.8762, Val Loss: 125.1415\n"
     ]
    },
    {
     "data": {
      "application/vnd.jupyter.widget-view+json": {
       "model_id": "327f1237d897497da74b73ab43662720",
       "version_major": 2,
       "version_minor": 0
      },
      "text/plain": [
       "Epoch 13/100:   0%|          | 0/49 [00:00<?, ?it/s]"
      ]
     },
     "metadata": {},
     "output_type": "display_data"
    },
    {
     "name": "stdout",
     "output_type": "stream",
     "text": [
      "Epoch 13/100, Train Loss: 124.0994, Val Loss: 122.3314\n"
     ]
    },
    {
     "data": {
      "application/vnd.jupyter.widget-view+json": {
       "model_id": "7d64bd3b9fdb429da9e899922b6cfdb5",
       "version_major": 2,
       "version_minor": 0
      },
      "text/plain": [
       "Epoch 14/100:   0%|          | 0/49 [00:00<?, ?it/s]"
      ]
     },
     "metadata": {},
     "output_type": "display_data"
    },
    {
     "name": "stdout",
     "output_type": "stream",
     "text": [
      "Epoch 14/100, Train Loss: 121.3150, Val Loss: 119.5538\n"
     ]
    },
    {
     "data": {
      "application/vnd.jupyter.widget-view+json": {
       "model_id": "4ca9529860054df7ba72874d1676fda7",
       "version_major": 2,
       "version_minor": 0
      },
      "text/plain": [
       "Epoch 15/100:   0%|          | 0/49 [00:00<?, ?it/s]"
      ]
     },
     "metadata": {},
     "output_type": "display_data"
    },
    {
     "name": "stdout",
     "output_type": "stream",
     "text": [
      "Epoch 15/100, Train Loss: 118.5353, Val Loss: 116.7682\n"
     ]
    },
    {
     "data": {
      "application/vnd.jupyter.widget-view+json": {
       "model_id": "1f354c4854c246acaa044fdaec22c8f8",
       "version_major": 2,
       "version_minor": 0
      },
      "text/plain": [
       "Epoch 16/100:   0%|          | 0/49 [00:00<?, ?it/s]"
      ]
     },
     "metadata": {},
     "output_type": "display_data"
    },
    {
     "name": "stdout",
     "output_type": "stream",
     "text": [
      "Epoch 16/100, Train Loss: 115.7567, Val Loss: 114.0180\n"
     ]
    },
    {
     "data": {
      "application/vnd.jupyter.widget-view+json": {
       "model_id": "ee893e5cb32747b4b15a5321a27943e9",
       "version_major": 2,
       "version_minor": 0
      },
      "text/plain": [
       "Epoch 17/100:   0%|          | 0/49 [00:00<?, ?it/s]"
      ]
     },
     "metadata": {},
     "output_type": "display_data"
    },
    {
     "name": "stdout",
     "output_type": "stream",
     "text": [
      "Epoch 17/100, Train Loss: 112.9770, Val Loss: 111.2265\n"
     ]
    },
    {
     "data": {
      "application/vnd.jupyter.widget-view+json": {
       "model_id": "4d73e19cee354890a63ff0411eb9de92",
       "version_major": 2,
       "version_minor": 0
      },
      "text/plain": [
       "Epoch 18/100:   0%|          | 0/49 [00:00<?, ?it/s]"
      ]
     },
     "metadata": {},
     "output_type": "display_data"
    },
    {
     "name": "stdout",
     "output_type": "stream",
     "text": [
      "Epoch 18/100, Train Loss: 110.1878, Val Loss: 108.4302\n"
     ]
    },
    {
     "data": {
      "application/vnd.jupyter.widget-view+json": {
       "model_id": "ae8b8470955045439c608a669c50a4f5",
       "version_major": 2,
       "version_minor": 0
      },
      "text/plain": [
       "Epoch 19/100:   0%|          | 0/49 [00:00<?, ?it/s]"
      ]
     },
     "metadata": {},
     "output_type": "display_data"
    },
    {
     "name": "stdout",
     "output_type": "stream",
     "text": [
      "Epoch 19/100, Train Loss: 107.4094, Val Loss: 105.6689\n"
     ]
    },
    {
     "data": {
      "application/vnd.jupyter.widget-view+json": {
       "model_id": "f3c0eb871add4b418267b061514cc004",
       "version_major": 2,
       "version_minor": 0
      },
      "text/plain": [
       "Epoch 20/100:   0%|          | 0/49 [00:00<?, ?it/s]"
      ]
     },
     "metadata": {},
     "output_type": "display_data"
    },
    {
     "name": "stdout",
     "output_type": "stream",
     "text": [
      "Epoch 20/100, Train Loss: 104.6296, Val Loss: 102.9176\n"
     ]
    },
    {
     "data": {
      "application/vnd.jupyter.widget-view+json": {
       "model_id": "d19ec19ea0f846e8952442f96e3f4b55",
       "version_major": 2,
       "version_minor": 0
      },
      "text/plain": [
       "Epoch 21/100:   0%|          | 0/49 [00:00<?, ?it/s]"
      ]
     },
     "metadata": {},
     "output_type": "display_data"
    },
    {
     "name": "stdout",
     "output_type": "stream",
     "text": [
      "Epoch 21/100, Train Loss: 101.8591, Val Loss: 100.1046\n"
     ]
    },
    {
     "data": {
      "application/vnd.jupyter.widget-view+json": {
       "model_id": "0385a74a4b2947a5bb19c5345951da08",
       "version_major": 2,
       "version_minor": 0
      },
      "text/plain": [
       "Epoch 22/100:   0%|          | 0/49 [00:00<?, ?it/s]"
      ]
     },
     "metadata": {},
     "output_type": "display_data"
    },
    {
     "name": "stdout",
     "output_type": "stream",
     "text": [
      "Epoch 22/100, Train Loss: 99.0784, Val Loss: 97.3151\n"
     ]
    },
    {
     "data": {
      "application/vnd.jupyter.widget-view+json": {
       "model_id": "ddb706e7621f4251a2ba36472773efc5",
       "version_major": 2,
       "version_minor": 0
      },
      "text/plain": [
       "Epoch 23/100:   0%|          | 0/49 [00:00<?, ?it/s]"
      ]
     },
     "metadata": {},
     "output_type": "display_data"
    },
    {
     "name": "stdout",
     "output_type": "stream",
     "text": [
      "Epoch 23/100, Train Loss: 96.2916, Val Loss: 94.5399\n"
     ]
    },
    {
     "data": {
      "application/vnd.jupyter.widget-view+json": {
       "model_id": "8be9947bbd564537ae496bb195542136",
       "version_major": 2,
       "version_minor": 0
      },
      "text/plain": [
       "Epoch 24/100:   0%|          | 0/49 [00:00<?, ?it/s]"
      ]
     },
     "metadata": {},
     "output_type": "display_data"
    },
    {
     "name": "stdout",
     "output_type": "stream",
     "text": [
      "Epoch 24/100, Train Loss: 93.5163, Val Loss: 91.7604\n"
     ]
    },
    {
     "data": {
      "application/vnd.jupyter.widget-view+json": {
       "model_id": "14532b233c9b4459b385253bfc011b81",
       "version_major": 2,
       "version_minor": 0
      },
      "text/plain": [
       "Epoch 25/100:   0%|          | 0/49 [00:00<?, ?it/s]"
      ]
     },
     "metadata": {},
     "output_type": "display_data"
    },
    {
     "name": "stdout",
     "output_type": "stream",
     "text": [
      "Epoch 25/100, Train Loss: 90.7334, Val Loss: 88.9786\n"
     ]
    },
    {
     "data": {
      "application/vnd.jupyter.widget-view+json": {
       "model_id": "9c1bd52adb5941a687124dc561e84a8c",
       "version_major": 2,
       "version_minor": 0
      },
      "text/plain": [
       "Epoch 26/100:   0%|          | 0/49 [00:00<?, ?it/s]"
      ]
     },
     "metadata": {},
     "output_type": "display_data"
    },
    {
     "name": "stdout",
     "output_type": "stream",
     "text": [
      "Epoch 26/100, Train Loss: 87.9572, Val Loss: 86.2087\n"
     ]
    },
    {
     "data": {
      "application/vnd.jupyter.widget-view+json": {
       "model_id": "5f7d0c76e9c945a084218f4ec3d8bb88",
       "version_major": 2,
       "version_minor": 0
      },
      "text/plain": [
       "Epoch 27/100:   0%|          | 0/49 [00:00<?, ?it/s]"
      ]
     },
     "metadata": {},
     "output_type": "display_data"
    },
    {
     "name": "stdout",
     "output_type": "stream",
     "text": [
      "Epoch 27/100, Train Loss: 85.1852, Val Loss: 83.4563\n"
     ]
    },
    {
     "data": {
      "application/vnd.jupyter.widget-view+json": {
       "model_id": "55fb33513f7543dfa072aa2fae42db4a",
       "version_major": 2,
       "version_minor": 0
      },
      "text/plain": [
       "Epoch 28/100:   0%|          | 0/49 [00:00<?, ?it/s]"
      ]
     },
     "metadata": {},
     "output_type": "display_data"
    },
    {
     "name": "stdout",
     "output_type": "stream",
     "text": [
      "Epoch 28/100, Train Loss: 82.4019, Val Loss: 80.6690\n"
     ]
    },
    {
     "data": {
      "application/vnd.jupyter.widget-view+json": {
       "model_id": "fda4bb14b4294c3a9897d9e17e6d8f41",
       "version_major": 2,
       "version_minor": 0
      },
      "text/plain": [
       "Epoch 29/100:   0%|          | 0/49 [00:00<?, ?it/s]"
      ]
     },
     "metadata": {},
     "output_type": "display_data"
    },
    {
     "name": "stdout",
     "output_type": "stream",
     "text": [
      "Epoch 29/100, Train Loss: 79.6327, Val Loss: 77.9058\n"
     ]
    },
    {
     "data": {
      "application/vnd.jupyter.widget-view+json": {
       "model_id": "a0f4031a8a304ab3b65954f08f1afcd3",
       "version_major": 2,
       "version_minor": 0
      },
      "text/plain": [
       "Epoch 30/100:   0%|          | 0/49 [00:00<?, ?it/s]"
      ]
     },
     "metadata": {},
     "output_type": "display_data"
    },
    {
     "name": "stdout",
     "output_type": "stream",
     "text": [
      "Epoch 30/100, Train Loss: 76.8566, Val Loss: 75.1301\n"
     ]
    },
    {
     "data": {
      "application/vnd.jupyter.widget-view+json": {
       "model_id": "b869321977ee41a3b36b7709fb7945f3",
       "version_major": 2,
       "version_minor": 0
      },
      "text/plain": [
       "Epoch 31/100:   0%|          | 0/49 [00:00<?, ?it/s]"
      ]
     },
     "metadata": {},
     "output_type": "display_data"
    },
    {
     "name": "stdout",
     "output_type": "stream",
     "text": [
      "Epoch 31/100, Train Loss: 74.0727, Val Loss: 72.3188\n"
     ]
    },
    {
     "data": {
      "application/vnd.jupyter.widget-view+json": {
       "model_id": "76241c8572b94662893b0a2522793fce",
       "version_major": 2,
       "version_minor": 0
      },
      "text/plain": [
       "Epoch 32/100:   0%|          | 0/49 [00:00<?, ?it/s]"
      ]
     },
     "metadata": {},
     "output_type": "display_data"
    },
    {
     "name": "stdout",
     "output_type": "stream",
     "text": [
      "Epoch 32/100, Train Loss: 71.2967, Val Loss: 69.5421\n"
     ]
    },
    {
     "data": {
      "application/vnd.jupyter.widget-view+json": {
       "model_id": "05099878c1004eebae0ae2e38ddeb603",
       "version_major": 2,
       "version_minor": 0
      },
      "text/plain": [
       "Epoch 33/100:   0%|          | 0/49 [00:00<?, ?it/s]"
      ]
     },
     "metadata": {},
     "output_type": "display_data"
    },
    {
     "name": "stdout",
     "output_type": "stream",
     "text": [
      "Epoch 33/100, Train Loss: 68.5287, Val Loss: 66.7681\n"
     ]
    },
    {
     "data": {
      "application/vnd.jupyter.widget-view+json": {
       "model_id": "ff710f581768469bb282975308dd1ac3",
       "version_major": 2,
       "version_minor": 0
      },
      "text/plain": [
       "Epoch 34/100:   0%|          | 0/49 [00:00<?, ?it/s]"
      ]
     },
     "metadata": {},
     "output_type": "display_data"
    },
    {
     "name": "stdout",
     "output_type": "stream",
     "text": [
      "Epoch 34/100, Train Loss: 65.7364, Val Loss: 63.9766\n"
     ]
    },
    {
     "data": {
      "application/vnd.jupyter.widget-view+json": {
       "model_id": "96d9b14bd77c4f7799fc803411fd9f38",
       "version_major": 2,
       "version_minor": 0
      },
      "text/plain": [
       "Epoch 35/100:   0%|          | 0/49 [00:00<?, ?it/s]"
      ]
     },
     "metadata": {},
     "output_type": "display_data"
    },
    {
     "name": "stdout",
     "output_type": "stream",
     "text": [
      "Epoch 35/100, Train Loss: 62.9677, Val Loss: 61.2044\n"
     ]
    },
    {
     "data": {
      "application/vnd.jupyter.widget-view+json": {
       "model_id": "22318475e90446dd9e288032fe1aec36",
       "version_major": 2,
       "version_minor": 0
      },
      "text/plain": [
       "Epoch 36/100:   0%|          | 0/49 [00:00<?, ?it/s]"
      ]
     },
     "metadata": {},
     "output_type": "display_data"
    },
    {
     "name": "stdout",
     "output_type": "stream",
     "text": [
      "Epoch 36/100, Train Loss: 60.1889, Val Loss: 58.4367\n"
     ]
    },
    {
     "data": {
      "application/vnd.jupyter.widget-view+json": {
       "model_id": "143751a4ee834c98876fd712ed8553e5",
       "version_major": 2,
       "version_minor": 0
      },
      "text/plain": [
       "Epoch 37/100:   0%|          | 0/49 [00:00<?, ?it/s]"
      ]
     },
     "metadata": {},
     "output_type": "display_data"
    },
    {
     "name": "stdout",
     "output_type": "stream",
     "text": [
      "Epoch 37/100, Train Loss: 57.4112, Val Loss: 55.6506\n"
     ]
    },
    {
     "data": {
      "application/vnd.jupyter.widget-view+json": {
       "model_id": "2f8b9754adb541688e1443fb8e6f46ef",
       "version_major": 2,
       "version_minor": 0
      },
      "text/plain": [
       "Epoch 38/100:   0%|          | 0/49 [00:00<?, ?it/s]"
      ]
     },
     "metadata": {},
     "output_type": "display_data"
    },
    {
     "name": "stdout",
     "output_type": "stream",
     "text": [
      "Epoch 38/100, Train Loss: 54.6263, Val Loss: 52.8679\n"
     ]
    },
    {
     "data": {
      "application/vnd.jupyter.widget-view+json": {
       "model_id": "a023de2f26fa4a6ba9c538f729f11701",
       "version_major": 2,
       "version_minor": 0
      },
      "text/plain": [
       "Epoch 39/100:   0%|          | 0/49 [00:00<?, ?it/s]"
      ]
     },
     "metadata": {},
     "output_type": "display_data"
    },
    {
     "name": "stdout",
     "output_type": "stream",
     "text": [
      "Epoch 39/100, Train Loss: 51.8493, Val Loss: 50.1175\n"
     ]
    },
    {
     "data": {
      "application/vnd.jupyter.widget-view+json": {
       "model_id": "ce24f001a1e3497086ae93167978df70",
       "version_major": 2,
       "version_minor": 0
      },
      "text/plain": [
       "Epoch 40/100:   0%|          | 0/49 [00:00<?, ?it/s]"
      ]
     },
     "metadata": {},
     "output_type": "display_data"
    },
    {
     "name": "stdout",
     "output_type": "stream",
     "text": [
      "Epoch 40/100, Train Loss: 49.0769, Val Loss: 47.3374\n"
     ]
    },
    {
     "data": {
      "application/vnd.jupyter.widget-view+json": {
       "model_id": "16a79ef647d6477b946a8850ce81c2e5",
       "version_major": 2,
       "version_minor": 0
      },
      "text/plain": [
       "Epoch 41/100:   0%|          | 0/49 [00:00<?, ?it/s]"
      ]
     },
     "metadata": {},
     "output_type": "display_data"
    },
    {
     "name": "stdout",
     "output_type": "stream",
     "text": [
      "Epoch 41/100, Train Loss: 46.2991, Val Loss: 44.5451\n"
     ]
    },
    {
     "data": {
      "application/vnd.jupyter.widget-view+json": {
       "model_id": "48b1fcf73bdd438f89832b11d36041a1",
       "version_major": 2,
       "version_minor": 0
      },
      "text/plain": [
       "Epoch 42/100:   0%|          | 0/49 [00:00<?, ?it/s]"
      ]
     },
     "metadata": {},
     "output_type": "display_data"
    },
    {
     "name": "stdout",
     "output_type": "stream",
     "text": [
      "Epoch 42/100, Train Loss: 43.5206, Val Loss: 41.7735\n"
     ]
    },
    {
     "data": {
      "application/vnd.jupyter.widget-view+json": {
       "model_id": "eb3a8735d91d4cbaab197cc713cdf1bc",
       "version_major": 2,
       "version_minor": 0
      },
      "text/plain": [
       "Epoch 43/100:   0%|          | 0/49 [00:00<?, ?it/s]"
      ]
     },
     "metadata": {},
     "output_type": "display_data"
    },
    {
     "name": "stdout",
     "output_type": "stream",
     "text": [
      "Epoch 43/100, Train Loss: 40.7422, Val Loss: 38.9838\n"
     ]
    },
    {
     "data": {
      "application/vnd.jupyter.widget-view+json": {
       "model_id": "e47f21e23a9842bbba000390a74776b0",
       "version_major": 2,
       "version_minor": 0
      },
      "text/plain": [
       "Epoch 44/100:   0%|          | 0/49 [00:00<?, ?it/s]"
      ]
     },
     "metadata": {},
     "output_type": "display_data"
    },
    {
     "name": "stdout",
     "output_type": "stream",
     "text": [
      "Epoch 44/100, Train Loss: 37.9622, Val Loss: 36.2219\n"
     ]
    },
    {
     "data": {
      "application/vnd.jupyter.widget-view+json": {
       "model_id": "0373ced93fed4950bf22f84ebcb57a13",
       "version_major": 2,
       "version_minor": 0
      },
      "text/plain": [
       "Epoch 45/100:   0%|          | 0/49 [00:00<?, ?it/s]"
      ]
     },
     "metadata": {},
     "output_type": "display_data"
    },
    {
     "name": "stdout",
     "output_type": "stream",
     "text": [
      "Epoch 45/100, Train Loss: 35.1925, Val Loss: 33.4547\n"
     ]
    },
    {
     "data": {
      "application/vnd.jupyter.widget-view+json": {
       "model_id": "6222aeebbeaf4e3d8f7afe138c237f7f",
       "version_major": 2,
       "version_minor": 0
      },
      "text/plain": [
       "Epoch 46/100:   0%|          | 0/49 [00:00<?, ?it/s]"
      ]
     },
     "metadata": {},
     "output_type": "display_data"
    },
    {
     "name": "stdout",
     "output_type": "stream",
     "text": [
      "Epoch 46/100, Train Loss: 32.4213, Val Loss: 30.7522\n"
     ]
    },
    {
     "data": {
      "application/vnd.jupyter.widget-view+json": {
       "model_id": "2f337e8ff939450eb554ba04cd8e80aa",
       "version_major": 2,
       "version_minor": 0
      },
      "text/plain": [
       "Epoch 47/100:   0%|          | 0/49 [00:00<?, ?it/s]"
      ]
     },
     "metadata": {},
     "output_type": "display_data"
    },
    {
     "name": "stdout",
     "output_type": "stream",
     "text": [
      "Epoch 47/100, Train Loss: 29.6670, Val Loss: 27.8882\n"
     ]
    },
    {
     "data": {
      "application/vnd.jupyter.widget-view+json": {
       "model_id": "02cf825dc7184573b8b4236804f852cb",
       "version_major": 2,
       "version_minor": 0
      },
      "text/plain": [
       "Epoch 48/100:   0%|          | 0/49 [00:00<?, ?it/s]"
      ]
     },
     "metadata": {},
     "output_type": "display_data"
    },
    {
     "name": "stdout",
     "output_type": "stream",
     "text": [
      "Epoch 48/100, Train Loss: 26.8638, Val Loss: 25.1209\n"
     ]
    },
    {
     "data": {
      "application/vnd.jupyter.widget-view+json": {
       "model_id": "56e79034994a45489076739936d69571",
       "version_major": 2,
       "version_minor": 0
      },
      "text/plain": [
       "Epoch 49/100:   0%|          | 0/49 [00:00<?, ?it/s]"
      ]
     },
     "metadata": {},
     "output_type": "display_data"
    },
    {
     "name": "stdout",
     "output_type": "stream",
     "text": [
      "Epoch 49/100, Train Loss: 24.0903, Val Loss: 22.3378\n"
     ]
    },
    {
     "data": {
      "application/vnd.jupyter.widget-view+json": {
       "model_id": "f10efd3eb39944c5ae1026807d5e6e19",
       "version_major": 2,
       "version_minor": 0
      },
      "text/plain": [
       "Epoch 50/100:   0%|          | 0/49 [00:00<?, ?it/s]"
      ]
     },
     "metadata": {},
     "output_type": "display_data"
    },
    {
     "name": "stdout",
     "output_type": "stream",
     "text": [
      "Epoch 50/100, Train Loss: 21.3098, Val Loss: 19.5551\n"
     ]
    },
    {
     "data": {
      "application/vnd.jupyter.widget-view+json": {
       "model_id": "e9ce1282c1df402695f8076363c443c5",
       "version_major": 2,
       "version_minor": 0
      },
      "text/plain": [
       "Epoch 51/100:   0%|          | 0/49 [00:00<?, ?it/s]"
      ]
     },
     "metadata": {},
     "output_type": "display_data"
    },
    {
     "name": "stdout",
     "output_type": "stream",
     "text": [
      "Epoch 51/100, Train Loss: 18.5278, Val Loss: 16.7693\n"
     ]
    },
    {
     "data": {
      "application/vnd.jupyter.widget-view+json": {
       "model_id": "8989383f05a24c249568291fd6068062",
       "version_major": 2,
       "version_minor": 0
      },
      "text/plain": [
       "Epoch 52/100:   0%|          | 0/49 [00:00<?, ?it/s]"
      ]
     },
     "metadata": {},
     "output_type": "display_data"
    },
    {
     "name": "stdout",
     "output_type": "stream",
     "text": [
      "Epoch 52/100, Train Loss: 15.7560, Val Loss: 14.0056\n"
     ]
    },
    {
     "data": {
      "application/vnd.jupyter.widget-view+json": {
       "model_id": "05c77a84ac1743188427fbea9db0dc84",
       "version_major": 2,
       "version_minor": 0
      },
      "text/plain": [
       "Epoch 53/100:   0%|          | 0/49 [00:00<?, ?it/s]"
      ]
     },
     "metadata": {},
     "output_type": "display_data"
    },
    {
     "name": "stdout",
     "output_type": "stream",
     "text": [
      "Epoch 53/100, Train Loss: 12.9703, Val Loss: 11.2254\n"
     ]
    },
    {
     "data": {
      "application/vnd.jupyter.widget-view+json": {
       "model_id": "1d372e31c61d4c7d9064fcd75b4a4270",
       "version_major": 2,
       "version_minor": 0
      },
      "text/plain": [
       "Epoch 54/100:   0%|          | 0/49 [00:00<?, ?it/s]"
      ]
     },
     "metadata": {},
     "output_type": "display_data"
    },
    {
     "name": "stdout",
     "output_type": "stream",
     "text": [
      "Epoch 54/100, Train Loss: 10.2020, Val Loss: 8.4635\n"
     ]
    },
    {
     "data": {
      "application/vnd.jupyter.widget-view+json": {
       "model_id": "2789df5736404cbaaa3ee7b1e593928f",
       "version_major": 2,
       "version_minor": 0
      },
      "text/plain": [
       "Epoch 55/100:   0%|          | 0/49 [00:00<?, ?it/s]"
      ]
     },
     "metadata": {},
     "output_type": "display_data"
    },
    {
     "name": "stdout",
     "output_type": "stream",
     "text": [
      "Epoch 55/100, Train Loss: 7.4353, Val Loss: 5.7148\n"
     ]
    },
    {
     "data": {
      "application/vnd.jupyter.widget-view+json": {
       "model_id": "8317de5a048741aeb388ca1648e79457",
       "version_major": 2,
       "version_minor": 0
      },
      "text/plain": [
       "Epoch 56/100:   0%|          | 0/49 [00:00<?, ?it/s]"
      ]
     },
     "metadata": {},
     "output_type": "display_data"
    },
    {
     "name": "stdout",
     "output_type": "stream",
     "text": [
      "Epoch 56/100, Train Loss: 5.1138, Val Loss: 4.2564\n"
     ]
    },
    {
     "data": {
      "application/vnd.jupyter.widget-view+json": {
       "model_id": "3fcdd187cfdd4ba087999dbf6951b57a",
       "version_major": 2,
       "version_minor": 0
      },
      "text/plain": [
       "Epoch 57/100:   0%|          | 0/49 [00:00<?, ?it/s]"
      ]
     },
     "metadata": {},
     "output_type": "display_data"
    },
    {
     "name": "stdout",
     "output_type": "stream",
     "text": [
      "Epoch 57/100, Train Loss: 3.8485, Val Loss: 3.6804\n"
     ]
    },
    {
     "data": {
      "application/vnd.jupyter.widget-view+json": {
       "model_id": "50a2d5a2751b408a99a3c68f2a2712d6",
       "version_major": 2,
       "version_minor": 0
      },
      "text/plain": [
       "Epoch 58/100:   0%|          | 0/49 [00:00<?, ?it/s]"
      ]
     },
     "metadata": {},
     "output_type": "display_data"
    },
    {
     "name": "stdout",
     "output_type": "stream",
     "text": [
      "Epoch 58/100, Train Loss: 3.3166, Val Loss: 3.5161\n"
     ]
    },
    {
     "data": {
      "application/vnd.jupyter.widget-view+json": {
       "model_id": "88e49f9f8f8a42299552a76076ad9474",
       "version_major": 2,
       "version_minor": 0
      },
      "text/plain": [
       "Epoch 59/100:   0%|          | 0/49 [00:00<?, ?it/s]"
      ]
     },
     "metadata": {},
     "output_type": "display_data"
    },
    {
     "name": "stdout",
     "output_type": "stream",
     "text": [
      "Epoch 59/100, Train Loss: 3.1478, Val Loss: 3.5114\n"
     ]
    },
    {
     "data": {
      "application/vnd.jupyter.widget-view+json": {
       "model_id": "7fa85f9d19834c36824300b4961a5920",
       "version_major": 2,
       "version_minor": 0
      },
      "text/plain": [
       "Epoch 60/100:   0%|          | 0/49 [00:00<?, ?it/s]"
      ]
     },
     "metadata": {},
     "output_type": "display_data"
    },
    {
     "name": "stdout",
     "output_type": "stream",
     "text": [
      "Epoch 60/100, Train Loss: 3.1058, Val Loss: 3.5329\n"
     ]
    },
    {
     "data": {
      "application/vnd.jupyter.widget-view+json": {
       "model_id": "bbb7280842e64684bad5ede2486f66e2",
       "version_major": 2,
       "version_minor": 0
      },
      "text/plain": [
       "Epoch 61/100:   0%|          | 0/49 [00:00<?, ?it/s]"
      ]
     },
     "metadata": {},
     "output_type": "display_data"
    },
    {
     "name": "stdout",
     "output_type": "stream",
     "text": [
      "Epoch 61/100, Train Loss: 3.0992, Val Loss: 3.5174\n"
     ]
    },
    {
     "data": {
      "application/vnd.jupyter.widget-view+json": {
       "model_id": "e2c7e7afa4e047d199b7b091b26dc371",
       "version_major": 2,
       "version_minor": 0
      },
      "text/plain": [
       "Epoch 62/100:   0%|          | 0/49 [00:00<?, ?it/s]"
      ]
     },
     "metadata": {},
     "output_type": "display_data"
    },
    {
     "name": "stdout",
     "output_type": "stream",
     "text": [
      "Epoch 62/100, Train Loss: 3.1025, Val Loss: 3.5585\n"
     ]
    },
    {
     "data": {
      "application/vnd.jupyter.widget-view+json": {
       "model_id": "3df51f7fda244dd789c7b42768e31ad9",
       "version_major": 2,
       "version_minor": 0
      },
      "text/plain": [
       "Epoch 63/100:   0%|          | 0/49 [00:00<?, ?it/s]"
      ]
     },
     "metadata": {},
     "output_type": "display_data"
    },
    {
     "name": "stdout",
     "output_type": "stream",
     "text": [
      "Epoch 63/100, Train Loss: 3.1029, Val Loss: 3.5574\n"
     ]
    },
    {
     "data": {
      "application/vnd.jupyter.widget-view+json": {
       "model_id": "bd58da85d6ec4139b3500ffb23bda2b2",
       "version_major": 2,
       "version_minor": 0
      },
      "text/plain": [
       "Epoch 64/100:   0%|          | 0/49 [00:00<?, ?it/s]"
      ]
     },
     "metadata": {},
     "output_type": "display_data"
    },
    {
     "name": "stdout",
     "output_type": "stream",
     "text": [
      "Epoch 64/100, Train Loss: 3.1054, Val Loss: 3.5363\n"
     ]
    },
    {
     "data": {
      "application/vnd.jupyter.widget-view+json": {
       "model_id": "9f7a636e11a44f599227e4ea1b69462b",
       "version_major": 2,
       "version_minor": 0
      },
      "text/plain": [
       "Epoch 65/100:   0%|          | 0/49 [00:00<?, ?it/s]"
      ]
     },
     "metadata": {},
     "output_type": "display_data"
    },
    {
     "name": "stdout",
     "output_type": "stream",
     "text": [
      "Epoch 65/100, Train Loss: 3.0971, Val Loss: 3.5456\n"
     ]
    },
    {
     "data": {
      "application/vnd.jupyter.widget-view+json": {
       "model_id": "9cbea70584f344cd80307ea3814dd744",
       "version_major": 2,
       "version_minor": 0
      },
      "text/plain": [
       "Epoch 66/100:   0%|          | 0/49 [00:00<?, ?it/s]"
      ]
     },
     "metadata": {},
     "output_type": "display_data"
    },
    {
     "name": "stdout",
     "output_type": "stream",
     "text": [
      "Epoch 66/100, Train Loss: 3.0874, Val Loss: 3.5170\n"
     ]
    },
    {
     "data": {
      "application/vnd.jupyter.widget-view+json": {
       "model_id": "a962aa6e60fb4d55a20076144beacfcf",
       "version_major": 2,
       "version_minor": 0
      },
      "text/plain": [
       "Epoch 67/100:   0%|          | 0/49 [00:00<?, ?it/s]"
      ]
     },
     "metadata": {},
     "output_type": "display_data"
    },
    {
     "name": "stdout",
     "output_type": "stream",
     "text": [
      "Epoch 67/100, Train Loss: 3.0791, Val Loss: 3.5152\n"
     ]
    },
    {
     "data": {
      "application/vnd.jupyter.widget-view+json": {
       "model_id": "b35c3d12cf984b14b2bcd39e9b0795d9",
       "version_major": 2,
       "version_minor": 0
      },
      "text/plain": [
       "Epoch 68/100:   0%|          | 0/49 [00:00<?, ?it/s]"
      ]
     },
     "metadata": {},
     "output_type": "display_data"
    },
    {
     "name": "stdout",
     "output_type": "stream",
     "text": [
      "Epoch 68/100, Train Loss: 3.0798, Val Loss: 3.5199\n"
     ]
    },
    {
     "data": {
      "application/vnd.jupyter.widget-view+json": {
       "model_id": "142ded069e7b4614ad74272fe03a8c63",
       "version_major": 2,
       "version_minor": 0
      },
      "text/plain": [
       "Epoch 69/100:   0%|          | 0/49 [00:00<?, ?it/s]"
      ]
     },
     "metadata": {},
     "output_type": "display_data"
    },
    {
     "name": "stdout",
     "output_type": "stream",
     "text": [
      "Epoch 69/100, Train Loss: 3.0804, Val Loss: 3.5170\n",
      "Early stopping triggered\n"
     ]
    }
   ],
   "source": [
    "# Train the model\n",
    "trained_model = train_model(\n",
    "    model, train_loader, val_loader, criterion, optimizer, scheduler\n",
    ")\n",
    "\n",
    "# Save the best model\n",
    "torch.save(trained_model.state_dict(), \"best_model.pth\")"
   ]
  },
  {
   "cell_type": "markdown",
   "id": "bd9df1ce-2c59-400b-b6bc-a5df6739ae6c",
   "metadata": {},
   "source": [
    "## 6. Evaluate Model\n"
   ]
  },
  {
   "cell_type": "code",
   "execution_count": 22,
   "id": "e3746f9f-dc5f-48a8-9d40-76f82fe6bf6b",
   "metadata": {},
   "outputs": [],
   "source": [
    "def evaluate_model(model, data_loader):\n",
    "    model.eval()\n",
    "    total_loss = 0.0\n",
    "    all_predictions = []\n",
    "    all_targets = []\n",
    "\n",
    "    with torch.no_grad():\n",
    "        for frames, imu_data, targets in data_loader:\n",
    "            frames, imu_data, targets = (\n",
    "                frames.to(device),\n",
    "                imu_data.to(device),\n",
    "                targets.to(device),\n",
    "            )\n",
    "            outputs = model(frames, imu_data)\n",
    "            loss = criterion(outputs, targets)\n",
    "            total_loss += loss.item()\n",
    "\n",
    "            all_predictions.append(outputs.cpu().numpy())\n",
    "            all_targets.append(targets.cpu().numpy())\n",
    "\n",
    "    avg_loss = total_loss / len(data_loader)\n",
    "    all_predictions = np.concatenate(all_predictions)\n",
    "    all_targets = np.concatenate(all_targets)\n",
    "\n",
    "    return avg_loss, all_predictions, all_targets"
   ]
  },
  {
   "cell_type": "code",
   "execution_count": 23,
   "metadata": {},
   "outputs": [
    {
     "name": "stdout",
     "output_type": "stream",
     "text": [
      "Validation Loss: 3.5170\n"
     ]
    }
   ],
   "source": [
    "# Evaluate the model\n",
    "val_loss, val_predictions, val_targets = evaluate_model(trained_model, val_loader)\n",
    "print(f\"Validation Loss: {val_loss:.4f}\")"
   ]
  },
  {
   "cell_type": "markdown",
   "id": "d6c283cc-86a9-4ce5-8598-378497c7fb76",
   "metadata": {},
   "source": [
    "## 7. Visualize Results\n"
   ]
  },
  {
   "cell_type": "code",
   "execution_count": 24,
   "id": "917999c6-7f8d-4b2c-8e90-44ea4f33e90c",
   "metadata": {},
   "outputs": [],
   "source": [
    "def visualize_predictions(predictions, targets):\n",
    "    fig, axes = plt.subplots(2, 3, figsize=(15, 10))\n",
    "    titles = [\n",
    "        \"Translation X\",\n",
    "        \"Translation Y\",\n",
    "        \"Translation Z\",\n",
    "        \"Rotation X\",\n",
    "        \"Rotation Y\",\n",
    "        \"Rotation Z\",\n",
    "    ]\n",
    "\n",
    "    for i in range(6):\n",
    "        ax = axes[i // 3, i % 3]\n",
    "        ax.plot(predictions[:100, i], label=\"Predicted\")\n",
    "        ax.plot(targets[:100, i], label=\"Ground Truth\")\n",
    "        ax.set_title(titles[i])\n",
    "        ax.legend()\n",
    "\n",
    "    plt.tight_layout()\n",
    "    plt.show()"
   ]
  },
  {
   "cell_type": "code",
   "execution_count": 25,
   "metadata": {},
   "outputs": [
    {
     "data": {
      "image/png": "[encoded data removed]",
      "text/plain": [
       "<Figure size 1500x1000 with 6 Axes>"
      ]
     },
     "metadata": {},
     "output_type": "display_data"
    }
   ],
   "source": [
    "visualize_predictions(val_predictions, val_targets)"
   ]
  },
  {
   "cell_type": "markdown",
   "id": "1e9bf70e-8884-4f94-9bcb-95bf78df3ce9",
   "metadata": {},
   "source": [
    "## 8. Generate ground truth volume\n"
   ]
  },
  {
   "cell_type": "code",
   "execution_count": 53,
   "metadata": {},
   "outputs": [
    {
     "data": {
      "image/png": "[encoded data removed]",
      "text/plain": [
       "<Figure size 1200x1000 with 1 Axes>"
      ]
     },
     "metadata": {},
     "output_type": "display_data"
    }
   ],
   "source": [
    "def plot_trajectory_and_poses(df, frame_stride=1, scale=10):\n",
    "    # Extract optical tracker data\n",
    "    positions = df[[\"ot_pos_x\", \"ot_pos_y\", \"ot_pos_z\"]].values\n",
    "    orientations = df[[\"ot_qw\", \"ot_qx\", \"ot_qy\", \"ot_qz\"]].values\n",
    "\n",
    "    # Create figure and 3D axis\n",
    "    fig = plt.figure(figsize=(12, 10))\n",
    "    ax = fig.add_subplot(111, projection=\"3d\")\n",
    "\n",
    "    # Plot trajectory\n",
    "    ax.plot(positions[:, 0], positions[:, 1], positions[:, 2], \"b-\", label=\"Trajectory\")\n",
    "\n",
    "    # Plot pose vectors\n",
    "    for i in range(0, len(df), frame_stride):\n",
    "        pos = positions[i]\n",
    "        quat = orientations[i]\n",
    "\n",
    "        # Convert quaternion to rotation matrix\n",
    "        rot_matrix = Rotation.from_quat(quat).as_matrix()\n",
    "\n",
    "        # Define coordinate axes\n",
    "        axes = np.array([[scale, 0, 0], [0, scale, 0], [0, 0, scale]])\n",
    "\n",
    "        # Rotate and translate axes\n",
    "        transformed_axes = rot_matrix @ axes.T + pos[:, np.newaxis]\n",
    "\n",
    "        # Plot coordinate axes\n",
    "        colors = [\"r\", \"g\", \"b\"]\n",
    "        labels = [\"X\", \"Y\", \"Z\"]\n",
    "        for j, (color, label) in enumerate(zip(colors, labels)):\n",
    "            if i == 0:  # Only add label for the first iteration\n",
    "                ax.quiver(\n",
    "                    pos[0],\n",
    "                    pos[1],\n",
    "                    pos[2],\n",
    "                    transformed_axes[0, j] - pos[0],\n",
    "                    transformed_axes[1, j] - pos[1],\n",
    "                    transformed_axes[2, j] - pos[2],\n",
    "                    color=color,\n",
    "                    label=label,\n",
    "                )\n",
    "            else:\n",
    "                ax.quiver(\n",
    "                    pos[0],\n",
    "                    pos[1],\n",
    "                    pos[2],\n",
    "                    transformed_axes[0, j] - pos[0],\n",
    "                    transformed_axes[1, j] - pos[1],\n",
    "                    transformed_axes[2, j] - pos[2],\n",
    "                    color=color,\n",
    "                )\n",
    "\n",
    "    # Set labels and title\n",
    "    ax.set_xlabel(\"X\")\n",
    "    ax.set_ylabel(\"Y\")\n",
    "    ax.set_zlabel(\"Z\")\n",
    "    ax.set_title(\"Ultrasound Frame Trajectory and Poses\")\n",
    "\n",
    "    # Add legend\n",
    "    ax.legend()\n",
    "\n",
    "    # Set aspect ratio to 'equal'\n",
    "    ax.set_box_aspect(\n",
    "        (np.ptp(positions[:, 0]), np.ptp(positions[:, 1]), np.ptp(positions[:, 2]))\n",
    "    )\n",
    "\n",
    "    # Show plot\n",
    "    plt.tight_layout()\n",
    "    plt.show()\n",
    "\n",
    "\n",
    "# Usage\n",
    "# Assuming 'df' is your DataFrame containing the optical tracker data\n",
    "plot_trajectory_and_poses(df, frame_stride=1, scale=1)"
   ]
  },
  {
   "cell_type": "code",
   "execution_count": 79,
   "metadata": {},
   "outputs": [
    {
     "name": "stdout",
     "output_type": "stream",
     "text": [
      "Reconstructing ground truth volume...\n"
     ]
    },
    {
     "name": "stderr",
     "output_type": "stream",
     "text": [
      "100%|██████████| 500/500 [00:50<00:00,  9.88it/s]\n"
     ]
    },
    {
     "name": "stdout",
     "output_type": "stream",
     "text": [
      "Ground truth volume shape: (691, 702, 648)\n",
      "Volume origin: [  74.29837922   18.41051386 -977.83388246]\n",
      "Voxel size: 0.1 mm\n"
     ]
    }
   ],
   "source": [
    "def reconstruct_ground_truth_volume(df, probe_specs, voxel_size=0.5):\n",
    "    frames = df[\"frame\"].values\n",
    "    positions = df[[\"ot_pos_x\", \"ot_pos_y\", \"ot_pos_z\"]].values\n",
    "    orientations = df[[\"ot_qw\", \"ot_qx\", \"ot_qy\", \"ot_qz\"]].values\n",
    "\n",
    "    # Probe specifications\n",
    "    depth = probe_specs[\"depth\"]  # mm (axial direction)\n",
    "    width = probe_specs[\"width\"]  # mm (lateral direction)\n",
    "    axial_res = probe_specs[\"axial_res\"]  # mm\n",
    "    lateral_res = probe_specs[\"lateral_res\"]  # mm\n",
    "    slice_thickness = probe_specs[\"slice_thickness\"]  # mm (elevational direction)\n",
    "    marker_to_probe_bottom = probe_specs[\"marker_to_probe_bottom\"]  # mm\n",
    "\n",
    "    # Calculate scaling factors\n",
    "    axial_scale = depth / 1000  # mm per pixel in axial direction\n",
    "    lateral_scale = width / 657  # mm per pixel in lateral direction\n",
    "\n",
    "    # Calculate volume bounds\n",
    "    rotations = Rotation.from_quat(orientations[:, [1, 2, 3, 0]])\n",
    "\n",
    "    # Define frame corners in probe coordinates (y: axial, x: lateral, z: elevational)\n",
    "    frame_corners = np.array(\n",
    "        [[0, 0, 0], [width, 0, 0], [0, depth, 0], [width, depth, 0]]\n",
    "    )\n",
    "\n",
    "    # Transform to align with optical tracker coordinates\n",
    "    transform_matrix = np.array(\n",
    "        [\n",
    "            [0, 0, -1],  # Tracker X -> -Probe Z (elevational)\n",
    "            [1, 0, 0],  # Tracker Y -> Probe X (lateral)\n",
    "            [0, -1, 0],  # Tracker Z -> -Probe Y (axial)\n",
    "        ]\n",
    "    )\n",
    "\n",
    "    frame_corners = frame_corners @ transform_matrix.T\n",
    "\n",
    "    # Add offset for marker to probe bottom\n",
    "    frame_corners[:, 2] += marker_to_probe_bottom\n",
    "\n",
    "    all_corners = (\n",
    "        np.einsum(\"ijk,lk->ilj\", rotations.as_matrix(), frame_corners)\n",
    "        + positions[:, np.newaxis, :]\n",
    "    )\n",
    "    min_corner = np.min(all_corners.reshape(-1, 3), axis=0)\n",
    "    max_corner = np.max(all_corners.reshape(-1, 3), axis=0)\n",
    "\n",
    "    # Initialize volume\n",
    "    volume_shape = np.ceil((max_corner - min_corner) / voxel_size).astype(int) + 1\n",
    "    volume = np.zeros(volume_shape, dtype=np.float32)\n",
    "    counts = np.zeros(volume_shape, dtype=np.int32)\n",
    "\n",
    "    # Create coordinate grid for frames\n",
    "    x, y = np.meshgrid(np.arange(657) * lateral_scale, np.arange(1000) * axial_scale)\n",
    "    frame_coords = np.stack((x, y, np.zeros_like(x)), axis=-1)\n",
    "\n",
    "    # Transform frame coordinates to align with optical tracker\n",
    "    frame_coords = frame_coords @ transform_matrix.T\n",
    "    frame_coords[:, :, 2] += marker_to_probe_bottom\n",
    "\n",
    "    print(\"Reconstructing ground truth volume...\")\n",
    "    for i, (frame, position, orientation) in enumerate(\n",
    "        tqdm(zip(frames, positions, orientations), total=len(frames))\n",
    "    ):\n",
    "        # Convert frame to grayscale\n",
    "        frame = np.mean(frame, axis=-1).astype(np.float32)\n",
    "\n",
    "        # Transform frame coordinates to world space\n",
    "        rotation = Rotation.from_quat(orientation[[1, 2, 3, 0]]).as_matrix()\n",
    "        world_coords = np.einsum(\"ij,klj->kli\", rotation, frame_coords) + position\n",
    "\n",
    "        # Calculate voxel coordinates\n",
    "        voxel_coords = np.round((world_coords - min_corner) / voxel_size).astype(int)\n",
    "\n",
    "        # Filter out-of-bounds voxels\n",
    "        mask = np.all((voxel_coords >= 0) & (voxel_coords < volume_shape), axis=2)\n",
    "        valid_voxels = voxel_coords[mask]\n",
    "        valid_intensities = frame[mask]\n",
    "\n",
    "        # Update volume and counts\n",
    "        np.add.at(volume, tuple(valid_voxels.T), valid_intensities)\n",
    "        np.add.at(counts, tuple(valid_voxels.T), 1)\n",
    "\n",
    "    # Average intensities and handle zero counts\n",
    "    mask = counts > 0\n",
    "    volume[mask] /= counts[mask]\n",
    "\n",
    "    return volume, min_corner, voxel_size\n",
    "\n",
    "\n",
    "# Probe specifications\n",
    "probe_specs = {\n",
    "    \"depth\": 50,  # mm (axial direction)\n",
    "    \"width\": 38,  # mm (lateral direction, assuming 19 mm on each side of the center)\n",
    "    \"axial_res\": 0.5,  # mm\n",
    "    \"lateral_res\": 2,  # mm\n",
    "    \"slice_thickness\": 5,  # mm (elevational direction)\n",
    "    \"marker_to_probe_bottom\": 10,  # mm (approximate, to be refined)\n",
    "}\n",
    "\n",
    "# Reconstruct ground truth volume\n",
    "ground_truth_volume, volume_origin, voxel_size = reconstruct_ground_truth_volume(\n",
    "    df, probe_specs, voxel_size=0.1  # lower voxel size corresponds to higher resolution\n",
    ")\n",
    "\n",
    "print(f\"Ground truth volume shape: {ground_truth_volume.shape}\")\n",
    "print(f\"Volume origin: {volume_origin}\")\n",
    "print(f\"Voxel size: {voxel_size} mm\")"
   ]
  },
  {
   "cell_type": "code",
   "execution_count": 80,
   "metadata": {},
   "outputs": [
    {
     "name": "stdout",
     "output_type": "stream",
     "text": [
      "Ground truth volume saved as 'ground_truth_volume.npy'\n",
      "Metadata saved as 'ground_truth_volume_metadata.npy'\n"
     ]
    }
   ],
   "source": [
    "# Save the ground truth volume\n",
    "np.save(\"ground_truth_volume.npy\", np.flip(ground_truth_volume, axis=0))\n",
    "print(\"Ground truth volume saved as 'ground_truth_volume.npy'\")\n",
    "\n",
    "# Save metadata\n",
    "metadata = {\n",
    "    \"volume_origin\": volume_origin.tolist(),\n",
    "    \"voxel_size\": voxel_size,\n",
    "    \"probe_specs\": probe_specs,\n",
    "}\n",
    "np.save(\"ground_truth_volume_metadata.npy\", metadata)\n",
    "print(\"Metadata saved as 'ground_truth_volume_metadata.npy'\")"
   ]
  },
  {
   "cell_type": "code",
   "execution_count": 81,
   "metadata": {},
   "outputs": [
    {
     "data": {
      "text/plain": [
       "(691, 702, 648)"
      ]
     },
     "execution_count": 81,
     "metadata": {},
     "output_type": "execute_result"
    }
   ],
   "source": [
    "ground_truth_volume.shape"
   ]
  },
  {
   "cell_type": "markdown",
   "metadata": {},
   "source": [
    "## Reconstruct predictions\n"
   ]
  },
  {
   "cell_type": "code",
   "execution_count": 89,
   "metadata": {},
   "outputs": [],
   "source": [
    "def euler_to_rotation_matrix(euler_angles):\n",
    "    return Rotation.from_euler(\"xyz\", euler_angles).as_matrix()\n",
    "\n",
    "\n",
    "def reconstruct_predicted_volume(\n",
    "    frames, predicted_transforms, probe_specs, voxel_size=0.5\n",
    "):\n",
    "    # Extract translations and rotations from predicted transforms\n",
    "    translations = predicted_transforms[:, :3]\n",
    "    rotations = [\n",
    "        euler_to_rotation_matrix(euler) for euler in predicted_transforms[:, 3:]\n",
    "    ]\n",
    "\n",
    "    # Probe specifications\n",
    "    depth = probe_specs[\"depth\"]\n",
    "    width = probe_specs[\"width\"]\n",
    "    marker_to_probe_bottom = probe_specs[\"marker_to_probe_bottom\"]\n",
    "\n",
    "    # Calculate scaling factors\n",
    "    axial_scale = depth / frames.shape[1]\n",
    "    lateral_scale = width / frames.shape[2]\n",
    "\n",
    "    # Calculate volume bounds\n",
    "    frame_corners = np.array(\n",
    "        [[0, 0, 0], [width, 0, 0], [0, depth, 0], [width, depth, 0]]\n",
    "    )\n",
    "    transform_matrix = np.array(\n",
    "        [\n",
    "            [0, 0, -1],\n",
    "            [1, 0, 0],\n",
    "            [0, -1, 0],\n",
    "        ]\n",
    "    )\n",
    "    frame_corners = frame_corners @ transform_matrix.T\n",
    "    frame_corners[:, 2] += marker_to_probe_bottom\n",
    "\n",
    "    all_corners = (\n",
    "        np.einsum(\"ijk,lk->ilj\", rotations, frame_corners)\n",
    "        + translations[:, np.newaxis, :]\n",
    "    )\n",
    "    min_corner = np.min(all_corners.reshape(-1, 3), axis=0)\n",
    "    max_corner = np.max(all_corners.reshape(-1, 3), axis=0)\n",
    "\n",
    "    # Initialize volume\n",
    "    volume_shape = np.ceil((max_corner - min_corner) / voxel_size).astype(int) + 1\n",
    "    volume = np.zeros(volume_shape, dtype=np.float32)\n",
    "    counts = np.zeros(volume_shape, dtype=np.int32)\n",
    "\n",
    "    # Create coordinate grid for frames\n",
    "    x, y = np.meshgrid(\n",
    "        np.arange(frames.shape[2]) * lateral_scale,\n",
    "        np.arange(frames.shape[1]) * axial_scale,\n",
    "    )\n",
    "    frame_coords = np.stack((x, y, np.zeros_like(x)), axis=-1)\n",
    "    frame_coords = frame_coords @ transform_matrix.T\n",
    "    frame_coords[:, :, 2] += marker_to_probe_bottom\n",
    "\n",
    "    print(\"Reconstructing predicted volume...\")\n",
    "    for i, (frame, translation, rotation) in enumerate(\n",
    "        tqdm(zip(frames, translations, rotations), total=len(frames))\n",
    "    ):\n",
    "        # Ensure frame is 2D (height x width)\n",
    "        if frame.ndim == 3:\n",
    "            frame = np.mean(frame, axis=-1).astype(np.float32)\n",
    "\n",
    "        # Transform frame coordinates to world space\n",
    "        world_coords = np.einsum(\"ij,klj->kli\", rotation, frame_coords) + translation\n",
    "\n",
    "        # Calculate voxel coordinates\n",
    "        voxel_coords = np.round((world_coords - min_corner) / voxel_size).astype(int)\n",
    "\n",
    "        # Filter out-of-bounds voxels\n",
    "        mask = np.all((voxel_coords >= 0) & (voxel_coords < volume_shape), axis=2)\n",
    "        valid_voxels = voxel_coords[mask]\n",
    "        valid_intensities = frame[mask]\n",
    "\n",
    "        # Update volume and counts\n",
    "        np.add.at(volume, tuple(valid_voxels.T), valid_intensities)\n",
    "        np.add.at(counts, tuple(valid_voxels.T), 1)\n",
    "\n",
    "    # Average intensities and handle zero counts\n",
    "    mask = counts > 0\n",
    "    volume[mask] /= counts[mask]\n",
    "\n",
    "    return volume, min_corner, voxel_size"
   ]
  },
  {
   "cell_type": "code",
   "execution_count": 90,
   "metadata": {},
   "outputs": [
    {
     "name": "stdout",
     "output_type": "stream",
     "text": [
      "Reconstructing predicted volume...\n"
     ]
    },
    {
     "name": "stderr",
     "output_type": "stream",
     "text": [
      "100%|██████████| 99/99 [00:00<00:00, 13357.66it/s]"
     ]
    },
    {
     "name": "stdout",
     "output_type": "stream",
     "text": [
      "Predicted volume shape: (616, 621, 95)\n",
      "Volume origin: [  77.22121947   21.82230336 -958.57003477]\n",
      "Voxel size: 0.1 mm\n",
      "Predicted volume saved as 'predicted_volume.npy'\n",
      "Metadata saved as 'predicted_volume_metadata.npy'\n"
     ]
    },
    {
     "name": "stderr",
     "output_type": "stream",
     "text": [
      "\n"
     ]
    }
   ],
   "source": [
    "# Assuming you have already trained the model and have the validation dataset\n",
    "model.eval()\n",
    "all_frames = []\n",
    "all_predictions = []\n",
    "\n",
    "with torch.no_grad():\n",
    "    for frames, imu_data, _ in val_loader:\n",
    "        frames = frames.to(device)\n",
    "        imu_data = imu_data.to(device)\n",
    "        outputs = model(frames, imu_data)\n",
    "\n",
    "        all_frames.append(frames.cpu().numpy())\n",
    "        all_predictions.append(outputs.cpu().numpy())\n",
    "\n",
    "all_frames = np.concatenate(all_frames, axis=0)\n",
    "all_predictions = np.concatenate(all_predictions, axis=0)\n",
    "\n",
    "# Reconstruct the predicted volume\n",
    "predicted_volume, volume_origin, voxel_size = reconstruct_predicted_volume(\n",
    "    all_frames[:, 0],  # Use only the first frame of each sequence\n",
    "    all_predictions[:, -1],  # Use the last prediction of each sequence\n",
    "    probe_specs,\n",
    "    voxel_size=0.1,\n",
    ")\n",
    "\n",
    "print(f\"Predicted volume shape: {predicted_volume.shape}\")\n",
    "print(f\"Volume origin: {volume_origin}\")\n",
    "print(f\"Voxel size: {voxel_size} mm\")\n",
    "\n",
    "# Save the predicted volume\n",
    "np.save(\"predicted_volume.npy\", predicted_volume)\n",
    "print(\"Predicted volume saved as 'predicted_volume.npy'\")\n",
    "\n",
    "# Save metadata\n",
    "metadata = {\n",
    "    \"volume_origin\": volume_origin.tolist(),\n",
    "    \"voxel_size\": voxel_size,\n",
    "    \"probe_specs\": probe_specs,\n",
    "}\n",
    "np.save(\"predicted_volume_metadata.npy\", metadata)\n",
    "print(\"Metadata saved as 'predicted_volume_metadata.npy'\")"
   ]
  },
  {
   "cell_type": "code",
   "execution_count": null,
   "metadata": {},
   "outputs": [],
   "source": []
  }
 ],
 "metadata": {
  "kernelspec": {
   "display_name": "abusfusion",
   "language": "python",
   "name": "python3"
  },
  "language_info": {
   "codemirror_mode": {
    "name": "ipython",
    "version": 3
   },
   "file_extension": ".py",
   "mimetype": "text/x-python",
   "name": "python",
   "nbconvert_exporter": "python",
   "pygments_lexer": "ipython3",
   "version": "3.12.5"
  }
 },
 "nbformat": 4,
 "nbformat_minor": 2
}
