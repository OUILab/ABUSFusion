{
 "cells": [
  {
   "cell_type": "markdown",
   "id": "bf6dc666-6f59-4391-9020-1550894abe92",
   "metadata": {},
   "source": [
    "# 6DoF Pose Estimation with Ultrasound Frames and IMU Data\n"
   ]
  },
  {
   "cell_type": "markdown",
   "id": "eb233097-aa13-49c4-90a4-aab7f8803618",
   "metadata": {},
   "source": [
    "## 1. Import Libraries\n"
   ]
  },
  {
   "cell_type": "code",
   "execution_count": 1,
   "id": "444f806c-cf9b-48db-b4d4-6e97255b05d1",
   "metadata": {},
   "outputs": [],
   "source": [
    "import matplotlib.pyplot as plt\n",
    "import numpy as np\n",
    "import pandas as pd\n",
    "import torch\n",
    "import torch.nn as nn\n",
    "import torch.optim as optim\n",
    "import torchvision.transforms as transforms\n",
    "import torchvision.transforms.functional as F\n",
    "import yaml\n",
    "from scipy.spatial.transform import Rotation\n",
    "from sklearn.model_selection import train_test_split\n",
    "from torch.utils.data import DataLoader, Dataset, Subset\n",
    "from tqdm.notebook import tqdm"
   ]
  },
  {
   "cell_type": "markdown",
   "id": "548997ac-1e66-4c8e-b43c-5ae27a42623e",
   "metadata": {},
   "source": [
    "## 2. Load and Preprocess Data\n"
   ]
  },
  {
   "cell_type": "code",
   "execution_count": 2,
   "id": "bf2ea112-fcb4-4403-b92b-c39a43d42da4",
   "metadata": {},
   "outputs": [],
   "source": [
    "def load_data(file_path):\n",
    "    return pd.read_hdf(file_path)\n",
    "\n",
    "\n",
    "file_path = \"scans/20240826/wrist_data.h5\"\n",
    "df = load_data(file_path)"
   ]
  },
  {
   "cell_type": "code",
   "execution_count": 3,
   "metadata": {},
   "outputs": [
    {
     "data": {
      "text/html": [
       "<div>\n",
       "<style scoped>\n",
       "    .dataframe tbody tr th:only-of-type {\n",
       "        vertical-align: middle;\n",
       "    }\n",
       "\n",
       "    .dataframe tbody tr th {\n",
       "        vertical-align: top;\n",
       "    }\n",
       "\n",
       "    .dataframe thead th {\n",
       "        text-align: right;\n",
       "    }\n",
       "</style>\n",
       "<table border=\"1\" class=\"dataframe\">\n",
       "  <thead>\n",
       "    <tr style=\"text-align: right;\">\n",
       "      <th></th>\n",
       "      <th>timestamp</th>\n",
       "      <th>frame</th>\n",
       "      <th>imu_acc_x</th>\n",
       "      <th>imu_acc_y</th>\n",
       "      <th>imu_acc_z</th>\n",
       "      <th>imu_orientation_x</th>\n",
       "      <th>imu_orientation_y</th>\n",
       "      <th>imu_orientation_z</th>\n",
       "      <th>ot_pos_x</th>\n",
       "      <th>ot_pos_y</th>\n",
       "      <th>ot_pos_z</th>\n",
       "      <th>ot_qw</th>\n",
       "      <th>ot_qx</th>\n",
       "      <th>ot_qy</th>\n",
       "      <th>ot_qz</th>\n",
       "    </tr>\n",
       "  </thead>\n",
       "  <tbody>\n",
       "    <tr>\n",
       "      <th>0</th>\n",
       "      <td>2024-08-14 14:04:53.612948</td>\n",
       "      <td>[[[35, 38, 38], [41, 44, 44], [54, 57, 57], [5...</td>\n",
       "      <td>0.00518</td>\n",
       "      <td>-0.002743</td>\n",
       "      <td>-0.098182</td>\n",
       "      <td>-0.034068</td>\n",
       "      <td>0.040456</td>\n",
       "      <td>0.043649</td>\n",
       "      <td>108.045212</td>\n",
       "      <td>28.900089</td>\n",
       "      <td>-969.858948</td>\n",
       "      <td>0.719787</td>\n",
       "      <td>0.255863</td>\n",
       "      <td>-0.57866</td>\n",
       "      <td>0.285646</td>\n",
       "    </tr>\n",
       "    <tr>\n",
       "      <th>1</th>\n",
       "      <td>2024-08-14 14:04:53.712948</td>\n",
       "      <td>[[[35, 38, 38], [41, 44, 44], [54, 57, 57], [5...</td>\n",
       "      <td>0.00518</td>\n",
       "      <td>-0.002743</td>\n",
       "      <td>-0.098182</td>\n",
       "      <td>-0.034068</td>\n",
       "      <td>0.040456</td>\n",
       "      <td>0.043649</td>\n",
       "      <td>108.045212</td>\n",
       "      <td>28.900089</td>\n",
       "      <td>-969.858948</td>\n",
       "      <td>0.719787</td>\n",
       "      <td>0.255863</td>\n",
       "      <td>-0.57866</td>\n",
       "      <td>0.285646</td>\n",
       "    </tr>\n",
       "    <tr>\n",
       "      <th>2</th>\n",
       "      <td>2024-08-14 14:04:53.812948</td>\n",
       "      <td>[[[35, 38, 38], [41, 44, 44], [54, 57, 57], [5...</td>\n",
       "      <td>0.00518</td>\n",
       "      <td>-0.002743</td>\n",
       "      <td>-0.098182</td>\n",
       "      <td>-0.034068</td>\n",
       "      <td>0.040456</td>\n",
       "      <td>0.043649</td>\n",
       "      <td>108.045212</td>\n",
       "      <td>28.900089</td>\n",
       "      <td>-969.858948</td>\n",
       "      <td>0.719787</td>\n",
       "      <td>0.255863</td>\n",
       "      <td>-0.57866</td>\n",
       "      <td>0.285646</td>\n",
       "    </tr>\n",
       "    <tr>\n",
       "      <th>3</th>\n",
       "      <td>2024-08-14 14:04:53.912948</td>\n",
       "      <td>[[[41, 44, 44], [49, 52, 52], [61, 64, 64], [6...</td>\n",
       "      <td>0.00518</td>\n",
       "      <td>-0.002743</td>\n",
       "      <td>-0.098182</td>\n",
       "      <td>-0.034068</td>\n",
       "      <td>0.040456</td>\n",
       "      <td>0.043649</td>\n",
       "      <td>108.045212</td>\n",
       "      <td>28.900089</td>\n",
       "      <td>-969.858948</td>\n",
       "      <td>0.719787</td>\n",
       "      <td>0.255863</td>\n",
       "      <td>-0.57866</td>\n",
       "      <td>0.285646</td>\n",
       "    </tr>\n",
       "    <tr>\n",
       "      <th>4</th>\n",
       "      <td>2024-08-14 14:04:54.012948</td>\n",
       "      <td>[[[42, 45, 45], [49, 52, 52], [61, 64, 64], [6...</td>\n",
       "      <td>0.00518</td>\n",
       "      <td>-0.002743</td>\n",
       "      <td>-0.098182</td>\n",
       "      <td>-0.034068</td>\n",
       "      <td>0.040456</td>\n",
       "      <td>0.043649</td>\n",
       "      <td>108.045212</td>\n",
       "      <td>28.900089</td>\n",
       "      <td>-969.858948</td>\n",
       "      <td>0.719787</td>\n",
       "      <td>0.255863</td>\n",
       "      <td>-0.57866</td>\n",
       "      <td>0.285646</td>\n",
       "    </tr>\n",
       "  </tbody>\n",
       "</table>\n",
       "</div>"
      ],
      "text/plain": [
       "                   timestamp  \\\n",
       "0 2024-08-14 14:04:53.612948   \n",
       "1 2024-08-14 14:04:53.712948   \n",
       "2 2024-08-14 14:04:53.812948   \n",
       "3 2024-08-14 14:04:53.912948   \n",
       "4 2024-08-14 14:04:54.012948   \n",
       "\n",
       "                                               frame  imu_acc_x  imu_acc_y  \\\n",
       "0  [[[35, 38, 38], [41, 44, 44], [54, 57, 57], [5...    0.00518  -0.002743   \n",
       "1  [[[35, 38, 38], [41, 44, 44], [54, 57, 57], [5...    0.00518  -0.002743   \n",
       "2  [[[35, 38, 38], [41, 44, 44], [54, 57, 57], [5...    0.00518  -0.002743   \n",
       "3  [[[41, 44, 44], [49, 52, 52], [61, 64, 64], [6...    0.00518  -0.002743   \n",
       "4  [[[42, 45, 45], [49, 52, 52], [61, 64, 64], [6...    0.00518  -0.002743   \n",
       "\n",
       "   imu_acc_z  imu_orientation_x  imu_orientation_y  imu_orientation_z  \\\n",
       "0  -0.098182          -0.034068           0.040456           0.043649   \n",
       "1  -0.098182          -0.034068           0.040456           0.043649   \n",
       "2  -0.098182          -0.034068           0.040456           0.043649   \n",
       "3  -0.098182          -0.034068           0.040456           0.043649   \n",
       "4  -0.098182          -0.034068           0.040456           0.043649   \n",
       "\n",
       "     ot_pos_x   ot_pos_y    ot_pos_z     ot_qw     ot_qx    ot_qy     ot_qz  \n",
       "0  108.045212  28.900089 -969.858948  0.719787  0.255863 -0.57866  0.285646  \n",
       "1  108.045212  28.900089 -969.858948  0.719787  0.255863 -0.57866  0.285646  \n",
       "2  108.045212  28.900089 -969.858948  0.719787  0.255863 -0.57866  0.285646  \n",
       "3  108.045212  28.900089 -969.858948  0.719787  0.255863 -0.57866  0.285646  \n",
       "4  108.045212  28.900089 -969.858948  0.719787  0.255863 -0.57866  0.285646  "
      ]
     },
     "execution_count": 3,
     "metadata": {},
     "output_type": "execute_result"
    }
   ],
   "source": [
    "df.head()"
   ]
  },
  {
   "cell_type": "code",
   "execution_count": 4,
   "metadata": {},
   "outputs": [],
   "source": [
    "columns = [\n",
    "    \"timestamp\",\n",
    "    \"frame\",\n",
    "    \"imu_acc_x\",\n",
    "    \"imu_acc_y\",\n",
    "    \"imu_acc_z\",\n",
    "    \"imu_orientation_x\",\n",
    "    \"imu_orientation_y\",\n",
    "    \"imu_orientation_z\",\n",
    "    \"ot_pos_x\",\n",
    "    \"ot_pos_y\",\n",
    "    \"ot_pos_z\",\n",
    "    \"ot_qw\",\n",
    "    \"ot_qx\",\n",
    "    \"ot_qy\",\n",
    "    \"ot_qz\",\n",
    "]\n",
    "\n",
    "numeric_columns = [\n",
    "    \"imu_acc_x\",\n",
    "    \"imu_acc_y\",\n",
    "    \"imu_acc_z\",\n",
    "    \"imu_orientation_x\",\n",
    "    \"imu_orientation_y\",\n",
    "    \"imu_orientation_z\",\n",
    "    \"ot_pos_x\",\n",
    "    \"ot_pos_y\",\n",
    "    \"ot_pos_z\",\n",
    "    \"ot_qw\",\n",
    "    \"ot_qx\",\n",
    "    \"ot_qy\",\n",
    "    \"ot_qz\",\n",
    "]\n",
    "\n",
    "# convert object columns to numeric\n",
    "df[numeric_columns] = df[numeric_columns].apply(pd.to_numeric, errors=\"raise\")"
   ]
  },
  {
   "cell_type": "markdown",
   "id": "cab4db21-8bd0-4a5f-96dc-bd8e982863e5",
   "metadata": {},
   "source": [
    "## 3. Create Dataset for 6DoF Pose Estimation\n"
   ]
  },
  {
   "cell_type": "code",
   "execution_count": 5,
   "id": "67dcdbe8-2f23-4bd3-a32f-fbe038661d15",
   "metadata": {},
   "outputs": [],
   "source": [
    "class PoseEstimationDatasetDisplacement(Dataset):\n",
    "    def __init__(self, df, transform=None, downsample_factor=3):\n",
    "        self.df = df\n",
    "        self.transform = transform\n",
    "        self.downsample_factor = downsample_factor\n",
    "\n",
    "    def __len__(self):\n",
    "        return (\n",
    "            len(self.df) - 1\n",
    "        )  # Return one less since we are calculating displacements\n",
    "\n",
    "    def __getitem__(self, idx):\n",
    "        row1 = self.df.iloc[idx]\n",
    "        row2 = self.df.iloc[idx + 1]\n",
    "\n",
    "        # Load and process ultrasound frames\n",
    "        frame1 = torch.tensor(np.stack(row1[\"frame\"])).float().permute(2, 0, 1)\n",
    "        frame2 = torch.tensor(np.stack(row2[\"frame\"])).float().permute(2, 0, 1)\n",
    "\n",
    "        if self.downsample_factor > 1:\n",
    "            frame1 = F.resize(\n",
    "                frame1,\n",
    "                [\n",
    "                    frame1.shape[1] // self.downsample_factor,\n",
    "                    frame1.shape[2] // self.downsample_factor,\n",
    "                ],\n",
    "            )\n",
    "            frame2 = F.resize(\n",
    "                frame2,\n",
    "                [\n",
    "                    frame2.shape[1] // self.downsample_factor,\n",
    "                    frame2.shape[2] // self.downsample_factor,\n",
    "                ],\n",
    "            )\n",
    "\n",
    "        # Stack frames along the channel dimension\n",
    "        frames = torch.cat([frame1, frame2], dim=0)\n",
    "\n",
    "        # IMU data from the second frame\n",
    "        imu_data = torch.tensor(\n",
    "            [\n",
    "                row2[\"imu_acc_x\"],\n",
    "                row2[\"imu_acc_y\"],\n",
    "                row2[\"imu_acc_z\"],\n",
    "                row2[\"imu_orientation_x\"],\n",
    "                row2[\"imu_orientation_y\"],\n",
    "                row2[\"imu_orientation_z\"],\n",
    "            ]\n",
    "        ).float()\n",
    "\n",
    "        # Displacement (translation difference)\n",
    "        delta_translation = torch.tensor(\n",
    "            [\n",
    "                row2[\"ot_pos_x\"] - row1[\"ot_pos_x\"],\n",
    "                row2[\"ot_pos_y\"] - row1[\"ot_pos_y\"],\n",
    "                row2[\"ot_pos_z\"] - row1[\"ot_pos_z\"],\n",
    "            ]\n",
    "        ).float()\n",
    "\n",
    "        # Angular displacement (rotation difference in quaternion)\n",
    "        q1 = Rotation.from_quat(\n",
    "            [row1[\"ot_qx\"], row1[\"ot_qy\"], row1[\"ot_qz\"], row1[\"ot_qw\"]]\n",
    "        )\n",
    "        q2 = Rotation.from_quat(\n",
    "            [row2[\"ot_qx\"], row2[\"ot_qy\"], row2[\"ot_qz\"], row2[\"ot_qw\"]]\n",
    "        )\n",
    "        delta_rotation = q2 * q1.inv()  # Calculate relative rotation\n",
    "        delta_rotation_quat = (\n",
    "            delta_rotation.as_quat()\n",
    "        )  # Convert to quaternion (qx, qy, qz, qw)\n",
    "\n",
    "        # Concatenate displacement and angular displacement\n",
    "        target = torch.tensor(np.hstack((delta_translation, delta_rotation_quat)))\n",
    "\n",
    "        return frames, imu_data, target"
   ]
  },
  {
   "cell_type": "code",
   "execution_count": 6,
   "id": "80cb30d9-5496-4773-8e7b-a60f5602441e",
   "metadata": {},
   "outputs": [],
   "source": [
    "# Create the dataset\n",
    "pose_dataset = PoseEstimationDatasetDisplacement(df)\n",
    "\n",
    "# Split the dataset without random sampling\n",
    "train_indices, val_indices = train_test_split(\n",
    "    np.arange(len(pose_dataset)), test_size=0.2, shuffle=False\n",
    ")\n",
    "\n",
    "train_dataset = Subset(pose_dataset, train_indices)\n",
    "val_dataset = Subset(pose_dataset, val_indices)\n",
    "\n",
    "# Create the dataloaders\n",
    "train_loader = DataLoader(train_dataset, batch_size=8, shuffle=False)\n",
    "val_loader = DataLoader(val_dataset, batch_size=1, shuffle=False)"
   ]
  },
  {
   "cell_type": "code",
   "execution_count": 7,
   "metadata": {},
   "outputs": [
    {
     "data": {
      "text/plain": [
       "(tensor([[[45.4236, 63.8781, 72.2793,  ..., 78.2692, 80.6717, 87.9683],\n",
       "          [48.1371, 67.4674, 74.2905,  ..., 81.1954, 82.3264, 85.3231],\n",
       "          [54.3800, 72.7009, 75.6444,  ..., 81.9592, 82.2765, 84.0203],\n",
       "          ...,\n",
       "          [18.2362, 24.4952, 25.3361,  ..., 26.1822, 25.5900, 24.9281],\n",
       "          [18.1391, 23.7298, 24.3351,  ..., 26.7768, 25.7774, 25.1107],\n",
       "          [17.8753, 23.1950, 23.6256,  ..., 26.9999, 26.3744, 26.1238]],\n",
       " \n",
       "         [[48.4236, 66.8782, 75.2793,  ..., 81.2692, 83.6717, 90.9683],\n",
       "          [50.7995, 70.1298, 76.9529,  ..., 83.8577, 84.9887, 87.9854],\n",
       "          [54.7112, 73.0320, 75.9756,  ..., 82.2904, 82.6077, 84.3514],\n",
       "          ...,\n",
       "          [18.2362, 24.4952, 25.3361,  ..., 26.1822, 25.5900, 24.9281],\n",
       "          [18.1391, 23.7298, 24.3351,  ..., 26.7768, 25.7774, 25.1107],\n",
       "          [17.8753, 23.1950, 23.6256,  ..., 26.9999, 26.3744, 26.1238]],\n",
       " \n",
       "         [[48.4236, 66.8782, 75.2793,  ..., 81.2692, 83.6717, 90.9683],\n",
       "          [50.7995, 70.1298, 76.9529,  ..., 83.8577, 84.9887, 87.9854],\n",
       "          [54.7112, 73.0320, 75.9756,  ..., 82.2904, 82.6077, 84.3514],\n",
       "          ...,\n",
       "          [18.2362, 24.4952, 25.3361,  ..., 26.1822, 25.5900, 24.9281],\n",
       "          [18.1391, 23.7298, 24.3351,  ..., 26.7768, 25.7774, 25.1107],\n",
       "          [17.8753, 23.1950, 23.6256,  ..., 26.9999, 26.3744, 26.1238]],\n",
       " \n",
       "         [[45.4236, 63.7954, 72.1971,  ..., 76.2131, 79.8797, 87.9683],\n",
       "          [48.1371, 67.9487, 75.2531,  ..., 79.2359, 81.4266, 85.2537],\n",
       "          [54.3800, 72.8482, 75.9390,  ..., 81.5906, 82.1415, 84.0065],\n",
       "          ...,\n",
       "          [18.3192, 24.7167, 26.0011,  ..., 24.9616, 24.4796, 24.3310],\n",
       "          [18.2641, 24.0262, 24.9286,  ..., 25.0000, 24.9994, 25.0684],\n",
       "          [17.9223, 23.3202, 23.9589,  ..., 24.5285, 24.8475, 25.1563]],\n",
       " \n",
       "         [[48.4236, 66.7954, 75.1971,  ..., 79.2131, 82.8797, 90.9683],\n",
       "          [50.7995, 70.6111, 77.9154,  ..., 81.8982, 84.0890, 87.9160],\n",
       "          [54.7112, 73.1793, 76.2701,  ..., 81.9217, 82.4726, 84.3376],\n",
       "          ...,\n",
       "          [18.3192, 24.7167, 26.0011,  ..., 24.9616, 24.4796, 24.3310],\n",
       "          [18.2641, 24.0262, 24.9286,  ..., 25.0000, 24.9994, 25.0684],\n",
       "          [17.9223, 23.3202, 23.9589,  ..., 24.5285, 24.8475, 25.1563]],\n",
       " \n",
       "         [[48.4236, 66.7954, 75.1971,  ..., 79.2131, 82.8797, 90.9683],\n",
       "          [50.7995, 70.6111, 77.9154,  ..., 81.8982, 84.0890, 87.9160],\n",
       "          [54.7112, 73.1793, 76.2701,  ..., 81.9217, 82.4726, 84.3376],\n",
       "          ...,\n",
       "          [18.3192, 24.7167, 26.0011,  ..., 24.9616, 24.4796, 24.3310],\n",
       "          [18.2641, 24.0262, 24.9286,  ..., 25.0000, 24.9994, 25.0684],\n",
       "          [17.9223, 23.3202, 23.9589,  ..., 24.5285, 24.8475, 25.1563]]]),\n",
       " tensor([ 0.0052, -0.0027, -0.0982, -0.0341,  0.0405,  0.0436]),\n",
       " tensor([0., 0., 0., 0., 0., 0., 1.], dtype=torch.float64))"
      ]
     },
     "execution_count": 7,
     "metadata": {},
     "output_type": "execute_result"
    }
   ],
   "source": [
    "pose_dataset[0]"
   ]
  },
  {
   "cell_type": "code",
   "execution_count": 8,
   "metadata": {},
   "outputs": [
    {
     "data": {
      "text/plain": [
       "(torch.Size([6, 333, 219]), torch.Size([6]), torch.Size([7]))"
      ]
     },
     "execution_count": 8,
     "metadata": {},
     "output_type": "execute_result"
    }
   ],
   "source": [
    "pose_dataset[0][0].shape, pose_dataset[0][1].shape, pose_dataset[0][2].shape"
   ]
  },
  {
   "cell_type": "markdown",
   "id": "cc31ce15-3977-48bd-bfb0-e13c31ccebc2",
   "metadata": {},
   "source": [
    "## 4. Define Model for 6DoF Pose Estimation\n"
   ]
  },
  {
   "cell_type": "code",
   "execution_count": 9,
   "id": "bab21098-25e4-48f4-8531-a885b00c140e",
   "metadata": {},
   "outputs": [],
   "source": [
    "class PoseEstimationModelDisplacement(nn.Module):\n",
    "    def __init__(self, input_channels=6, downsample_factor=3):\n",
    "        super(PoseEstimationModelDisplacement, self).__init__()\n",
    "\n",
    "        # CNN for ultrasound frames\n",
    "        self.conv1 = nn.Conv2d(input_channels, 32, kernel_size=3, padding=1)\n",
    "        self.conv2 = nn.Conv2d(32, 64, kernel_size=3, padding=1)\n",
    "        self.pool = nn.MaxPool2d(2, 2)\n",
    "\n",
    "        # LSTM for IMU data (you can replace this with GRU, Mamba SSM, etc.)\n",
    "        self.lstm = nn.LSTM(input_size=6, hidden_size=64, batch_first=True)\n",
    "\n",
    "        # Fully connected layers for displacement and angular displacement\n",
    "        conv_output_height = 1000 // (4 * downsample_factor)\n",
    "        conv_output_width = 657 // (4 * downsample_factor)\n",
    "\n",
    "        self.fc = nn.Sequential(\n",
    "            nn.Linear(64 * conv_output_height * conv_output_width + 64, 256),\n",
    "            nn.ReLU(),\n",
    "            nn.Linear(\n",
    "                256, 7\n",
    "            ),  # 3 for displacement, 4 for angular displacement (quaternion)\n",
    "        )\n",
    "\n",
    "    def forward(self, frames, imu_data):\n",
    "        # CNN for ultrasound frames\n",
    "        x = self.pool(torch.relu(self.conv1(frames)))\n",
    "        x = self.pool(torch.relu(self.conv2(x)))\n",
    "        x = x.view(x.size(0), -1)  # Flatten the output\n",
    "\n",
    "        # LSTM for IMU data (or GRU, Mamba SSM, etc.)\n",
    "        imu_data = imu_data.unsqueeze(1)\n",
    "        if imu_data.size(0) != x.size(0):\n",
    "            imu_data = imu_data.expand(x.size(0), imu_data.size(1), imu_data.size(2))\n",
    "\n",
    "        lstm_out, _ = self.lstm(imu_data)\n",
    "        lstm_out = lstm_out[:, -1, :]  # Take the last output of the sequence\n",
    "\n",
    "        # Concatenate CNN and LSTM outputs\n",
    "        combined = torch.cat((x, lstm_out), dim=1)\n",
    "\n",
    "        # Fully connected layers for displacement and angular displacement\n",
    "        output = self.fc(combined)\n",
    "\n",
    "        return output"
   ]
  },
  {
   "cell_type": "markdown",
   "id": "a2533464-c22c-47fa-8aee-fdaae7ca1907",
   "metadata": {},
   "source": [
    "## 5. Train the Model\n"
   ]
  },
  {
   "cell_type": "code",
   "execution_count": 10,
   "id": "cc985611-87b6-4bf6-920a-1f6e836629ef",
   "metadata": {},
   "outputs": [
    {
     "name": "stderr",
     "output_type": "stream",
     "text": [
      "/home/varun/mambaforge/envs/abusfusion/lib/python3.12/site-packages/torch/optim/lr_scheduler.py:60: UserWarning: The verbose parameter is deprecated. Please use get_last_lr() to access the learning rate.\n",
      "  warnings.warn(\n"
     ]
    }
   ],
   "source": [
    "device = torch.device(\"cuda\" if torch.cuda.is_available() else \"cpu\")\n",
    "model = PoseEstimationModelDisplacement().to(device)\n",
    "criterion = nn.L1Loss()\n",
    "optimizer = torch.optim.Adam(model.parameters(), lr=1e-4)\n",
    "scheduler = torch.optim.lr_scheduler.ReduceLROnPlateau(\n",
    "    optimizer, mode=\"min\", factor=0.1, patience=5, verbose=True\n",
    ")"
   ]
  },
  {
   "cell_type": "code",
   "execution_count": 11,
   "id": "45c3280b-6be3-4204-8318-a3f8e6e563c6",
   "metadata": {},
   "outputs": [],
   "source": [
    "def train_model(\n",
    "    model,\n",
    "    train_loader,\n",
    "    val_loader,\n",
    "    criterion,\n",
    "    optimizer,\n",
    "    scheduler,\n",
    "    num_epochs=1000,\n",
    "    patience=10,\n",
    "):\n",
    "    best_val_loss = float(\"inf\")\n",
    "    best_model_weights = None\n",
    "    epochs_no_improve = 0\n",
    "\n",
    "    for epoch in tqdm(range(num_epochs), desc=\"Epochs\", position=0):\n",
    "        model.train()\n",
    "        train_loss = 0.0\n",
    "        epoch_progress = tqdm(\n",
    "            train_loader, desc=f\"Epoch {epoch+1}/{num_epochs}\", position=1, leave=False\n",
    "        )\n",
    "\n",
    "        for frames, imu_data, targets in epoch_progress:\n",
    "            frames, imu_data, targets = (\n",
    "                frames.to(device),\n",
    "                imu_data.to(device),\n",
    "                targets.to(device),\n",
    "            )\n",
    "            optimizer.zero_grad()\n",
    "\n",
    "            # Forward pass\n",
    "            outputs = model(frames, imu_data)\n",
    "            loss = criterion(outputs, targets)\n",
    "\n",
    "            # Backward pass and optimization\n",
    "            loss.backward()\n",
    "            optimizer.step()\n",
    "\n",
    "            train_loss += loss.item()\n",
    "            train_loss_avg = train_loss / (epoch_progress.n + 1)\n",
    "            epoch_progress.set_postfix({\"Avg Loss\": f\"{train_loss_avg:.4f}\"})\n",
    "\n",
    "        # Validation step\n",
    "        model.eval()\n",
    "        val_loss = 0.0\n",
    "        with torch.no_grad():\n",
    "            for frames, imu_data, targets in val_loader:\n",
    "                frames, imu_data, targets = (\n",
    "                    frames.to(device),\n",
    "                    imu_data.to(device),\n",
    "                    targets.to(device),\n",
    "                )\n",
    "                outputs = model(frames, imu_data)\n",
    "                loss = criterion(outputs, targets)\n",
    "                val_loss += loss.item()\n",
    "\n",
    "        val_loss /= len(val_loader)\n",
    "        scheduler.step(val_loss)\n",
    "\n",
    "        tqdm.write(\n",
    "            f\"Epoch {epoch+1}/{num_epochs}, Train Loss: {train_loss_avg:.4f}, Val Loss: {val_loss:.4f}\"\n",
    "        )\n",
    "\n",
    "        if val_loss < best_val_loss:\n",
    "            best_val_loss = val_loss\n",
    "            best_model_weights = model.state_dict().copy()\n",
    "            epochs_no_improve = 0\n",
    "        else:\n",
    "            epochs_no_improve += 1\n",
    "            if epochs_no_improve == patience:\n",
    "                tqdm.write(\"Early stopping triggered\")\n",
    "                break\n",
    "\n",
    "    model.load_state_dict(best_model_weights)\n",
    "    return model"
   ]
  },
  {
   "cell_type": "code",
   "execution_count": 12,
   "id": "7eed30da-cea8-4d26-9100-1a4c8c93ba6d",
   "metadata": {},
   "outputs": [
    {
     "data": {
      "application/vnd.jupyter.widget-view+json": {
       "model_id": "8596c1f2152b4842b291dc88833401c5",
       "version_major": 2,
       "version_minor": 0
      },
      "text/plain": [
       "Epochs:   0%|          | 0/1000 [00:00<?, ?it/s]"
      ]
     },
     "metadata": {},
     "output_type": "display_data"
    },
    {
     "data": {
      "application/vnd.jupyter.widget-view+json": {
       "model_id": "393c750f0a12409dbfd4de9e44c03850",
       "version_major": 2,
       "version_minor": 0
      },
      "text/plain": [
       "Epoch 1/1000:   0%|          | 0/50 [00:00<?, ?it/s]"
      ]
     },
     "metadata": {},
     "output_type": "display_data"
    },
    {
     "name": "stdout",
     "output_type": "stream",
     "text": [
      "Epoch 1/1000, Train Loss: 5.1260, Val Loss: 0.2180\n"
     ]
    },
    {
     "data": {
      "application/vnd.jupyter.widget-view+json": {
       "model_id": "5f3129e157c14c00a3eac5b917fef671",
       "version_major": 2,
       "version_minor": 0
      },
      "text/plain": [
       "Epoch 2/1000:   0%|          | 0/50 [00:00<?, ?it/s]"
      ]
     },
     "metadata": {},
     "output_type": "display_data"
    },
    {
     "name": "stdout",
     "output_type": "stream",
     "text": [
      "Epoch 2/1000, Train Loss: 0.2318, Val Loss: 0.2124\n"
     ]
    },
    {
     "data": {
      "application/vnd.jupyter.widget-view+json": {
       "model_id": "30b99062775f435c95caa63f69950bb0",
       "version_major": 2,
       "version_minor": 0
      },
      "text/plain": [
       "Epoch 3/1000:   0%|          | 0/50 [00:00<?, ?it/s]"
      ]
     },
     "metadata": {},
     "output_type": "display_data"
    },
    {
     "name": "stdout",
     "output_type": "stream",
     "text": [
      "Epoch 3/1000, Train Loss: 0.2037, Val Loss: 0.2096\n"
     ]
    },
    {
     "data": {
      "application/vnd.jupyter.widget-view+json": {
       "model_id": "a16151c2d3ee49f990b83581e7bb099f",
       "version_major": 2,
       "version_minor": 0
      },
      "text/plain": [
       "Epoch 4/1000:   0%|          | 0/50 [00:00<?, ?it/s]"
      ]
     },
     "metadata": {},
     "output_type": "display_data"
    },
    {
     "name": "stdout",
     "output_type": "stream",
     "text": [
      "Epoch 4/1000, Train Loss: 0.2005, Val Loss: 0.2068\n"
     ]
    },
    {
     "data": {
      "application/vnd.jupyter.widget-view+json": {
       "model_id": "a279d3962a5a456d9e62629fe073b94f",
       "version_major": 2,
       "version_minor": 0
      },
      "text/plain": [
       "Epoch 5/1000:   0%|          | 0/50 [00:00<?, ?it/s]"
      ]
     },
     "metadata": {},
     "output_type": "display_data"
    },
    {
     "name": "stdout",
     "output_type": "stream",
     "text": [
      "Epoch 5/1000, Train Loss: 0.1973, Val Loss: 0.2041\n"
     ]
    },
    {
     "data": {
      "application/vnd.jupyter.widget-view+json": {
       "model_id": "94f5ad57d7964247a2c328ab621ac694",
       "version_major": 2,
       "version_minor": 0
      },
      "text/plain": [
       "Epoch 6/1000:   0%|          | 0/50 [00:00<?, ?it/s]"
      ]
     },
     "metadata": {},
     "output_type": "display_data"
    },
    {
     "name": "stdout",
     "output_type": "stream",
     "text": [
      "Epoch 6/1000, Train Loss: 0.1946, Val Loss: 0.2020\n"
     ]
    },
    {
     "data": {
      "application/vnd.jupyter.widget-view+json": {
       "model_id": "553fc9aef3314f55939d53dc89071c0d",
       "version_major": 2,
       "version_minor": 0
      },
      "text/plain": [
       "Epoch 7/1000:   0%|          | 0/50 [00:00<?, ?it/s]"
      ]
     },
     "metadata": {},
     "output_type": "display_data"
    },
    {
     "name": "stdout",
     "output_type": "stream",
     "text": [
      "Epoch 7/1000, Train Loss: 0.1922, Val Loss: 0.1999\n"
     ]
    },
    {
     "data": {
      "application/vnd.jupyter.widget-view+json": {
       "model_id": "9e0e4b84cec44e2d8178d9bcc030babc",
       "version_major": 2,
       "version_minor": 0
      },
      "text/plain": [
       "Epoch 8/1000:   0%|          | 0/50 [00:00<?, ?it/s]"
      ]
     },
     "metadata": {},
     "output_type": "display_data"
    },
    {
     "name": "stdout",
     "output_type": "stream",
     "text": [
      "Epoch 8/1000, Train Loss: 0.1897, Val Loss: 0.1977\n"
     ]
    },
    {
     "data": {
      "application/vnd.jupyter.widget-view+json": {
       "model_id": "6a64b8e6719e49dba44d675c75f1e24f",
       "version_major": 2,
       "version_minor": 0
      },
      "text/plain": [
       "Epoch 9/1000:   0%|          | 0/50 [00:00<?, ?it/s]"
      ]
     },
     "metadata": {},
     "output_type": "display_data"
    },
    {
     "name": "stdout",
     "output_type": "stream",
     "text": [
      "Epoch 9/1000, Train Loss: 0.1873, Val Loss: 0.1956\n"
     ]
    },
    {
     "data": {
      "application/vnd.jupyter.widget-view+json": {
       "model_id": "49e06826091c400fa9750005fe37482a",
       "version_major": 2,
       "version_minor": 0
      },
      "text/plain": [
       "Epoch 10/1000:   0%|          | 0/50 [00:00<?, ?it/s]"
      ]
     },
     "metadata": {},
     "output_type": "display_data"
    },
    {
     "name": "stdout",
     "output_type": "stream",
     "text": [
      "Epoch 10/1000, Train Loss: 0.1812, Val Loss: 0.1935\n"
     ]
    },
    {
     "data": {
      "application/vnd.jupyter.widget-view+json": {
       "model_id": "d0f3e74916e24a8a952384048b85aedf",
       "version_major": 2,
       "version_minor": 0
      },
      "text/plain": [
       "Epoch 11/1000:   0%|          | 0/50 [00:00<?, ?it/s]"
      ]
     },
     "metadata": {},
     "output_type": "display_data"
    },
    {
     "name": "stdout",
     "output_type": "stream",
     "text": [
      "Epoch 11/1000, Train Loss: 0.1830, Val Loss: 0.1923\n"
     ]
    },
    {
     "data": {
      "application/vnd.jupyter.widget-view+json": {
       "model_id": "3cee4ce4d9e342f598a50e88b0c1233f",
       "version_major": 2,
       "version_minor": 0
      },
      "text/plain": [
       "Epoch 12/1000:   0%|          | 0/50 [00:00<?, ?it/s]"
      ]
     },
     "metadata": {},
     "output_type": "display_data"
    },
    {
     "name": "stdout",
     "output_type": "stream",
     "text": [
      "Epoch 12/1000, Train Loss: 0.1813, Val Loss: 0.1910\n"
     ]
    },
    {
     "data": {
      "application/vnd.jupyter.widget-view+json": {
       "model_id": "2f7e2615a3ef4c0999cde9a77a5da724",
       "version_major": 2,
       "version_minor": 0
      },
      "text/plain": [
       "Epoch 13/1000:   0%|          | 0/50 [00:00<?, ?it/s]"
      ]
     },
     "metadata": {},
     "output_type": "display_data"
    },
    {
     "name": "stdout",
     "output_type": "stream",
     "text": [
      "Epoch 13/1000, Train Loss: 0.1797, Val Loss: 0.1901\n"
     ]
    },
    {
     "data": {
      "application/vnd.jupyter.widget-view+json": {
       "model_id": "75680b85ce4e40629748604f977b4c4d",
       "version_major": 2,
       "version_minor": 0
      },
      "text/plain": [
       "Epoch 14/1000:   0%|          | 0/50 [00:00<?, ?it/s]"
      ]
     },
     "metadata": {},
     "output_type": "display_data"
    },
    {
     "name": "stdout",
     "output_type": "stream",
     "text": [
      "Epoch 14/1000, Train Loss: 0.1784, Val Loss: 0.1894\n"
     ]
    },
    {
     "data": {
      "application/vnd.jupyter.widget-view+json": {
       "model_id": "9e9d4507adc949f2bc61cb90444e3917",
       "version_major": 2,
       "version_minor": 0
      },
      "text/plain": [
       "Epoch 15/1000:   0%|          | 0/50 [00:00<?, ?it/s]"
      ]
     },
     "metadata": {},
     "output_type": "display_data"
    },
    {
     "name": "stdout",
     "output_type": "stream",
     "text": [
      "Epoch 15/1000, Train Loss: 0.1775, Val Loss: 0.1888\n"
     ]
    },
    {
     "data": {
      "application/vnd.jupyter.widget-view+json": {
       "model_id": "ed2bf19e968f41819c8ef086b03e3424",
       "version_major": 2,
       "version_minor": 0
      },
      "text/plain": [
       "Epoch 16/1000:   0%|          | 0/50 [00:00<?, ?it/s]"
      ]
     },
     "metadata": {},
     "output_type": "display_data"
    },
    {
     "name": "stdout",
     "output_type": "stream",
     "text": [
      "Epoch 16/1000, Train Loss: 0.1766, Val Loss: 0.1881\n"
     ]
    },
    {
     "data": {
      "application/vnd.jupyter.widget-view+json": {
       "model_id": "a29f727a798f48af9965fc69f1b7d251",
       "version_major": 2,
       "version_minor": 0
      },
      "text/plain": [
       "Epoch 17/1000:   0%|          | 0/50 [00:00<?, ?it/s]"
      ]
     },
     "metadata": {},
     "output_type": "display_data"
    },
    {
     "name": "stdout",
     "output_type": "stream",
     "text": [
      "Epoch 17/1000, Train Loss: 0.1722, Val Loss: 0.1874\n"
     ]
    },
    {
     "data": {
      "application/vnd.jupyter.widget-view+json": {
       "model_id": "c771add81f974e35bbce97ca1fbb3af4",
       "version_major": 2,
       "version_minor": 0
      },
      "text/plain": [
       "Epoch 18/1000:   0%|          | 0/50 [00:00<?, ?it/s]"
      ]
     },
     "metadata": {},
     "output_type": "display_data"
    },
    {
     "name": "stdout",
     "output_type": "stream",
     "text": [
      "Epoch 18/1000, Train Loss: 0.1748, Val Loss: 0.1868\n"
     ]
    },
    {
     "data": {
      "application/vnd.jupyter.widget-view+json": {
       "model_id": "c911f850763e452180e1c80ee1a3e978",
       "version_major": 2,
       "version_minor": 0
      },
      "text/plain": [
       "Epoch 19/1000:   0%|          | 0/50 [00:00<?, ?it/s]"
      ]
     },
     "metadata": {},
     "output_type": "display_data"
    },
    {
     "name": "stdout",
     "output_type": "stream",
     "text": [
      "Epoch 19/1000, Train Loss: 0.1705, Val Loss: 0.1862\n"
     ]
    },
    {
     "data": {
      "application/vnd.jupyter.widget-view+json": {
       "model_id": "0d64c175a1924ece850d15b0d141b602",
       "version_major": 2,
       "version_minor": 0
      },
      "text/plain": [
       "Epoch 20/1000:   0%|          | 0/50 [00:00<?, ?it/s]"
      ]
     },
     "metadata": {},
     "output_type": "display_data"
    },
    {
     "name": "stdout",
     "output_type": "stream",
     "text": [
      "Epoch 20/1000, Train Loss: 0.1730, Val Loss: 0.1855\n"
     ]
    },
    {
     "data": {
      "application/vnd.jupyter.widget-view+json": {
       "model_id": "2ad3ee9963ba47d0a1be729a9dd800c5",
       "version_major": 2,
       "version_minor": 0
      },
      "text/plain": [
       "Epoch 21/1000:   0%|          | 0/50 [00:00<?, ?it/s]"
      ]
     },
     "metadata": {},
     "output_type": "display_data"
    },
    {
     "name": "stdout",
     "output_type": "stream",
     "text": [
      "Epoch 21/1000, Train Loss: 0.1722, Val Loss: 0.1849\n"
     ]
    },
    {
     "data": {
      "application/vnd.jupyter.widget-view+json": {
       "model_id": "e3ef9b56b753405ebc0b42e879ddc5b5",
       "version_major": 2,
       "version_minor": 0
      },
      "text/plain": [
       "Epoch 22/1000:   0%|          | 0/50 [00:00<?, ?it/s]"
      ]
     },
     "metadata": {},
     "output_type": "display_data"
    },
    {
     "name": "stdout",
     "output_type": "stream",
     "text": [
      "Epoch 22/1000, Train Loss: 0.1714, Val Loss: 0.1841\n"
     ]
    },
    {
     "data": {
      "application/vnd.jupyter.widget-view+json": {
       "model_id": "b3a4dfc7fce94c999f640115a87b0584",
       "version_major": 2,
       "version_minor": 0
      },
      "text/plain": [
       "Epoch 23/1000:   0%|          | 0/50 [00:00<?, ?it/s]"
      ]
     },
     "metadata": {},
     "output_type": "display_data"
    },
    {
     "name": "stdout",
     "output_type": "stream",
     "text": [
      "Epoch 23/1000, Train Loss: 0.1707, Val Loss: 0.1835\n"
     ]
    },
    {
     "data": {
      "application/vnd.jupyter.widget-view+json": {
       "model_id": "162d125a9c624cb78f8f30474cbe2385",
       "version_major": 2,
       "version_minor": 0
      },
      "text/plain": [
       "Epoch 24/1000:   0%|          | 0/50 [00:00<?, ?it/s]"
      ]
     },
     "metadata": {},
     "output_type": "display_data"
    },
    {
     "name": "stdout",
     "output_type": "stream",
     "text": [
      "Epoch 24/1000, Train Loss: 0.1665, Val Loss: 0.1828\n"
     ]
    },
    {
     "data": {
      "application/vnd.jupyter.widget-view+json": {
       "model_id": "e24c2214321c43fc9d7322d8b077894f",
       "version_major": 2,
       "version_minor": 0
      },
      "text/plain": [
       "Epoch 25/1000:   0%|          | 0/50 [00:00<?, ?it/s]"
      ]
     },
     "metadata": {},
     "output_type": "display_data"
    },
    {
     "name": "stdout",
     "output_type": "stream",
     "text": [
      "Epoch 25/1000, Train Loss: 0.1692, Val Loss: 0.1821\n"
     ]
    },
    {
     "data": {
      "application/vnd.jupyter.widget-view+json": {
       "model_id": "3aff1e25d1264bf3b26e53ff8890ebda",
       "version_major": 2,
       "version_minor": 0
      },
      "text/plain": [
       "Epoch 26/1000:   0%|          | 0/50 [00:00<?, ?it/s]"
      ]
     },
     "metadata": {},
     "output_type": "display_data"
    },
    {
     "name": "stdout",
     "output_type": "stream",
     "text": [
      "Epoch 26/1000, Train Loss: 0.1684, Val Loss: 0.1814\n"
     ]
    },
    {
     "data": {
      "application/vnd.jupyter.widget-view+json": {
       "model_id": "b5c8e08277ae498fb313d2a9c5df6e46",
       "version_major": 2,
       "version_minor": 0
      },
      "text/plain": [
       "Epoch 27/1000:   0%|          | 0/50 [00:00<?, ?it/s]"
      ]
     },
     "metadata": {},
     "output_type": "display_data"
    },
    {
     "name": "stdout",
     "output_type": "stream",
     "text": [
      "Epoch 27/1000, Train Loss: 0.1677, Val Loss: 0.1808\n"
     ]
    },
    {
     "data": {
      "application/vnd.jupyter.widget-view+json": {
       "model_id": "8cfacf60d7ca4ad0876766d0646a2094",
       "version_major": 2,
       "version_minor": 0
      },
      "text/plain": [
       "Epoch 28/1000:   0%|          | 0/50 [00:00<?, ?it/s]"
      ]
     },
     "metadata": {},
     "output_type": "display_data"
    },
    {
     "name": "stdout",
     "output_type": "stream",
     "text": [
      "Epoch 28/1000, Train Loss: 0.1670, Val Loss: 0.1801\n"
     ]
    },
    {
     "data": {
      "application/vnd.jupyter.widget-view+json": {
       "model_id": "e25f4de7dbba4df78862f70b30e18cc6",
       "version_major": 2,
       "version_minor": 0
      },
      "text/plain": [
       "Epoch 29/1000:   0%|          | 0/50 [00:00<?, ?it/s]"
      ]
     },
     "metadata": {},
     "output_type": "display_data"
    },
    {
     "name": "stdout",
     "output_type": "stream",
     "text": [
      "Epoch 29/1000, Train Loss: 0.1629, Val Loss: 0.1794\n"
     ]
    },
    {
     "data": {
      "application/vnd.jupyter.widget-view+json": {
       "model_id": "a4268760ab7a4f82ae0c8f5f8e173398",
       "version_major": 2,
       "version_minor": 0
      },
      "text/plain": [
       "Epoch 30/1000:   0%|          | 0/50 [00:00<?, ?it/s]"
      ]
     },
     "metadata": {},
     "output_type": "display_data"
    },
    {
     "name": "stdout",
     "output_type": "stream",
     "text": [
      "Epoch 30/1000, Train Loss: 0.1655, Val Loss: 0.1787\n"
     ]
    },
    {
     "data": {
      "application/vnd.jupyter.widget-view+json": {
       "model_id": "3c7a9e30fb0b4a0880f30c9b65d887b6",
       "version_major": 2,
       "version_minor": 0
      },
      "text/plain": [
       "Epoch 31/1000:   0%|          | 0/50 [00:00<?, ?it/s]"
      ]
     },
     "metadata": {},
     "output_type": "display_data"
    },
    {
     "name": "stdout",
     "output_type": "stream",
     "text": [
      "Epoch 31/1000, Train Loss: 0.1648, Val Loss: 0.1780\n"
     ]
    },
    {
     "data": {
      "application/vnd.jupyter.widget-view+json": {
       "model_id": "bdf6a5d6692c4a8abe4b77c5fd2d08f6",
       "version_major": 2,
       "version_minor": 0
      },
      "text/plain": [
       "Epoch 32/1000:   0%|          | 0/50 [00:00<?, ?it/s]"
      ]
     },
     "metadata": {},
     "output_type": "display_data"
    },
    {
     "name": "stdout",
     "output_type": "stream",
     "text": [
      "Epoch 32/1000, Train Loss: 0.1640, Val Loss: 0.1773\n"
     ]
    },
    {
     "data": {
      "application/vnd.jupyter.widget-view+json": {
       "model_id": "54b846165dc241598fda17de5c354c1e",
       "version_major": 2,
       "version_minor": 0
      },
      "text/plain": [
       "Epoch 33/1000:   0%|          | 0/50 [00:00<?, ?it/s]"
      ]
     },
     "metadata": {},
     "output_type": "display_data"
    },
    {
     "name": "stdout",
     "output_type": "stream",
     "text": [
      "Epoch 33/1000, Train Loss: 0.1633, Val Loss: 0.1766\n"
     ]
    },
    {
     "data": {
      "application/vnd.jupyter.widget-view+json": {
       "model_id": "dd523a8c1fb54f2cbf2be4b5d8b009d8",
       "version_major": 2,
       "version_minor": 0
      },
      "text/plain": [
       "Epoch 34/1000:   0%|          | 0/50 [00:00<?, ?it/s]"
      ]
     },
     "metadata": {},
     "output_type": "display_data"
    },
    {
     "name": "stdout",
     "output_type": "stream",
     "text": [
      "Epoch 34/1000, Train Loss: 0.1626, Val Loss: 0.1760\n"
     ]
    },
    {
     "data": {
      "application/vnd.jupyter.widget-view+json": {
       "model_id": "27c858141473407cae9d27e4d33cdcb3",
       "version_major": 2,
       "version_minor": 0
      },
      "text/plain": [
       "Epoch 35/1000:   0%|          | 0/50 [00:00<?, ?it/s]"
      ]
     },
     "metadata": {},
     "output_type": "display_data"
    },
    {
     "name": "stdout",
     "output_type": "stream",
     "text": [
      "Epoch 35/1000, Train Loss: 0.1618, Val Loss: 0.1753\n"
     ]
    },
    {
     "data": {
      "application/vnd.jupyter.widget-view+json": {
       "model_id": "3e44498e7a3840ab84d6919042028ad3",
       "version_major": 2,
       "version_minor": 0
      },
      "text/plain": [
       "Epoch 36/1000:   0%|          | 0/50 [00:00<?, ?it/s]"
      ]
     },
     "metadata": {},
     "output_type": "display_data"
    },
    {
     "name": "stdout",
     "output_type": "stream",
     "text": [
      "Epoch 36/1000, Train Loss: 0.1611, Val Loss: 0.1746\n"
     ]
    },
    {
     "data": {
      "application/vnd.jupyter.widget-view+json": {
       "model_id": "79dbb54099704ee19e3166e42ee93234",
       "version_major": 2,
       "version_minor": 0
      },
      "text/plain": [
       "Epoch 37/1000:   0%|          | 0/50 [00:00<?, ?it/s]"
      ]
     },
     "metadata": {},
     "output_type": "display_data"
    },
    {
     "name": "stdout",
     "output_type": "stream",
     "text": [
      "Epoch 37/1000, Train Loss: 0.1604, Val Loss: 0.1739\n"
     ]
    },
    {
     "data": {
      "application/vnd.jupyter.widget-view+json": {
       "model_id": "34dbbb07a63c4d8e8008eb00d78d12c1",
       "version_major": 2,
       "version_minor": 0
      },
      "text/plain": [
       "Epoch 38/1000:   0%|          | 0/50 [00:00<?, ?it/s]"
      ]
     },
     "metadata": {},
     "output_type": "display_data"
    },
    {
     "name": "stdout",
     "output_type": "stream",
     "text": [
      "Epoch 38/1000, Train Loss: 0.1597, Val Loss: 0.1732\n"
     ]
    },
    {
     "data": {
      "application/vnd.jupyter.widget-view+json": {
       "model_id": "f345c8d112f24cc4bd0c415f3890d42f",
       "version_major": 2,
       "version_minor": 0
      },
      "text/plain": [
       "Epoch 39/1000:   0%|          | 0/50 [00:00<?, ?it/s]"
      ]
     },
     "metadata": {},
     "output_type": "display_data"
    },
    {
     "name": "stdout",
     "output_type": "stream",
     "text": [
      "Epoch 39/1000, Train Loss: 0.1589, Val Loss: 0.1725\n"
     ]
    },
    {
     "data": {
      "application/vnd.jupyter.widget-view+json": {
       "model_id": "65f044632d8e4c90b07cd90c68699c8a",
       "version_major": 2,
       "version_minor": 0
      },
      "text/plain": [
       "Epoch 40/1000:   0%|          | 0/50 [00:00<?, ?it/s]"
      ]
     },
     "metadata": {},
     "output_type": "display_data"
    },
    {
     "name": "stdout",
     "output_type": "stream",
     "text": [
      "Epoch 40/1000, Train Loss: 0.1582, Val Loss: 0.1718\n"
     ]
    },
    {
     "data": {
      "application/vnd.jupyter.widget-view+json": {
       "model_id": "f3226bdb1ac64750923064023f019b9a",
       "version_major": 2,
       "version_minor": 0
      },
      "text/plain": [
       "Epoch 41/1000:   0%|          | 0/50 [00:00<?, ?it/s]"
      ]
     },
     "metadata": {},
     "output_type": "display_data"
    },
    {
     "name": "stdout",
     "output_type": "stream",
     "text": [
      "Epoch 41/1000, Train Loss: 0.1543, Val Loss: 0.1711\n"
     ]
    },
    {
     "data": {
      "application/vnd.jupyter.widget-view+json": {
       "model_id": "d1e70fe5bd724ed6a96c156ac62e2c65",
       "version_major": 2,
       "version_minor": 0
      },
      "text/plain": [
       "Epoch 42/1000:   0%|          | 0/50 [00:00<?, ?it/s]"
      ]
     },
     "metadata": {},
     "output_type": "display_data"
    },
    {
     "name": "stdout",
     "output_type": "stream",
     "text": [
      "Epoch 42/1000, Train Loss: 0.1536, Val Loss: 0.1705\n"
     ]
    },
    {
     "data": {
      "application/vnd.jupyter.widget-view+json": {
       "model_id": "bcc6a99be00041d086322942bf1db186",
       "version_major": 2,
       "version_minor": 0
      },
      "text/plain": [
       "Epoch 43/1000:   0%|          | 0/50 [00:00<?, ?it/s]"
      ]
     },
     "metadata": {},
     "output_type": "display_data"
    },
    {
     "name": "stdout",
     "output_type": "stream",
     "text": [
      "Epoch 43/1000, Train Loss: 0.1560, Val Loss: 0.1697\n"
     ]
    },
    {
     "data": {
      "application/vnd.jupyter.widget-view+json": {
       "model_id": "4ec8ba7609904fab9021931ed59e0d2d",
       "version_major": 2,
       "version_minor": 0
      },
      "text/plain": [
       "Epoch 44/1000:   0%|          | 0/50 [00:00<?, ?it/s]"
      ]
     },
     "metadata": {},
     "output_type": "display_data"
    },
    {
     "name": "stdout",
     "output_type": "stream",
     "text": [
      "Epoch 44/1000, Train Loss: 0.1553, Val Loss: 0.1691\n"
     ]
    },
    {
     "data": {
      "application/vnd.jupyter.widget-view+json": {
       "model_id": "4441c57a7dc144f2abb0ad438c5498e1",
       "version_major": 2,
       "version_minor": 0
      },
      "text/plain": [
       "Epoch 45/1000:   0%|          | 0/50 [00:00<?, ?it/s]"
      ]
     },
     "metadata": {},
     "output_type": "display_data"
    },
    {
     "name": "stdout",
     "output_type": "stream",
     "text": [
      "Epoch 45/1000, Train Loss: 0.1546, Val Loss: 0.1684\n"
     ]
    },
    {
     "data": {
      "application/vnd.jupyter.widget-view+json": {
       "model_id": "b42e76e349a240c3895a92276355a7ff",
       "version_major": 2,
       "version_minor": 0
      },
      "text/plain": [
       "Epoch 46/1000:   0%|          | 0/50 [00:00<?, ?it/s]"
      ]
     },
     "metadata": {},
     "output_type": "display_data"
    },
    {
     "name": "stdout",
     "output_type": "stream",
     "text": [
      "Epoch 46/1000, Train Loss: 0.1538, Val Loss: 0.1677\n"
     ]
    },
    {
     "data": {
      "application/vnd.jupyter.widget-view+json": {
       "model_id": "89f53bcf6e4144b39d6500c7ae351192",
       "version_major": 2,
       "version_minor": 0
      },
      "text/plain": [
       "Epoch 47/1000:   0%|          | 0/50 [00:00<?, ?it/s]"
      ]
     },
     "metadata": {},
     "output_type": "display_data"
    },
    {
     "name": "stdout",
     "output_type": "stream",
     "text": [
      "Epoch 47/1000, Train Loss: 0.1531, Val Loss: 0.1670\n"
     ]
    },
    {
     "data": {
      "application/vnd.jupyter.widget-view+json": {
       "model_id": "8dea1e50f3f74933a64dfc6d2c8b2ad1",
       "version_major": 2,
       "version_minor": 0
      },
      "text/plain": [
       "Epoch 48/1000:   0%|          | 0/50 [00:00<?, ?it/s]"
      ]
     },
     "metadata": {},
     "output_type": "display_data"
    },
    {
     "name": "stdout",
     "output_type": "stream",
     "text": [
      "Epoch 48/1000, Train Loss: 0.1523, Val Loss: 0.1662\n"
     ]
    },
    {
     "data": {
      "application/vnd.jupyter.widget-view+json": {
       "model_id": "c5953faad0a74704a93dcf8682ffccb1",
       "version_major": 2,
       "version_minor": 0
      },
      "text/plain": [
       "Epoch 49/1000:   0%|          | 0/50 [00:00<?, ?it/s]"
      ]
     },
     "metadata": {},
     "output_type": "display_data"
    },
    {
     "name": "stdout",
     "output_type": "stream",
     "text": [
      "Epoch 49/1000, Train Loss: 0.1517, Val Loss: 0.1656\n"
     ]
    },
    {
     "data": {
      "application/vnd.jupyter.widget-view+json": {
       "model_id": "f877b90dc86a419b8ff1b063b3dae7d6",
       "version_major": 2,
       "version_minor": 0
      },
      "text/plain": [
       "Epoch 50/1000:   0%|          | 0/50 [00:00<?, ?it/s]"
      ]
     },
     "metadata": {},
     "output_type": "display_data"
    },
    {
     "name": "stdout",
     "output_type": "stream",
     "text": [
      "Epoch 50/1000, Train Loss: 0.1509, Val Loss: 0.1649\n"
     ]
    },
    {
     "data": {
      "application/vnd.jupyter.widget-view+json": {
       "model_id": "38e956036eb74ce0aa1189ddbc91f340",
       "version_major": 2,
       "version_minor": 0
      },
      "text/plain": [
       "Epoch 51/1000:   0%|          | 0/50 [00:00<?, ?it/s]"
      ]
     },
     "metadata": {},
     "output_type": "display_data"
    },
    {
     "name": "stdout",
     "output_type": "stream",
     "text": [
      "Epoch 51/1000, Train Loss: 0.1502, Val Loss: 0.1643\n"
     ]
    },
    {
     "data": {
      "application/vnd.jupyter.widget-view+json": {
       "model_id": "b189cc9316164378b40c0b870525c768",
       "version_major": 2,
       "version_minor": 0
      },
      "text/plain": [
       "Epoch 52/1000:   0%|          | 0/50 [00:00<?, ?it/s]"
      ]
     },
     "metadata": {},
     "output_type": "display_data"
    },
    {
     "name": "stdout",
     "output_type": "stream",
     "text": [
      "Epoch 52/1000, Train Loss: 0.1494, Val Loss: 0.1635\n"
     ]
    },
    {
     "data": {
      "application/vnd.jupyter.widget-view+json": {
       "model_id": "dd52b89df48447d49397c3ec083f67f6",
       "version_major": 2,
       "version_minor": 0
      },
      "text/plain": [
       "Epoch 53/1000:   0%|          | 0/50 [00:00<?, ?it/s]"
      ]
     },
     "metadata": {},
     "output_type": "display_data"
    },
    {
     "name": "stdout",
     "output_type": "stream",
     "text": [
      "Epoch 53/1000, Train Loss: 0.1487, Val Loss: 0.1629\n"
     ]
    },
    {
     "data": {
      "application/vnd.jupyter.widget-view+json": {
       "model_id": "8317f0b973374d2bbab1cfede5746a16",
       "version_major": 2,
       "version_minor": 0
      },
      "text/plain": [
       "Epoch 54/1000:   0%|          | 0/50 [00:00<?, ?it/s]"
      ]
     },
     "metadata": {},
     "output_type": "display_data"
    },
    {
     "name": "stdout",
     "output_type": "stream",
     "text": [
      "Epoch 54/1000, Train Loss: 0.1480, Val Loss: 0.1621\n"
     ]
    },
    {
     "data": {
      "application/vnd.jupyter.widget-view+json": {
       "model_id": "8817e230d60c4aed81cf8db2e509dea1",
       "version_major": 2,
       "version_minor": 0
      },
      "text/plain": [
       "Epoch 55/1000:   0%|          | 0/50 [00:00<?, ?it/s]"
      ]
     },
     "metadata": {},
     "output_type": "display_data"
    },
    {
     "name": "stdout",
     "output_type": "stream",
     "text": [
      "Epoch 55/1000, Train Loss: 0.1473, Val Loss: 0.1615\n"
     ]
    },
    {
     "data": {
      "application/vnd.jupyter.widget-view+json": {
       "model_id": "fe8a4b8784e9468ca707d074bc687dac",
       "version_major": 2,
       "version_minor": 0
      },
      "text/plain": [
       "Epoch 56/1000:   0%|          | 0/50 [00:00<?, ?it/s]"
      ]
     },
     "metadata": {},
     "output_type": "display_data"
    },
    {
     "name": "stdout",
     "output_type": "stream",
     "text": [
      "Epoch 56/1000, Train Loss: 0.1436, Val Loss: 0.1608\n"
     ]
    },
    {
     "data": {
      "application/vnd.jupyter.widget-view+json": {
       "model_id": "b26317aad2704dd3bbf79008725b68ea",
       "version_major": 2,
       "version_minor": 0
      },
      "text/plain": [
       "Epoch 57/1000:   0%|          | 0/50 [00:00<?, ?it/s]"
      ]
     },
     "metadata": {},
     "output_type": "display_data"
    },
    {
     "name": "stdout",
     "output_type": "stream",
     "text": [
      "Epoch 57/1000, Train Loss: 0.1458, Val Loss: 0.1601\n"
     ]
    },
    {
     "data": {
      "application/vnd.jupyter.widget-view+json": {
       "model_id": "afcc65c6cfcc4d6ba1c7f32759962b27",
       "version_major": 2,
       "version_minor": 0
      },
      "text/plain": [
       "Epoch 58/1000:   0%|          | 0/50 [00:00<?, ?it/s]"
      ]
     },
     "metadata": {},
     "output_type": "display_data"
    },
    {
     "name": "stdout",
     "output_type": "stream",
     "text": [
      "Epoch 58/1000, Train Loss: 0.1451, Val Loss: 0.1594\n"
     ]
    },
    {
     "data": {
      "application/vnd.jupyter.widget-view+json": {
       "model_id": "08105039c0d142b3902a91f5afb51885",
       "version_major": 2,
       "version_minor": 0
      },
      "text/plain": [
       "Epoch 59/1000:   0%|          | 0/50 [00:00<?, ?it/s]"
      ]
     },
     "metadata": {},
     "output_type": "display_data"
    },
    {
     "name": "stdout",
     "output_type": "stream",
     "text": [
      "Epoch 59/1000, Train Loss: 0.1443, Val Loss: 0.1587\n"
     ]
    },
    {
     "data": {
      "application/vnd.jupyter.widget-view+json": {
       "model_id": "b0fe38b45d154097bdee8bd248a3e800",
       "version_major": 2,
       "version_minor": 0
      },
      "text/plain": [
       "Epoch 60/1000:   0%|          | 0/50 [00:00<?, ?it/s]"
      ]
     },
     "metadata": {},
     "output_type": "display_data"
    },
    {
     "name": "stdout",
     "output_type": "stream",
     "text": [
      "Epoch 60/1000, Train Loss: 0.1436, Val Loss: 0.1580\n"
     ]
    },
    {
     "data": {
      "application/vnd.jupyter.widget-view+json": {
       "model_id": "12716c7d03254764ba1678b11742700e",
       "version_major": 2,
       "version_minor": 0
      },
      "text/plain": [
       "Epoch 61/1000:   0%|          | 0/50 [00:00<?, ?it/s]"
      ]
     },
     "metadata": {},
     "output_type": "display_data"
    },
    {
     "name": "stdout",
     "output_type": "stream",
     "text": [
      "Epoch 61/1000, Train Loss: 0.1428, Val Loss: 0.1572\n"
     ]
    },
    {
     "data": {
      "application/vnd.jupyter.widget-view+json": {
       "model_id": "498334bbff5748d49b14417aa6f31916",
       "version_major": 2,
       "version_minor": 0
      },
      "text/plain": [
       "Epoch 62/1000:   0%|          | 0/50 [00:00<?, ?it/s]"
      ]
     },
     "metadata": {},
     "output_type": "display_data"
    },
    {
     "name": "stdout",
     "output_type": "stream",
     "text": [
      "Epoch 62/1000, Train Loss: 0.1422, Val Loss: 0.1566\n"
     ]
    },
    {
     "data": {
      "application/vnd.jupyter.widget-view+json": {
       "model_id": "d00142ffbd3349d4a828efa557bc76d6",
       "version_major": 2,
       "version_minor": 0
      },
      "text/plain": [
       "Epoch 63/1000:   0%|          | 0/50 [00:00<?, ?it/s]"
      ]
     },
     "metadata": {},
     "output_type": "display_data"
    },
    {
     "name": "stdout",
     "output_type": "stream",
     "text": [
      "Epoch 63/1000, Train Loss: 0.1414, Val Loss: 0.1559\n"
     ]
    },
    {
     "data": {
      "application/vnd.jupyter.widget-view+json": {
       "model_id": "01fbaee4dbbe4975a95b88c2b68b619e",
       "version_major": 2,
       "version_minor": 0
      },
      "text/plain": [
       "Epoch 64/1000:   0%|          | 0/50 [00:00<?, ?it/s]"
      ]
     },
     "metadata": {},
     "output_type": "display_data"
    },
    {
     "name": "stdout",
     "output_type": "stream",
     "text": [
      "Epoch 64/1000, Train Loss: 0.1407, Val Loss: 0.1552\n"
     ]
    },
    {
     "data": {
      "application/vnd.jupyter.widget-view+json": {
       "model_id": "15e2876a979f4df2b959d057c8f53dab",
       "version_major": 2,
       "version_minor": 0
      },
      "text/plain": [
       "Epoch 65/1000:   0%|          | 0/50 [00:00<?, ?it/s]"
      ]
     },
     "metadata": {},
     "output_type": "display_data"
    },
    {
     "name": "stdout",
     "output_type": "stream",
     "text": [
      "Epoch 65/1000, Train Loss: 0.1400, Val Loss: 0.1545\n"
     ]
    },
    {
     "data": {
      "application/vnd.jupyter.widget-view+json": {
       "model_id": "41bb4595bb994f198ec16f382cfa9ecc",
       "version_major": 2,
       "version_minor": 0
      },
      "text/plain": [
       "Epoch 66/1000:   0%|          | 0/50 [00:00<?, ?it/s]"
      ]
     },
     "metadata": {},
     "output_type": "display_data"
    },
    {
     "name": "stdout",
     "output_type": "stream",
     "text": [
      "Epoch 66/1000, Train Loss: 0.1393, Val Loss: 0.1538\n"
     ]
    },
    {
     "data": {
      "application/vnd.jupyter.widget-view+json": {
       "model_id": "c001dc9225ec48dab27ff1256be5f3df",
       "version_major": 2,
       "version_minor": 0
      },
      "text/plain": [
       "Epoch 67/1000:   0%|          | 0/50 [00:00<?, ?it/s]"
      ]
     },
     "metadata": {},
     "output_type": "display_data"
    },
    {
     "name": "stdout",
     "output_type": "stream",
     "text": [
      "Epoch 67/1000, Train Loss: 0.1385, Val Loss: 0.1531\n"
     ]
    },
    {
     "data": {
      "application/vnd.jupyter.widget-view+json": {
       "model_id": "734f585cc04740c5ab00e847e4753e10",
       "version_major": 2,
       "version_minor": 0
      },
      "text/plain": [
       "Epoch 68/1000:   0%|          | 0/50 [00:00<?, ?it/s]"
      ]
     },
     "metadata": {},
     "output_type": "display_data"
    },
    {
     "name": "stdout",
     "output_type": "stream",
     "text": [
      "Epoch 68/1000, Train Loss: 0.1378, Val Loss: 0.1524\n"
     ]
    },
    {
     "data": {
      "application/vnd.jupyter.widget-view+json": {
       "model_id": "e135150c3d1f4d86beebb3f64a6b5804",
       "version_major": 2,
       "version_minor": 0
      },
      "text/plain": [
       "Epoch 69/1000:   0%|          | 0/50 [00:00<?, ?it/s]"
      ]
     },
     "metadata": {},
     "output_type": "display_data"
    },
    {
     "name": "stdout",
     "output_type": "stream",
     "text": [
      "Epoch 69/1000, Train Loss: 0.1370, Val Loss: 0.1517\n"
     ]
    },
    {
     "data": {
      "application/vnd.jupyter.widget-view+json": {
       "model_id": "c9ed2648d9c3440d9106aefacbe43035",
       "version_major": 2,
       "version_minor": 0
      },
      "text/plain": [
       "Epoch 70/1000:   0%|          | 0/50 [00:00<?, ?it/s]"
      ]
     },
     "metadata": {},
     "output_type": "display_data"
    },
    {
     "name": "stdout",
     "output_type": "stream",
     "text": [
      "Epoch 70/1000, Train Loss: 0.1363, Val Loss: 0.1510\n"
     ]
    },
    {
     "data": {
      "application/vnd.jupyter.widget-view+json": {
       "model_id": "fe15043bff0441f3bd943bf0576b5bed",
       "version_major": 2,
       "version_minor": 0
      },
      "text/plain": [
       "Epoch 71/1000:   0%|          | 0/50 [00:00<?, ?it/s]"
      ]
     },
     "metadata": {},
     "output_type": "display_data"
    },
    {
     "name": "stdout",
     "output_type": "stream",
     "text": [
      "Epoch 71/1000, Train Loss: 0.1356, Val Loss: 0.1503\n"
     ]
    },
    {
     "data": {
      "application/vnd.jupyter.widget-view+json": {
       "model_id": "b96598a42bca4c7ab19ba806870384ce",
       "version_major": 2,
       "version_minor": 0
      },
      "text/plain": [
       "Epoch 72/1000:   0%|          | 0/50 [00:00<?, ?it/s]"
      ]
     },
     "metadata": {},
     "output_type": "display_data"
    },
    {
     "name": "stdout",
     "output_type": "stream",
     "text": [
      "Epoch 72/1000, Train Loss: 0.1348, Val Loss: 0.1495\n"
     ]
    },
    {
     "data": {
      "application/vnd.jupyter.widget-view+json": {
       "model_id": "e30c822031a041f3965f1466e593a453",
       "version_major": 2,
       "version_minor": 0
      },
      "text/plain": [
       "Epoch 73/1000:   0%|          | 0/50 [00:00<?, ?it/s]"
      ]
     },
     "metadata": {},
     "output_type": "display_data"
    },
    {
     "name": "stdout",
     "output_type": "stream",
     "text": [
      "Epoch 73/1000, Train Loss: 0.1342, Val Loss: 0.1489\n"
     ]
    },
    {
     "data": {
      "application/vnd.jupyter.widget-view+json": {
       "model_id": "088fd37bc6ce408f9948fbfc68252f57",
       "version_major": 2,
       "version_minor": 0
      },
      "text/plain": [
       "Epoch 74/1000:   0%|          | 0/50 [00:00<?, ?it/s]"
      ]
     },
     "metadata": {},
     "output_type": "display_data"
    },
    {
     "name": "stdout",
     "output_type": "stream",
     "text": [
      "Epoch 74/1000, Train Loss: 0.1334, Val Loss: 0.1481\n"
     ]
    },
    {
     "data": {
      "application/vnd.jupyter.widget-view+json": {
       "model_id": "5face7a6a5264b36aa32e84655b7b221",
       "version_major": 2,
       "version_minor": 0
      },
      "text/plain": [
       "Epoch 75/1000:   0%|          | 0/50 [00:00<?, ?it/s]"
      ]
     },
     "metadata": {},
     "output_type": "display_data"
    },
    {
     "name": "stdout",
     "output_type": "stream",
     "text": [
      "Epoch 75/1000, Train Loss: 0.1327, Val Loss: 0.1475\n"
     ]
    },
    {
     "data": {
      "application/vnd.jupyter.widget-view+json": {
       "model_id": "4e008ec36d7249e287d2cb9f11491cda",
       "version_major": 2,
       "version_minor": 0
      },
      "text/plain": [
       "Epoch 76/1000:   0%|          | 0/50 [00:00<?, ?it/s]"
      ]
     },
     "metadata": {},
     "output_type": "display_data"
    },
    {
     "name": "stdout",
     "output_type": "stream",
     "text": [
      "Epoch 76/1000, Train Loss: 0.1319, Val Loss: 0.1467\n"
     ]
    },
    {
     "data": {
      "application/vnd.jupyter.widget-view+json": {
       "model_id": "b658063d74394541828635b008184ecf",
       "version_major": 2,
       "version_minor": 0
      },
      "text/plain": [
       "Epoch 77/1000:   0%|          | 0/50 [00:00<?, ?it/s]"
      ]
     },
     "metadata": {},
     "output_type": "display_data"
    },
    {
     "name": "stdout",
     "output_type": "stream",
     "text": [
      "Epoch 77/1000, Train Loss: 0.1312, Val Loss: 0.1460\n"
     ]
    },
    {
     "data": {
      "application/vnd.jupyter.widget-view+json": {
       "model_id": "0afe635ac2d9421f8fad867201e388e2",
       "version_major": 2,
       "version_minor": 0
      },
      "text/plain": [
       "Epoch 78/1000:   0%|          | 0/50 [00:00<?, ?it/s]"
      ]
     },
     "metadata": {},
     "output_type": "display_data"
    },
    {
     "name": "stdout",
     "output_type": "stream",
     "text": [
      "Epoch 78/1000, Train Loss: 0.1305, Val Loss: 0.1453\n"
     ]
    },
    {
     "data": {
      "application/vnd.jupyter.widget-view+json": {
       "model_id": "5f064ba77c10417bb2642c177c5f4183",
       "version_major": 2,
       "version_minor": 0
      },
      "text/plain": [
       "Epoch 79/1000:   0%|          | 0/50 [00:00<?, ?it/s]"
      ]
     },
     "metadata": {},
     "output_type": "display_data"
    },
    {
     "name": "stdout",
     "output_type": "stream",
     "text": [
      "Epoch 79/1000, Train Loss: 0.1298, Val Loss: 0.1446\n"
     ]
    },
    {
     "data": {
      "application/vnd.jupyter.widget-view+json": {
       "model_id": "83c805ce569e423ab0674ef43e9281af",
       "version_major": 2,
       "version_minor": 0
      },
      "text/plain": [
       "Epoch 80/1000:   0%|          | 0/50 [00:00<?, ?it/s]"
      ]
     },
     "metadata": {},
     "output_type": "display_data"
    },
    {
     "name": "stdout",
     "output_type": "stream",
     "text": [
      "Epoch 80/1000, Train Loss: 0.1290, Val Loss: 0.1439\n"
     ]
    },
    {
     "data": {
      "application/vnd.jupyter.widget-view+json": {
       "model_id": "d5f94f05ce58484fa788c3c0110a8d74",
       "version_major": 2,
       "version_minor": 0
      },
      "text/plain": [
       "Epoch 81/1000:   0%|          | 0/50 [00:00<?, ?it/s]"
      ]
     },
     "metadata": {},
     "output_type": "display_data"
    },
    {
     "name": "stdout",
     "output_type": "stream",
     "text": [
      "Epoch 81/1000, Train Loss: 0.1283, Val Loss: 0.1432\n"
     ]
    },
    {
     "data": {
      "application/vnd.jupyter.widget-view+json": {
       "model_id": "3e24554c130a4a61b4f9913772419dec",
       "version_major": 2,
       "version_minor": 0
      },
      "text/plain": [
       "Epoch 82/1000:   0%|          | 0/50 [00:00<?, ?it/s]"
      ]
     },
     "metadata": {},
     "output_type": "display_data"
    },
    {
     "name": "stdout",
     "output_type": "stream",
     "text": [
      "Epoch 82/1000, Train Loss: 0.1276, Val Loss: 0.1425\n"
     ]
    },
    {
     "data": {
      "application/vnd.jupyter.widget-view+json": {
       "model_id": "8456c5371b5a4bdf8bb9f8b0f1c234ad",
       "version_major": 2,
       "version_minor": 0
      },
      "text/plain": [
       "Epoch 83/1000:   0%|          | 0/50 [00:00<?, ?it/s]"
      ]
     },
     "metadata": {},
     "output_type": "display_data"
    },
    {
     "name": "stdout",
     "output_type": "stream",
     "text": [
      "Epoch 83/1000, Train Loss: 0.1268, Val Loss: 0.1417\n"
     ]
    },
    {
     "data": {
      "application/vnd.jupyter.widget-view+json": {
       "model_id": "3e8bedf0a2e84827825f7fe8065d249c",
       "version_major": 2,
       "version_minor": 0
      },
      "text/plain": [
       "Epoch 84/1000:   0%|          | 0/50 [00:00<?, ?it/s]"
      ]
     },
     "metadata": {},
     "output_type": "display_data"
    },
    {
     "name": "stdout",
     "output_type": "stream",
     "text": [
      "Epoch 84/1000, Train Loss: 0.1261, Val Loss: 0.1411\n"
     ]
    },
    {
     "data": {
      "application/vnd.jupyter.widget-view+json": {
       "model_id": "96049e8ae4fc4dda90bb7f427e45785f",
       "version_major": 2,
       "version_minor": 0
      },
      "text/plain": [
       "Epoch 85/1000:   0%|          | 0/50 [00:00<?, ?it/s]"
      ]
     },
     "metadata": {},
     "output_type": "display_data"
    },
    {
     "name": "stdout",
     "output_type": "stream",
     "text": [
      "Epoch 85/1000, Train Loss: 0.1254, Val Loss: 0.1403\n"
     ]
    },
    {
     "data": {
      "application/vnd.jupyter.widget-view+json": {
       "model_id": "44ab048693b2491cb06cbf2ec8582a52",
       "version_major": 2,
       "version_minor": 0
      },
      "text/plain": [
       "Epoch 86/1000:   0%|          | 0/50 [00:00<?, ?it/s]"
      ]
     },
     "metadata": {},
     "output_type": "display_data"
    },
    {
     "name": "stdout",
     "output_type": "stream",
     "text": [
      "Epoch 86/1000, Train Loss: 0.1247, Val Loss: 0.1396\n"
     ]
    },
    {
     "data": {
      "application/vnd.jupyter.widget-view+json": {
       "model_id": "52c5205cedfe4d939fbd87af91d4a4e1",
       "version_major": 2,
       "version_minor": 0
      },
      "text/plain": [
       "Epoch 87/1000:   0%|          | 0/50 [00:00<?, ?it/s]"
      ]
     },
     "metadata": {},
     "output_type": "display_data"
    },
    {
     "name": "stdout",
     "output_type": "stream",
     "text": [
      "Epoch 87/1000, Train Loss: 0.1239, Val Loss: 0.1389\n"
     ]
    },
    {
     "data": {
      "application/vnd.jupyter.widget-view+json": {
       "model_id": "2e456bbd5c6f4c55866c088c93bce80b",
       "version_major": 2,
       "version_minor": 0
      },
      "text/plain": [
       "Epoch 88/1000:   0%|          | 0/50 [00:00<?, ?it/s]"
      ]
     },
     "metadata": {},
     "output_type": "display_data"
    },
    {
     "name": "stdout",
     "output_type": "stream",
     "text": [
      "Epoch 88/1000, Train Loss: 0.1232, Val Loss: 0.1382\n"
     ]
    },
    {
     "data": {
      "application/vnd.jupyter.widget-view+json": {
       "model_id": "0ddb024808a349679cd8f4ce626b4440",
       "version_major": 2,
       "version_minor": 0
      },
      "text/plain": [
       "Epoch 89/1000:   0%|          | 0/50 [00:00<?, ?it/s]"
      ]
     },
     "metadata": {},
     "output_type": "display_data"
    },
    {
     "name": "stdout",
     "output_type": "stream",
     "text": [
      "Epoch 89/1000, Train Loss: 0.1224, Val Loss: 0.1375\n"
     ]
    },
    {
     "data": {
      "application/vnd.jupyter.widget-view+json": {
       "model_id": "cea9485eb34a42d59302eebec5de7714",
       "version_major": 2,
       "version_minor": 0
      },
      "text/plain": [
       "Epoch 90/1000:   0%|          | 0/50 [00:00<?, ?it/s]"
      ]
     },
     "metadata": {},
     "output_type": "display_data"
    },
    {
     "name": "stdout",
     "output_type": "stream",
     "text": [
      "Epoch 90/1000, Train Loss: 0.1217, Val Loss: 0.1368\n"
     ]
    },
    {
     "data": {
      "application/vnd.jupyter.widget-view+json": {
       "model_id": "8b6479ef84e24251965708a9e18661e6",
       "version_major": 2,
       "version_minor": 0
      },
      "text/plain": [
       "Epoch 91/1000:   0%|          | 0/50 [00:00<?, ?it/s]"
      ]
     },
     "metadata": {},
     "output_type": "display_data"
    },
    {
     "name": "stdout",
     "output_type": "stream",
     "text": [
      "Epoch 91/1000, Train Loss: 0.1210, Val Loss: 0.1361\n"
     ]
    },
    {
     "data": {
      "application/vnd.jupyter.widget-view+json": {
       "model_id": "d87c95d0d70f4b41a2743c2b2947431a",
       "version_major": 2,
       "version_minor": 0
      },
      "text/plain": [
       "Epoch 92/1000:   0%|          | 0/50 [00:00<?, ?it/s]"
      ]
     },
     "metadata": {},
     "output_type": "display_data"
    },
    {
     "name": "stdout",
     "output_type": "stream",
     "text": [
      "Epoch 92/1000, Train Loss: 0.1203, Val Loss: 0.1353\n"
     ]
    },
    {
     "data": {
      "application/vnd.jupyter.widget-view+json": {
       "model_id": "07ada43998774f8db9e9bcff37ac50de",
       "version_major": 2,
       "version_minor": 0
      },
      "text/plain": [
       "Epoch 93/1000:   0%|          | 0/50 [00:00<?, ?it/s]"
      ]
     },
     "metadata": {},
     "output_type": "display_data"
    },
    {
     "name": "stdout",
     "output_type": "stream",
     "text": [
      "Epoch 93/1000, Train Loss: 0.1196, Val Loss: 0.1346\n"
     ]
    },
    {
     "data": {
      "application/vnd.jupyter.widget-view+json": {
       "model_id": "6ab3f942dbbc4a9d9f76efa6559442d1",
       "version_major": 2,
       "version_minor": 0
      },
      "text/plain": [
       "Epoch 94/1000:   0%|          | 0/50 [00:00<?, ?it/s]"
      ]
     },
     "metadata": {},
     "output_type": "display_data"
    },
    {
     "name": "stdout",
     "output_type": "stream",
     "text": [
      "Epoch 94/1000, Train Loss: 0.1188, Val Loss: 0.1339\n"
     ]
    },
    {
     "data": {
      "application/vnd.jupyter.widget-view+json": {
       "model_id": "98938606708c44dea264930c4f96dbb3",
       "version_major": 2,
       "version_minor": 0
      },
      "text/plain": [
       "Epoch 95/1000:   0%|          | 0/50 [00:00<?, ?it/s]"
      ]
     },
     "metadata": {},
     "output_type": "display_data"
    },
    {
     "name": "stdout",
     "output_type": "stream",
     "text": [
      "Epoch 95/1000, Train Loss: 0.1181, Val Loss: 0.1332\n"
     ]
    },
    {
     "data": {
      "application/vnd.jupyter.widget-view+json": {
       "model_id": "f461ab71978c48be9da12913a4bef3fb",
       "version_major": 2,
       "version_minor": 0
      },
      "text/plain": [
       "Epoch 96/1000:   0%|          | 0/50 [00:00<?, ?it/s]"
      ]
     },
     "metadata": {},
     "output_type": "display_data"
    },
    {
     "name": "stdout",
     "output_type": "stream",
     "text": [
      "Epoch 96/1000, Train Loss: 0.1173, Val Loss: 0.1325\n"
     ]
    },
    {
     "data": {
      "application/vnd.jupyter.widget-view+json": {
       "model_id": "5d2128b4a7b9474ca71324a551e9247b",
       "version_major": 2,
       "version_minor": 0
      },
      "text/plain": [
       "Epoch 97/1000:   0%|          | 0/50 [00:00<?, ?it/s]"
      ]
     },
     "metadata": {},
     "output_type": "display_data"
    },
    {
     "name": "stdout",
     "output_type": "stream",
     "text": [
      "Epoch 97/1000, Train Loss: 0.1167, Val Loss: 0.1318\n"
     ]
    },
    {
     "data": {
      "application/vnd.jupyter.widget-view+json": {
       "model_id": "480f6c0b2dd64bce8dd3315e9ae873e0",
       "version_major": 2,
       "version_minor": 0
      },
      "text/plain": [
       "Epoch 98/1000:   0%|          | 0/50 [00:00<?, ?it/s]"
      ]
     },
     "metadata": {},
     "output_type": "display_data"
    },
    {
     "name": "stdout",
     "output_type": "stream",
     "text": [
      "Epoch 98/1000, Train Loss: 0.1159, Val Loss: 0.1311\n"
     ]
    },
    {
     "data": {
      "application/vnd.jupyter.widget-view+json": {
       "model_id": "ae8db187912f4cb09f8550b876d30caf",
       "version_major": 2,
       "version_minor": 0
      },
      "text/plain": [
       "Epoch 99/1000:   0%|          | 0/50 [00:00<?, ?it/s]"
      ]
     },
     "metadata": {},
     "output_type": "display_data"
    },
    {
     "name": "stdout",
     "output_type": "stream",
     "text": [
      "Epoch 99/1000, Train Loss: 0.1152, Val Loss: 0.1304\n"
     ]
    },
    {
     "data": {
      "application/vnd.jupyter.widget-view+json": {
       "model_id": "c6e4584276ec480e86f198c9352c0899",
       "version_major": 2,
       "version_minor": 0
      },
      "text/plain": [
       "Epoch 100/1000:   0%|          | 0/50 [00:00<?, ?it/s]"
      ]
     },
     "metadata": {},
     "output_type": "display_data"
    },
    {
     "name": "stdout",
     "output_type": "stream",
     "text": [
      "Epoch 100/1000, Train Loss: 0.1144, Val Loss: 0.1297\n"
     ]
    },
    {
     "data": {
      "application/vnd.jupyter.widget-view+json": {
       "model_id": "ad457e78bc89489d932b6fd63a93de3f",
       "version_major": 2,
       "version_minor": 0
      },
      "text/plain": [
       "Epoch 101/1000:   0%|          | 0/50 [00:00<?, ?it/s]"
      ]
     },
     "metadata": {},
     "output_type": "display_data"
    },
    {
     "name": "stdout",
     "output_type": "stream",
     "text": [
      "Epoch 101/1000, Train Loss: 0.1137, Val Loss: 0.1290\n"
     ]
    },
    {
     "data": {
      "application/vnd.jupyter.widget-view+json": {
       "model_id": "51a8ac2246bb4652aaeffd0673bec1cf",
       "version_major": 2,
       "version_minor": 0
      },
      "text/plain": [
       "Epoch 102/1000:   0%|          | 0/50 [00:00<?, ?it/s]"
      ]
     },
     "metadata": {},
     "output_type": "display_data"
    },
    {
     "name": "stdout",
     "output_type": "stream",
     "text": [
      "Epoch 102/1000, Train Loss: 0.1130, Val Loss: 0.1282\n"
     ]
    },
    {
     "data": {
      "application/vnd.jupyter.widget-view+json": {
       "model_id": "b3fe82aa19eb4ddab58e3c0c9a16fb3a",
       "version_major": 2,
       "version_minor": 0
      },
      "text/plain": [
       "Epoch 103/1000:   0%|          | 0/50 [00:00<?, ?it/s]"
      ]
     },
     "metadata": {},
     "output_type": "display_data"
    },
    {
     "name": "stdout",
     "output_type": "stream",
     "text": [
      "Epoch 103/1000, Train Loss: 0.1123, Val Loss: 0.1276\n"
     ]
    },
    {
     "data": {
      "application/vnd.jupyter.widget-view+json": {
       "model_id": "ee5dce10b50a4853b2c9d29f604927de",
       "version_major": 2,
       "version_minor": 0
      },
      "text/plain": [
       "Epoch 104/1000:   0%|          | 0/50 [00:00<?, ?it/s]"
      ]
     },
     "metadata": {},
     "output_type": "display_data"
    },
    {
     "name": "stdout",
     "output_type": "stream",
     "text": [
      "Epoch 104/1000, Train Loss: 0.1093, Val Loss: 0.1268\n"
     ]
    },
    {
     "data": {
      "application/vnd.jupyter.widget-view+json": {
       "model_id": "d85bab0e32d64c62aa067621a4872e8f",
       "version_major": 2,
       "version_minor": 0
      },
      "text/plain": [
       "Epoch 105/1000:   0%|          | 0/50 [00:00<?, ?it/s]"
      ]
     },
     "metadata": {},
     "output_type": "display_data"
    },
    {
     "name": "stdout",
     "output_type": "stream",
     "text": [
      "Epoch 105/1000, Train Loss: 0.1108, Val Loss: 0.1261\n"
     ]
    },
    {
     "data": {
      "application/vnd.jupyter.widget-view+json": {
       "model_id": "af44c058f88347548df548b18976ca4a",
       "version_major": 2,
       "version_minor": 0
      },
      "text/plain": [
       "Epoch 106/1000:   0%|          | 0/50 [00:00<?, ?it/s]"
      ]
     },
     "metadata": {},
     "output_type": "display_data"
    },
    {
     "name": "stdout",
     "output_type": "stream",
     "text": [
      "Epoch 106/1000, Train Loss: 0.1101, Val Loss: 0.1254\n"
     ]
    },
    {
     "data": {
      "application/vnd.jupyter.widget-view+json": {
       "model_id": "6dde8bf6ed2e4396bf0a848d17563256",
       "version_major": 2,
       "version_minor": 0
      },
      "text/plain": [
       "Epoch 107/1000:   0%|          | 0/50 [00:00<?, ?it/s]"
      ]
     },
     "metadata": {},
     "output_type": "display_data"
    },
    {
     "name": "stdout",
     "output_type": "stream",
     "text": [
      "Epoch 107/1000, Train Loss: 0.1093, Val Loss: 0.1247\n"
     ]
    },
    {
     "data": {
      "application/vnd.jupyter.widget-view+json": {
       "model_id": "5166773050cc40fcbb5ee925c0c3f2a7",
       "version_major": 2,
       "version_minor": 0
      },
      "text/plain": [
       "Epoch 108/1000:   0%|          | 0/50 [00:00<?, ?it/s]"
      ]
     },
     "metadata": {},
     "output_type": "display_data"
    },
    {
     "name": "stdout",
     "output_type": "stream",
     "text": [
      "Epoch 108/1000, Train Loss: 0.1086, Val Loss: 0.1240\n"
     ]
    },
    {
     "data": {
      "application/vnd.jupyter.widget-view+json": {
       "model_id": "b6d973de1e6946f6acb1071775ac0f20",
       "version_major": 2,
       "version_minor": 0
      },
      "text/plain": [
       "Epoch 109/1000:   0%|          | 0/50 [00:00<?, ?it/s]"
      ]
     },
     "metadata": {},
     "output_type": "display_data"
    },
    {
     "name": "stdout",
     "output_type": "stream",
     "text": [
      "Epoch 109/1000, Train Loss: 0.1079, Val Loss: 0.1232\n"
     ]
    },
    {
     "data": {
      "application/vnd.jupyter.widget-view+json": {
       "model_id": "3e913c12dc3d43d6b90630033f18d1b9",
       "version_major": 2,
       "version_minor": 0
      },
      "text/plain": [
       "Epoch 110/1000:   0%|          | 0/50 [00:00<?, ?it/s]"
      ]
     },
     "metadata": {},
     "output_type": "display_data"
    },
    {
     "name": "stdout",
     "output_type": "stream",
     "text": [
      "Epoch 110/1000, Train Loss: 0.1072, Val Loss: 0.1226\n"
     ]
    },
    {
     "data": {
      "application/vnd.jupyter.widget-view+json": {
       "model_id": "008def40576c4235aebb592abc41c67b",
       "version_major": 2,
       "version_minor": 0
      },
      "text/plain": [
       "Epoch 111/1000:   0%|          | 0/50 [00:00<?, ?it/s]"
      ]
     },
     "metadata": {},
     "output_type": "display_data"
    },
    {
     "name": "stdout",
     "output_type": "stream",
     "text": [
      "Epoch 111/1000, Train Loss: 0.1064, Val Loss: 0.1218\n"
     ]
    },
    {
     "data": {
      "application/vnd.jupyter.widget-view+json": {
       "model_id": "c3fd6b1ee5b841339df14e1fafc9448e",
       "version_major": 2,
       "version_minor": 0
      },
      "text/plain": [
       "Epoch 112/1000:   0%|          | 0/50 [00:00<?, ?it/s]"
      ]
     },
     "metadata": {},
     "output_type": "display_data"
    },
    {
     "name": "stdout",
     "output_type": "stream",
     "text": [
      "Epoch 112/1000, Train Loss: 0.1057, Val Loss: 0.1211\n"
     ]
    },
    {
     "data": {
      "application/vnd.jupyter.widget-view+json": {
       "model_id": "fcec8b70d87f443ca39ac6581c1aef79",
       "version_major": 2,
       "version_minor": 0
      },
      "text/plain": [
       "Epoch 113/1000:   0%|          | 0/50 [00:00<?, ?it/s]"
      ]
     },
     "metadata": {},
     "output_type": "display_data"
    },
    {
     "name": "stdout",
     "output_type": "stream",
     "text": [
      "Epoch 113/1000, Train Loss: 0.1050, Val Loss: 0.1204\n"
     ]
    },
    {
     "data": {
      "application/vnd.jupyter.widget-view+json": {
       "model_id": "1c02c6f47b224b27b22674fb91fab1ff",
       "version_major": 2,
       "version_minor": 0
      },
      "text/plain": [
       "Epoch 114/1000:   0%|          | 0/50 [00:00<?, ?it/s]"
      ]
     },
     "metadata": {},
     "output_type": "display_data"
    },
    {
     "name": "stdout",
     "output_type": "stream",
     "text": [
      "Epoch 114/1000, Train Loss: 0.1043, Val Loss: 0.1197\n"
     ]
    },
    {
     "data": {
      "application/vnd.jupyter.widget-view+json": {
       "model_id": "627617e8ec9540098f46175626a88da2",
       "version_major": 2,
       "version_minor": 0
      },
      "text/plain": [
       "Epoch 115/1000:   0%|          | 0/50 [00:00<?, ?it/s]"
      ]
     },
     "metadata": {},
     "output_type": "display_data"
    },
    {
     "name": "stdout",
     "output_type": "stream",
     "text": [
      "Epoch 115/1000, Train Loss: 0.1035, Val Loss: 0.1190\n"
     ]
    },
    {
     "data": {
      "application/vnd.jupyter.widget-view+json": {
       "model_id": "0a778192631247f09d0a26c432422ecb",
       "version_major": 2,
       "version_minor": 0
      },
      "text/plain": [
       "Epoch 116/1000:   0%|          | 0/50 [00:00<?, ?it/s]"
      ]
     },
     "metadata": {},
     "output_type": "display_data"
    },
    {
     "name": "stdout",
     "output_type": "stream",
     "text": [
      "Epoch 116/1000, Train Loss: 0.1028, Val Loss: 0.1183\n"
     ]
    },
    {
     "data": {
      "application/vnd.jupyter.widget-view+json": {
       "model_id": "549851f29fd34745814a92ec428531f9",
       "version_major": 2,
       "version_minor": 0
      },
      "text/plain": [
       "Epoch 117/1000:   0%|          | 0/50 [00:00<?, ?it/s]"
      ]
     },
     "metadata": {},
     "output_type": "display_data"
    },
    {
     "name": "stdout",
     "output_type": "stream",
     "text": [
      "Epoch 117/1000, Train Loss: 0.1021, Val Loss: 0.1176\n"
     ]
    },
    {
     "data": {
      "application/vnd.jupyter.widget-view+json": {
       "model_id": "ae52a0c47f5a47f7be87f8e76f15ceef",
       "version_major": 2,
       "version_minor": 0
      },
      "text/plain": [
       "Epoch 118/1000:   0%|          | 0/50 [00:00<?, ?it/s]"
      ]
     },
     "metadata": {},
     "output_type": "display_data"
    },
    {
     "name": "stdout",
     "output_type": "stream",
     "text": [
      "Epoch 118/1000, Train Loss: 0.1013, Val Loss: 0.1169\n"
     ]
    },
    {
     "data": {
      "application/vnd.jupyter.widget-view+json": {
       "model_id": "d337fbc4642640a6a9aee69b96f4fa3e",
       "version_major": 2,
       "version_minor": 0
      },
      "text/plain": [
       "Epoch 119/1000:   0%|          | 0/50 [00:00<?, ?it/s]"
      ]
     },
     "metadata": {},
     "output_type": "display_data"
    },
    {
     "name": "stdout",
     "output_type": "stream",
     "text": [
      "Epoch 119/1000, Train Loss: 0.1006, Val Loss: 0.1162\n"
     ]
    },
    {
     "data": {
      "application/vnd.jupyter.widget-view+json": {
       "model_id": "735ca3f419c047a6b3e273c8729b1fb1",
       "version_major": 2,
       "version_minor": 0
      },
      "text/plain": [
       "Epoch 120/1000:   0%|          | 0/50 [00:00<?, ?it/s]"
      ]
     },
     "metadata": {},
     "output_type": "display_data"
    },
    {
     "name": "stdout",
     "output_type": "stream",
     "text": [
      "Epoch 120/1000, Train Loss: 0.0998, Val Loss: 0.1154\n"
     ]
    },
    {
     "data": {
      "application/vnd.jupyter.widget-view+json": {
       "model_id": "e76994c269eb4a83875b1003b4833222",
       "version_major": 2,
       "version_minor": 0
      },
      "text/plain": [
       "Epoch 121/1000:   0%|          | 0/50 [00:00<?, ?it/s]"
      ]
     },
     "metadata": {},
     "output_type": "display_data"
    },
    {
     "name": "stdout",
     "output_type": "stream",
     "text": [
      "Epoch 121/1000, Train Loss: 0.0992, Val Loss: 0.1148\n"
     ]
    },
    {
     "data": {
      "application/vnd.jupyter.widget-view+json": {
       "model_id": "d889bb84bb6442a08cd5afbdaa292238",
       "version_major": 2,
       "version_minor": 0
      },
      "text/plain": [
       "Epoch 122/1000:   0%|          | 0/50 [00:00<?, ?it/s]"
      ]
     },
     "metadata": {},
     "output_type": "display_data"
    },
    {
     "name": "stdout",
     "output_type": "stream",
     "text": [
      "Epoch 122/1000, Train Loss: 0.0984, Val Loss: 0.1140\n"
     ]
    },
    {
     "data": {
      "application/vnd.jupyter.widget-view+json": {
       "model_id": "cfd8453f53104834a86039b4b394b7fd",
       "version_major": 2,
       "version_minor": 0
      },
      "text/plain": [
       "Epoch 123/1000:   0%|          | 0/50 [00:00<?, ?it/s]"
      ]
     },
     "metadata": {},
     "output_type": "display_data"
    },
    {
     "name": "stdout",
     "output_type": "stream",
     "text": [
      "Epoch 123/1000, Train Loss: 0.0977, Val Loss: 0.1133\n"
     ]
    },
    {
     "data": {
      "application/vnd.jupyter.widget-view+json": {
       "model_id": "89ddf6498e0e4d4c8cb7b20d7c6bdcc4",
       "version_major": 2,
       "version_minor": 0
      },
      "text/plain": [
       "Epoch 124/1000:   0%|          | 0/50 [00:00<?, ?it/s]"
      ]
     },
     "metadata": {},
     "output_type": "display_data"
    },
    {
     "name": "stdout",
     "output_type": "stream",
     "text": [
      "Epoch 124/1000, Train Loss: 0.0969, Val Loss: 0.1126\n"
     ]
    },
    {
     "data": {
      "application/vnd.jupyter.widget-view+json": {
       "model_id": "562a97a4776f4c429483191ac52c79fb",
       "version_major": 2,
       "version_minor": 0
      },
      "text/plain": [
       "Epoch 125/1000:   0%|          | 0/50 [00:00<?, ?it/s]"
      ]
     },
     "metadata": {},
     "output_type": "display_data"
    },
    {
     "name": "stdout",
     "output_type": "stream",
     "text": [
      "Epoch 125/1000, Train Loss: 0.0962, Val Loss: 0.1119\n"
     ]
    },
    {
     "data": {
      "application/vnd.jupyter.widget-view+json": {
       "model_id": "c984f155e0414c7c99c5ca7fe70409b8",
       "version_major": 2,
       "version_minor": 0
      },
      "text/plain": [
       "Epoch 126/1000:   0%|          | 0/50 [00:00<?, ?it/s]"
      ]
     },
     "metadata": {},
     "output_type": "display_data"
    },
    {
     "name": "stdout",
     "output_type": "stream",
     "text": [
      "Epoch 126/1000, Train Loss: 0.0955, Val Loss: 0.1112\n"
     ]
    },
    {
     "data": {
      "application/vnd.jupyter.widget-view+json": {
       "model_id": "9be9c1b4df584652bdb4a298b8e86a4c",
       "version_major": 2,
       "version_minor": 0
      },
      "text/plain": [
       "Epoch 127/1000:   0%|          | 0/50 [00:00<?, ?it/s]"
      ]
     },
     "metadata": {},
     "output_type": "display_data"
    },
    {
     "name": "stdout",
     "output_type": "stream",
     "text": [
      "Epoch 127/1000, Train Loss: 0.0948, Val Loss: 0.1105\n"
     ]
    },
    {
     "data": {
      "application/vnd.jupyter.widget-view+json": {
       "model_id": "6e2cbebcc69e4ec98ef368f19bdf8c6c",
       "version_major": 2,
       "version_minor": 0
      },
      "text/plain": [
       "Epoch 128/1000:   0%|          | 0/50 [00:00<?, ?it/s]"
      ]
     },
     "metadata": {},
     "output_type": "display_data"
    },
    {
     "name": "stdout",
     "output_type": "stream",
     "text": [
      "Epoch 128/1000, Train Loss: 0.0940, Val Loss: 0.1098\n"
     ]
    },
    {
     "data": {
      "application/vnd.jupyter.widget-view+json": {
       "model_id": "d5ff554fb81b40ff9a7871f995ed2f45",
       "version_major": 2,
       "version_minor": 0
      },
      "text/plain": [
       "Epoch 129/1000:   0%|          | 0/50 [00:00<?, ?it/s]"
      ]
     },
     "metadata": {},
     "output_type": "display_data"
    },
    {
     "name": "stdout",
     "output_type": "stream",
     "text": [
      "Epoch 129/1000, Train Loss: 0.0933, Val Loss: 0.1091\n"
     ]
    },
    {
     "data": {
      "application/vnd.jupyter.widget-view+json": {
       "model_id": "e5701185f9cc4da49ea84d12eb727e68",
       "version_major": 2,
       "version_minor": 0
      },
      "text/plain": [
       "Epoch 130/1000:   0%|          | 0/50 [00:00<?, ?it/s]"
      ]
     },
     "metadata": {},
     "output_type": "display_data"
    },
    {
     "name": "stdout",
     "output_type": "stream",
     "text": [
      "Epoch 130/1000, Train Loss: 0.0926, Val Loss: 0.1083\n"
     ]
    },
    {
     "data": {
      "application/vnd.jupyter.widget-view+json": {
       "model_id": "3933df55a4c84186a6f356f4c87395d0",
       "version_major": 2,
       "version_minor": 0
      },
      "text/plain": [
       "Epoch 131/1000:   0%|          | 0/50 [00:00<?, ?it/s]"
      ]
     },
     "metadata": {},
     "output_type": "display_data"
    },
    {
     "name": "stdout",
     "output_type": "stream",
     "text": [
      "Epoch 131/1000, Train Loss: 0.0919, Val Loss: 0.1076\n"
     ]
    },
    {
     "data": {
      "application/vnd.jupyter.widget-view+json": {
       "model_id": "59bf73c9fd184619b07ad4a205647240",
       "version_major": 2,
       "version_minor": 0
      },
      "text/plain": [
       "Epoch 132/1000:   0%|          | 0/50 [00:00<?, ?it/s]"
      ]
     },
     "metadata": {},
     "output_type": "display_data"
    },
    {
     "name": "stdout",
     "output_type": "stream",
     "text": [
      "Epoch 132/1000, Train Loss: 0.0911, Val Loss: 0.1069\n"
     ]
    },
    {
     "data": {
      "application/vnd.jupyter.widget-view+json": {
       "model_id": "b6bdb7c5d1d34a1198cfaf818fac389f",
       "version_major": 2,
       "version_minor": 0
      },
      "text/plain": [
       "Epoch 133/1000:   0%|          | 0/50 [00:00<?, ?it/s]"
      ]
     },
     "metadata": {},
     "output_type": "display_data"
    },
    {
     "name": "stdout",
     "output_type": "stream",
     "text": [
      "Epoch 133/1000, Train Loss: 0.0886, Val Loss: 0.1062\n"
     ]
    },
    {
     "data": {
      "application/vnd.jupyter.widget-view+json": {
       "model_id": "d3af90675367459782c0ccdfb8775d8a",
       "version_major": 2,
       "version_minor": 0
      },
      "text/plain": [
       "Epoch 134/1000:   0%|          | 0/50 [00:00<?, ?it/s]"
      ]
     },
     "metadata": {},
     "output_type": "display_data"
    },
    {
     "name": "stdout",
     "output_type": "stream",
     "text": [
      "Epoch 134/1000, Train Loss: 0.0896, Val Loss: 0.1055\n"
     ]
    },
    {
     "data": {
      "application/vnd.jupyter.widget-view+json": {
       "model_id": "fa7ba0a0ef474122abe4485ae5540f5c",
       "version_major": 2,
       "version_minor": 0
      },
      "text/plain": [
       "Epoch 135/1000:   0%|          | 0/50 [00:00<?, ?it/s]"
      ]
     },
     "metadata": {},
     "output_type": "display_data"
    },
    {
     "name": "stdout",
     "output_type": "stream",
     "text": [
      "Epoch 135/1000, Train Loss: 0.0889, Val Loss: 0.1048\n"
     ]
    },
    {
     "data": {
      "application/vnd.jupyter.widget-view+json": {
       "model_id": "3895544cb2b445228e5536d5909cfe17",
       "version_major": 2,
       "version_minor": 0
      },
      "text/plain": [
       "Epoch 136/1000:   0%|          | 0/50 [00:00<?, ?it/s]"
      ]
     },
     "metadata": {},
     "output_type": "display_data"
    },
    {
     "name": "stdout",
     "output_type": "stream",
     "text": [
      "Epoch 136/1000, Train Loss: 0.0882, Val Loss: 0.1041\n"
     ]
    },
    {
     "data": {
      "application/vnd.jupyter.widget-view+json": {
       "model_id": "4da37307e3124055a4502ef2908e4069",
       "version_major": 2,
       "version_minor": 0
      },
      "text/plain": [
       "Epoch 137/1000:   0%|          | 0/50 [00:00<?, ?it/s]"
      ]
     },
     "metadata": {},
     "output_type": "display_data"
    },
    {
     "name": "stdout",
     "output_type": "stream",
     "text": [
      "Epoch 137/1000, Train Loss: 0.0875, Val Loss: 0.1034\n"
     ]
    },
    {
     "data": {
      "application/vnd.jupyter.widget-view+json": {
       "model_id": "efe58cecfa5a4cb4a009de03a47d2661",
       "version_major": 2,
       "version_minor": 0
      },
      "text/plain": [
       "Epoch 138/1000:   0%|          | 0/50 [00:00<?, ?it/s]"
      ]
     },
     "metadata": {},
     "output_type": "display_data"
    },
    {
     "name": "stdout",
     "output_type": "stream",
     "text": [
      "Epoch 138/1000, Train Loss: 0.0867, Val Loss: 0.1026\n"
     ]
    },
    {
     "data": {
      "application/vnd.jupyter.widget-view+json": {
       "model_id": "ff28225bd0d149f98eeb79ee4c7e5356",
       "version_major": 2,
       "version_minor": 0
      },
      "text/plain": [
       "Epoch 139/1000:   0%|          | 0/50 [00:00<?, ?it/s]"
      ]
     },
     "metadata": {},
     "output_type": "display_data"
    },
    {
     "name": "stdout",
     "output_type": "stream",
     "text": [
      "Epoch 139/1000, Train Loss: 0.0860, Val Loss: 0.1019\n"
     ]
    },
    {
     "data": {
      "application/vnd.jupyter.widget-view+json": {
       "model_id": "965eddfa254d412d95dda461e22af9aa",
       "version_major": 2,
       "version_minor": 0
      },
      "text/plain": [
       "Epoch 140/1000:   0%|          | 0/50 [00:00<?, ?it/s]"
      ]
     },
     "metadata": {},
     "output_type": "display_data"
    },
    {
     "name": "stdout",
     "output_type": "stream",
     "text": [
      "Epoch 140/1000, Train Loss: 0.0853, Val Loss: 0.1012\n"
     ]
    },
    {
     "data": {
      "application/vnd.jupyter.widget-view+json": {
       "model_id": "0a71538eb5b7429dad127ba87bf05430",
       "version_major": 2,
       "version_minor": 0
      },
      "text/plain": [
       "Epoch 141/1000:   0%|          | 0/50 [00:00<?, ?it/s]"
      ]
     },
     "metadata": {},
     "output_type": "display_data"
    },
    {
     "name": "stdout",
     "output_type": "stream",
     "text": [
      "Epoch 141/1000, Train Loss: 0.0846, Val Loss: 0.1005\n"
     ]
    },
    {
     "data": {
      "application/vnd.jupyter.widget-view+json": {
       "model_id": "393f4006c3c74510888b137d2f92db7f",
       "version_major": 2,
       "version_minor": 0
      },
      "text/plain": [
       "Epoch 142/1000:   0%|          | 0/50 [00:00<?, ?it/s]"
      ]
     },
     "metadata": {},
     "output_type": "display_data"
    },
    {
     "name": "stdout",
     "output_type": "stream",
     "text": [
      "Epoch 142/1000, Train Loss: 0.0838, Val Loss: 0.0998\n"
     ]
    },
    {
     "data": {
      "application/vnd.jupyter.widget-view+json": {
       "model_id": "3dd97d28996c478f9131783266bdc0ca",
       "version_major": 2,
       "version_minor": 0
      },
      "text/plain": [
       "Epoch 143/1000:   0%|          | 0/50 [00:00<?, ?it/s]"
      ]
     },
     "metadata": {},
     "output_type": "display_data"
    },
    {
     "name": "stdout",
     "output_type": "stream",
     "text": [
      "Epoch 143/1000, Train Loss: 0.0831, Val Loss: 0.0991\n"
     ]
    },
    {
     "data": {
      "application/vnd.jupyter.widget-view+json": {
       "model_id": "2f3b6042401345bd9f9f424baefb3c84",
       "version_major": 2,
       "version_minor": 0
      },
      "text/plain": [
       "Epoch 144/1000:   0%|          | 0/50 [00:00<?, ?it/s]"
      ]
     },
     "metadata": {},
     "output_type": "display_data"
    },
    {
     "name": "stdout",
     "output_type": "stream",
     "text": [
      "Epoch 144/1000, Train Loss: 0.0824, Val Loss: 0.0984\n"
     ]
    },
    {
     "data": {
      "application/vnd.jupyter.widget-view+json": {
       "model_id": "f5292cf7c0a542e2912ea354d3b05848",
       "version_major": 2,
       "version_minor": 0
      },
      "text/plain": [
       "Epoch 145/1000:   0%|          | 0/50 [00:00<?, ?it/s]"
      ]
     },
     "metadata": {},
     "output_type": "display_data"
    },
    {
     "name": "stdout",
     "output_type": "stream",
     "text": [
      "Epoch 145/1000, Train Loss: 0.0816, Val Loss: 0.0977\n"
     ]
    },
    {
     "data": {
      "application/vnd.jupyter.widget-view+json": {
       "model_id": "01a077ac8d7543ac9369f378d3c96cfd",
       "version_major": 2,
       "version_minor": 0
      },
      "text/plain": [
       "Epoch 146/1000:   0%|          | 0/50 [00:00<?, ?it/s]"
      ]
     },
     "metadata": {},
     "output_type": "display_data"
    },
    {
     "name": "stdout",
     "output_type": "stream",
     "text": [
      "Epoch 146/1000, Train Loss: 0.0809, Val Loss: 0.0970\n"
     ]
    },
    {
     "data": {
      "application/vnd.jupyter.widget-view+json": {
       "model_id": "620d4240b76d4192b40cb86bcc424e59",
       "version_major": 2,
       "version_minor": 0
      },
      "text/plain": [
       "Epoch 147/1000:   0%|          | 0/50 [00:00<?, ?it/s]"
      ]
     },
     "metadata": {},
     "output_type": "display_data"
    },
    {
     "name": "stdout",
     "output_type": "stream",
     "text": [
      "Epoch 147/1000, Train Loss: 0.0802, Val Loss: 0.0962\n"
     ]
    },
    {
     "data": {
      "application/vnd.jupyter.widget-view+json": {
       "model_id": "88fbbec9c63f4d09ae743db6a4f3668f",
       "version_major": 2,
       "version_minor": 0
      },
      "text/plain": [
       "Epoch 148/1000:   0%|          | 0/50 [00:00<?, ?it/s]"
      ]
     },
     "metadata": {},
     "output_type": "display_data"
    },
    {
     "name": "stdout",
     "output_type": "stream",
     "text": [
      "Epoch 148/1000, Train Loss: 0.0795, Val Loss: 0.0956\n"
     ]
    },
    {
     "data": {
      "application/vnd.jupyter.widget-view+json": {
       "model_id": "715c4d62c3a14a47a290780eb311b7cd",
       "version_major": 2,
       "version_minor": 0
      },
      "text/plain": [
       "Epoch 149/1000:   0%|          | 0/50 [00:00<?, ?it/s]"
      ]
     },
     "metadata": {},
     "output_type": "display_data"
    },
    {
     "name": "stdout",
     "output_type": "stream",
     "text": [
      "Epoch 149/1000, Train Loss: 0.0787, Val Loss: 0.0948\n"
     ]
    },
    {
     "data": {
      "application/vnd.jupyter.widget-view+json": {
       "model_id": "6ba4e6c32f0648ce8514c8ce78dc5587",
       "version_major": 2,
       "version_minor": 0
      },
      "text/plain": [
       "Epoch 150/1000:   0%|          | 0/50 [00:00<?, ?it/s]"
      ]
     },
     "metadata": {},
     "output_type": "display_data"
    },
    {
     "name": "stdout",
     "output_type": "stream",
     "text": [
      "Epoch 150/1000, Train Loss: 0.0780, Val Loss: 0.0941\n"
     ]
    },
    {
     "data": {
      "application/vnd.jupyter.widget-view+json": {
       "model_id": "42ac1fb54f86439a9a8a4c7cf46b7ec6",
       "version_major": 2,
       "version_minor": 0
      },
      "text/plain": [
       "Epoch 151/1000:   0%|          | 0/50 [00:00<?, ?it/s]"
      ]
     },
     "metadata": {},
     "output_type": "display_data"
    },
    {
     "name": "stdout",
     "output_type": "stream",
     "text": [
      "Epoch 151/1000, Train Loss: 0.0772, Val Loss: 0.0934\n"
     ]
    },
    {
     "data": {
      "application/vnd.jupyter.widget-view+json": {
       "model_id": "0e70039cf368425b83bc0d86ffafb527",
       "version_major": 2,
       "version_minor": 0
      },
      "text/plain": [
       "Epoch 152/1000:   0%|          | 0/50 [00:00<?, ?it/s]"
      ]
     },
     "metadata": {},
     "output_type": "display_data"
    },
    {
     "name": "stdout",
     "output_type": "stream",
     "text": [
      "Epoch 152/1000, Train Loss: 0.0750, Val Loss: 0.0927\n"
     ]
    },
    {
     "data": {
      "application/vnd.jupyter.widget-view+json": {
       "model_id": "22e4d51ccc6a49f1b2292cb10525d545",
       "version_major": 2,
       "version_minor": 0
      },
      "text/plain": [
       "Epoch 153/1000:   0%|          | 0/50 [00:00<?, ?it/s]"
      ]
     },
     "metadata": {},
     "output_type": "display_data"
    },
    {
     "name": "stdout",
     "output_type": "stream",
     "text": [
      "Epoch 153/1000, Train Loss: 0.0758, Val Loss: 0.0919\n"
     ]
    },
    {
     "data": {
      "application/vnd.jupyter.widget-view+json": {
       "model_id": "ad9f12c13df84e36ab33b4cad7475118",
       "version_major": 2,
       "version_minor": 0
      },
      "text/plain": [
       "Epoch 154/1000:   0%|          | 0/50 [00:00<?, ?it/s]"
      ]
     },
     "metadata": {},
     "output_type": "display_data"
    },
    {
     "name": "stdout",
     "output_type": "stream",
     "text": [
      "Epoch 154/1000, Train Loss: 0.0751, Val Loss: 0.0913\n"
     ]
    },
    {
     "data": {
      "application/vnd.jupyter.widget-view+json": {
       "model_id": "c74c4876f2a54e049f3d4fd06b45cc16",
       "version_major": 2,
       "version_minor": 0
      },
      "text/plain": [
       "Epoch 155/1000:   0%|          | 0/50 [00:00<?, ?it/s]"
      ]
     },
     "metadata": {},
     "output_type": "display_data"
    },
    {
     "name": "stdout",
     "output_type": "stream",
     "text": [
      "Epoch 155/1000, Train Loss: 0.0743, Val Loss: 0.0905\n"
     ]
    },
    {
     "data": {
      "application/vnd.jupyter.widget-view+json": {
       "model_id": "ea06dcbca0ab46118805f95485bb2f1e",
       "version_major": 2,
       "version_minor": 0
      },
      "text/plain": [
       "Epoch 156/1000:   0%|          | 0/50 [00:00<?, ?it/s]"
      ]
     },
     "metadata": {},
     "output_type": "display_data"
    },
    {
     "name": "stdout",
     "output_type": "stream",
     "text": [
      "Epoch 156/1000, Train Loss: 0.0736, Val Loss: 0.0898\n"
     ]
    },
    {
     "data": {
      "application/vnd.jupyter.widget-view+json": {
       "model_id": "11eca3afbe5a43a4b6cdfeb614e59a27",
       "version_major": 2,
       "version_minor": 0
      },
      "text/plain": [
       "Epoch 157/1000:   0%|          | 0/50 [00:00<?, ?it/s]"
      ]
     },
     "metadata": {},
     "output_type": "display_data"
    },
    {
     "name": "stdout",
     "output_type": "stream",
     "text": [
      "Epoch 157/1000, Train Loss: 0.0729, Val Loss: 0.0891\n"
     ]
    },
    {
     "data": {
      "application/vnd.jupyter.widget-view+json": {
       "model_id": "aec4fcac05aa43bdb1c6867760b72611",
       "version_major": 2,
       "version_minor": 0
      },
      "text/plain": [
       "Epoch 158/1000:   0%|          | 0/50 [00:00<?, ?it/s]"
      ]
     },
     "metadata": {},
     "output_type": "display_data"
    },
    {
     "name": "stdout",
     "output_type": "stream",
     "text": [
      "Epoch 158/1000, Train Loss: 0.0722, Val Loss: 0.0884\n"
     ]
    },
    {
     "data": {
      "application/vnd.jupyter.widget-view+json": {
       "model_id": "b8b598450a444c3c8f67c0b63611e0f2",
       "version_major": 2,
       "version_minor": 0
      },
      "text/plain": [
       "Epoch 159/1000:   0%|          | 0/50 [00:00<?, ?it/s]"
      ]
     },
     "metadata": {},
     "output_type": "display_data"
    },
    {
     "name": "stdout",
     "output_type": "stream",
     "text": [
      "Epoch 159/1000, Train Loss: 0.0714, Val Loss: 0.0877\n"
     ]
    },
    {
     "data": {
      "application/vnd.jupyter.widget-view+json": {
       "model_id": "696bd1bea94747f5bd84b71e50395943",
       "version_major": 2,
       "version_minor": 0
      },
      "text/plain": [
       "Epoch 160/1000:   0%|          | 0/50 [00:00<?, ?it/s]"
      ]
     },
     "metadata": {},
     "output_type": "display_data"
    },
    {
     "name": "stdout",
     "output_type": "stream",
     "text": [
      "Epoch 160/1000, Train Loss: 0.0707, Val Loss: 0.0869\n"
     ]
    },
    {
     "data": {
      "application/vnd.jupyter.widget-view+json": {
       "model_id": "40d27f3789174f6684b07e474264d922",
       "version_major": 2,
       "version_minor": 0
      },
      "text/plain": [
       "Epoch 161/1000:   0%|          | 0/50 [00:00<?, ?it/s]"
      ]
     },
     "metadata": {},
     "output_type": "display_data"
    },
    {
     "name": "stdout",
     "output_type": "stream",
     "text": [
      "Epoch 161/1000, Train Loss: 0.0700, Val Loss: 0.0863\n"
     ]
    },
    {
     "data": {
      "application/vnd.jupyter.widget-view+json": {
       "model_id": "9f4f165617e94c2c83f6b4f900fc0210",
       "version_major": 2,
       "version_minor": 0
      },
      "text/plain": [
       "Epoch 162/1000:   0%|          | 0/50 [00:00<?, ?it/s]"
      ]
     },
     "metadata": {},
     "output_type": "display_data"
    },
    {
     "name": "stdout",
     "output_type": "stream",
     "text": [
      "Epoch 162/1000, Train Loss: 0.0692, Val Loss: 0.0855\n"
     ]
    },
    {
     "data": {
      "application/vnd.jupyter.widget-view+json": {
       "model_id": "046495b8b0f74c748bee6c767994c87f",
       "version_major": 2,
       "version_minor": 0
      },
      "text/plain": [
       "Epoch 163/1000:   0%|          | 0/50 [00:00<?, ?it/s]"
      ]
     },
     "metadata": {},
     "output_type": "display_data"
    },
    {
     "name": "stdout",
     "output_type": "stream",
     "text": [
      "Epoch 163/1000, Train Loss: 0.0685, Val Loss: 0.0848\n"
     ]
    },
    {
     "data": {
      "application/vnd.jupyter.widget-view+json": {
       "model_id": "a72843d121504cd9a69c21447b213187",
       "version_major": 2,
       "version_minor": 0
      },
      "text/plain": [
       "Epoch 164/1000:   0%|          | 0/50 [00:00<?, ?it/s]"
      ]
     },
     "metadata": {},
     "output_type": "display_data"
    },
    {
     "name": "stdout",
     "output_type": "stream",
     "text": [
      "Epoch 164/1000, Train Loss: 0.0678, Val Loss: 0.0841\n"
     ]
    },
    {
     "data": {
      "application/vnd.jupyter.widget-view+json": {
       "model_id": "a97e0c828f694483a00d10d2cc09fa32",
       "version_major": 2,
       "version_minor": 0
      },
      "text/plain": [
       "Epoch 165/1000:   0%|          | 0/50 [00:00<?, ?it/s]"
      ]
     },
     "metadata": {},
     "output_type": "display_data"
    },
    {
     "name": "stdout",
     "output_type": "stream",
     "text": [
      "Epoch 165/1000, Train Loss: 0.0671, Val Loss: 0.0834\n"
     ]
    },
    {
     "data": {
      "application/vnd.jupyter.widget-view+json": {
       "model_id": "f71f4c44fc654f3c89008dec53562546",
       "version_major": 2,
       "version_minor": 0
      },
      "text/plain": [
       "Epoch 166/1000:   0%|          | 0/50 [00:00<?, ?it/s]"
      ]
     },
     "metadata": {},
     "output_type": "display_data"
    },
    {
     "name": "stdout",
     "output_type": "stream",
     "text": [
      "Epoch 166/1000, Train Loss: 0.0663, Val Loss: 0.0827\n"
     ]
    },
    {
     "data": {
      "application/vnd.jupyter.widget-view+json": {
       "model_id": "9ff32d4813b9424bab7a428506682929",
       "version_major": 2,
       "version_minor": 0
      },
      "text/plain": [
       "Epoch 167/1000:   0%|          | 0/50 [00:00<?, ?it/s]"
      ]
     },
     "metadata": {},
     "output_type": "display_data"
    },
    {
     "name": "stdout",
     "output_type": "stream",
     "text": [
      "Epoch 167/1000, Train Loss: 0.0656, Val Loss: 0.0820\n"
     ]
    },
    {
     "data": {
      "application/vnd.jupyter.widget-view+json": {
       "model_id": "af6966e233444dc4909382290dab7ad3",
       "version_major": 2,
       "version_minor": 0
      },
      "text/plain": [
       "Epoch 168/1000:   0%|          | 0/50 [00:00<?, ?it/s]"
      ]
     },
     "metadata": {},
     "output_type": "display_data"
    },
    {
     "name": "stdout",
     "output_type": "stream",
     "text": [
      "Epoch 168/1000, Train Loss: 0.0649, Val Loss: 0.0812\n"
     ]
    },
    {
     "data": {
      "application/vnd.jupyter.widget-view+json": {
       "model_id": "4f9e1a8b229c4da5937ec3026ec78df9",
       "version_major": 2,
       "version_minor": 0
      },
      "text/plain": [
       "Epoch 169/1000:   0%|          | 0/50 [00:00<?, ?it/s]"
      ]
     },
     "metadata": {},
     "output_type": "display_data"
    },
    {
     "name": "stdout",
     "output_type": "stream",
     "text": [
      "Epoch 169/1000, Train Loss: 0.0641, Val Loss: 0.0805\n"
     ]
    },
    {
     "data": {
      "application/vnd.jupyter.widget-view+json": {
       "model_id": "b7a3be29d51e4559b92f09dd6e04353b",
       "version_major": 2,
       "version_minor": 0
      },
      "text/plain": [
       "Epoch 170/1000:   0%|          | 0/50 [00:00<?, ?it/s]"
      ]
     },
     "metadata": {},
     "output_type": "display_data"
    },
    {
     "name": "stdout",
     "output_type": "stream",
     "text": [
      "Epoch 170/1000, Train Loss: 0.0634, Val Loss: 0.0798\n"
     ]
    },
    {
     "data": {
      "application/vnd.jupyter.widget-view+json": {
       "model_id": "2911ffeb4eeb473fbba86d52f4db8f00",
       "version_major": 2,
       "version_minor": 0
      },
      "text/plain": [
       "Epoch 171/1000:   0%|          | 0/50 [00:00<?, ?it/s]"
      ]
     },
     "metadata": {},
     "output_type": "display_data"
    },
    {
     "name": "stdout",
     "output_type": "stream",
     "text": [
      "Epoch 171/1000, Train Loss: 0.0627, Val Loss: 0.0791\n"
     ]
    },
    {
     "data": {
      "application/vnd.jupyter.widget-view+json": {
       "model_id": "0780bb5d78b44a039585efa4959679c2",
       "version_major": 2,
       "version_minor": 0
      },
      "text/plain": [
       "Epoch 172/1000:   0%|          | 0/50 [00:00<?, ?it/s]"
      ]
     },
     "metadata": {},
     "output_type": "display_data"
    },
    {
     "name": "stdout",
     "output_type": "stream",
     "text": [
      "Epoch 172/1000, Train Loss: 0.0620, Val Loss: 0.0784\n"
     ]
    },
    {
     "data": {
      "application/vnd.jupyter.widget-view+json": {
       "model_id": "bf00232d8f7d4090a6c5dd6a593e0796",
       "version_major": 2,
       "version_minor": 0
      },
      "text/plain": [
       "Epoch 173/1000:   0%|          | 0/50 [00:00<?, ?it/s]"
      ]
     },
     "metadata": {},
     "output_type": "display_data"
    },
    {
     "name": "stdout",
     "output_type": "stream",
     "text": [
      "Epoch 173/1000, Train Loss: 0.0612, Val Loss: 0.0777\n"
     ]
    },
    {
     "data": {
      "application/vnd.jupyter.widget-view+json": {
       "model_id": "c7376f6f89584c98850f0f783127f86e",
       "version_major": 2,
       "version_minor": 0
      },
      "text/plain": [
       "Epoch 174/1000:   0%|          | 0/50 [00:00<?, ?it/s]"
      ]
     },
     "metadata": {},
     "output_type": "display_data"
    },
    {
     "name": "stdout",
     "output_type": "stream",
     "text": [
      "Epoch 174/1000, Train Loss: 0.0605, Val Loss: 0.0770\n"
     ]
    },
    {
     "data": {
      "application/vnd.jupyter.widget-view+json": {
       "model_id": "6bf2bfe651ab419a80f39c806f126b81",
       "version_major": 2,
       "version_minor": 0
      },
      "text/plain": [
       "Epoch 175/1000:   0%|          | 0/50 [00:00<?, ?it/s]"
      ]
     },
     "metadata": {},
     "output_type": "display_data"
    },
    {
     "name": "stdout",
     "output_type": "stream",
     "text": [
      "Epoch 175/1000, Train Loss: 0.0598, Val Loss: 0.0762\n"
     ]
    },
    {
     "data": {
      "application/vnd.jupyter.widget-view+json": {
       "model_id": "1ec1281ce28c4a16ae0a66c85153646d",
       "version_major": 2,
       "version_minor": 0
      },
      "text/plain": [
       "Epoch 176/1000:   0%|          | 0/50 [00:00<?, ?it/s]"
      ]
     },
     "metadata": {},
     "output_type": "display_data"
    },
    {
     "name": "stdout",
     "output_type": "stream",
     "text": [
      "Epoch 176/1000, Train Loss: 0.0591, Val Loss: 0.0756\n"
     ]
    },
    {
     "data": {
      "application/vnd.jupyter.widget-view+json": {
       "model_id": "ba5a20f6733e4d8f958fcaf02a313918",
       "version_major": 2,
       "version_minor": 0
      },
      "text/plain": [
       "Epoch 177/1000:   0%|          | 0/50 [00:00<?, ?it/s]"
      ]
     },
     "metadata": {},
     "output_type": "display_data"
    },
    {
     "name": "stdout",
     "output_type": "stream",
     "text": [
      "Epoch 177/1000, Train Loss: 0.0583, Val Loss: 0.0748\n"
     ]
    },
    {
     "data": {
      "application/vnd.jupyter.widget-view+json": {
       "model_id": "f3ed0c55648e454e8877ecbbdfaef3de",
       "version_major": 2,
       "version_minor": 0
      },
      "text/plain": [
       "Epoch 178/1000:   0%|          | 0/50 [00:00<?, ?it/s]"
      ]
     },
     "metadata": {},
     "output_type": "display_data"
    },
    {
     "name": "stdout",
     "output_type": "stream",
     "text": [
      "Epoch 178/1000, Train Loss: 0.0576, Val Loss: 0.0741\n"
     ]
    },
    {
     "data": {
      "application/vnd.jupyter.widget-view+json": {
       "model_id": "ce156bd4e32845008b924a404a325deb",
       "version_major": 2,
       "version_minor": 0
      },
      "text/plain": [
       "Epoch 179/1000:   0%|          | 0/50 [00:00<?, ?it/s]"
      ]
     },
     "metadata": {},
     "output_type": "display_data"
    },
    {
     "name": "stdout",
     "output_type": "stream",
     "text": [
      "Epoch 179/1000, Train Loss: 0.0557, Val Loss: 0.0734\n"
     ]
    },
    {
     "data": {
      "application/vnd.jupyter.widget-view+json": {
       "model_id": "b3d59bde7f6f47b299b25a3257ee33b8",
       "version_major": 2,
       "version_minor": 0
      },
      "text/plain": [
       "Epoch 180/1000:   0%|          | 0/50 [00:00<?, ?it/s]"
      ]
     },
     "metadata": {},
     "output_type": "display_data"
    },
    {
     "name": "stdout",
     "output_type": "stream",
     "text": [
      "Epoch 180/1000, Train Loss: 0.0561, Val Loss: 0.0727\n"
     ]
    },
    {
     "data": {
      "application/vnd.jupyter.widget-view+json": {
       "model_id": "dba4b9fc81b64964a879ef14f35fb404",
       "version_major": 2,
       "version_minor": 0
      },
      "text/plain": [
       "Epoch 181/1000:   0%|          | 0/50 [00:00<?, ?it/s]"
      ]
     },
     "metadata": {},
     "output_type": "display_data"
    },
    {
     "name": "stdout",
     "output_type": "stream",
     "text": [
      "Epoch 181/1000, Train Loss: 0.0554, Val Loss: 0.0720\n"
     ]
    },
    {
     "data": {
      "application/vnd.jupyter.widget-view+json": {
       "model_id": "7b84856ae7ad4f8d9b3c149c041c4feb",
       "version_major": 2,
       "version_minor": 0
      },
      "text/plain": [
       "Epoch 182/1000:   0%|          | 0/50 [00:00<?, ?it/s]"
      ]
     },
     "metadata": {},
     "output_type": "display_data"
    },
    {
     "name": "stdout",
     "output_type": "stream",
     "text": [
      "Epoch 182/1000, Train Loss: 0.0547, Val Loss: 0.0713\n"
     ]
    },
    {
     "data": {
      "application/vnd.jupyter.widget-view+json": {
       "model_id": "311594f03e894d38b3bcd895191570ba",
       "version_major": 2,
       "version_minor": 0
      },
      "text/plain": [
       "Epoch 183/1000:   0%|          | 0/50 [00:00<?, ?it/s]"
      ]
     },
     "metadata": {},
     "output_type": "display_data"
    },
    {
     "name": "stdout",
     "output_type": "stream",
     "text": [
      "Epoch 183/1000, Train Loss: 0.0539, Val Loss: 0.0705\n"
     ]
    },
    {
     "data": {
      "application/vnd.jupyter.widget-view+json": {
       "model_id": "ef3945b39b80401ba37b3928474a1ff3",
       "version_major": 2,
       "version_minor": 0
      },
      "text/plain": [
       "Epoch 184/1000:   0%|          | 0/50 [00:00<?, ?it/s]"
      ]
     },
     "metadata": {},
     "output_type": "display_data"
    },
    {
     "name": "stdout",
     "output_type": "stream",
     "text": [
      "Epoch 184/1000, Train Loss: 0.0532, Val Loss: 0.0698\n"
     ]
    },
    {
     "data": {
      "application/vnd.jupyter.widget-view+json": {
       "model_id": "a5d8543aa600475f87087e3aa5d9c0a5",
       "version_major": 2,
       "version_minor": 0
      },
      "text/plain": [
       "Epoch 185/1000:   0%|          | 0/50 [00:00<?, ?it/s]"
      ]
     },
     "metadata": {},
     "output_type": "display_data"
    },
    {
     "name": "stdout",
     "output_type": "stream",
     "text": [
      "Epoch 185/1000, Train Loss: 0.0525, Val Loss: 0.0691\n"
     ]
    },
    {
     "data": {
      "application/vnd.jupyter.widget-view+json": {
       "model_id": "3385dcba311442db8e8f8a26eb5790ec",
       "version_major": 2,
       "version_minor": 0
      },
      "text/plain": [
       "Epoch 186/1000:   0%|          | 0/50 [00:00<?, ?it/s]"
      ]
     },
     "metadata": {},
     "output_type": "display_data"
    },
    {
     "name": "stdout",
     "output_type": "stream",
     "text": [
      "Epoch 186/1000, Train Loss: 0.0517, Val Loss: 0.0684\n"
     ]
    },
    {
     "data": {
      "application/vnd.jupyter.widget-view+json": {
       "model_id": "c440df4f3a654595b87a6e61ad9943ba",
       "version_major": 2,
       "version_minor": 0
      },
      "text/plain": [
       "Epoch 187/1000:   0%|          | 0/50 [00:00<?, ?it/s]"
      ]
     },
     "metadata": {},
     "output_type": "display_data"
    },
    {
     "name": "stdout",
     "output_type": "stream",
     "text": [
      "Epoch 187/1000, Train Loss: 0.0510, Val Loss: 0.0677\n"
     ]
    },
    {
     "data": {
      "application/vnd.jupyter.widget-view+json": {
       "model_id": "bb9b0a11cba542e68f7c16d6af1ff9ce",
       "version_major": 2,
       "version_minor": 0
      },
      "text/plain": [
       "Epoch 188/1000:   0%|          | 0/50 [00:00<?, ?it/s]"
      ]
     },
     "metadata": {},
     "output_type": "display_data"
    },
    {
     "name": "stdout",
     "output_type": "stream",
     "text": [
      "Epoch 188/1000, Train Loss: 0.0503, Val Loss: 0.0670\n"
     ]
    },
    {
     "data": {
      "application/vnd.jupyter.widget-view+json": {
       "model_id": "04849c50ba924698b0eb360b8a84d248",
       "version_major": 2,
       "version_minor": 0
      },
      "text/plain": [
       "Epoch 189/1000:   0%|          | 0/50 [00:00<?, ?it/s]"
      ]
     },
     "metadata": {},
     "output_type": "display_data"
    },
    {
     "name": "stdout",
     "output_type": "stream",
     "text": [
      "Epoch 189/1000, Train Loss: 0.0496, Val Loss: 0.0662\n"
     ]
    },
    {
     "data": {
      "application/vnd.jupyter.widget-view+json": {
       "model_id": "daad66f5af894a2f8ff0f41540d96ee6",
       "version_major": 2,
       "version_minor": 0
      },
      "text/plain": [
       "Epoch 190/1000:   0%|          | 0/50 [00:00<?, ?it/s]"
      ]
     },
     "metadata": {},
     "output_type": "display_data"
    },
    {
     "name": "stdout",
     "output_type": "stream",
     "text": [
      "Epoch 190/1000, Train Loss: 0.0488, Val Loss: 0.0655\n"
     ]
    },
    {
     "data": {
      "application/vnd.jupyter.widget-view+json": {
       "model_id": "3b4a35b99ce7413a9a0acb507e1dae4b",
       "version_major": 2,
       "version_minor": 0
      },
      "text/plain": [
       "Epoch 191/1000:   0%|          | 0/50 [00:00<?, ?it/s]"
      ]
     },
     "metadata": {},
     "output_type": "display_data"
    },
    {
     "name": "stdout",
     "output_type": "stream",
     "text": [
      "Epoch 191/1000, Train Loss: 0.0481, Val Loss: 0.0648\n"
     ]
    },
    {
     "data": {
      "application/vnd.jupyter.widget-view+json": {
       "model_id": "f83183c956a54840a6eac63d6e863dab",
       "version_major": 2,
       "version_minor": 0
      },
      "text/plain": [
       "Epoch 192/1000:   0%|          | 0/50 [00:00<?, ?it/s]"
      ]
     },
     "metadata": {},
     "output_type": "display_data"
    },
    {
     "name": "stdout",
     "output_type": "stream",
     "text": [
      "Epoch 192/1000, Train Loss: 0.0474, Val Loss: 0.0641\n"
     ]
    },
    {
     "data": {
      "application/vnd.jupyter.widget-view+json": {
       "model_id": "cdaaafe6ee4b4ee5b2000439f1c667d1",
       "version_major": 2,
       "version_minor": 0
      },
      "text/plain": [
       "Epoch 193/1000:   0%|          | 0/50 [00:00<?, ?it/s]"
      ]
     },
     "metadata": {},
     "output_type": "display_data"
    },
    {
     "name": "stdout",
     "output_type": "stream",
     "text": [
      "Epoch 193/1000, Train Loss: 0.0466, Val Loss: 0.0634\n"
     ]
    },
    {
     "data": {
      "application/vnd.jupyter.widget-view+json": {
       "model_id": "e3baf9a69a3d43fea1d09233c2a244af",
       "version_major": 2,
       "version_minor": 0
      },
      "text/plain": [
       "Epoch 194/1000:   0%|          | 0/50 [00:00<?, ?it/s]"
      ]
     },
     "metadata": {},
     "output_type": "display_data"
    },
    {
     "name": "stdout",
     "output_type": "stream",
     "text": [
      "Epoch 194/1000, Train Loss: 0.0459, Val Loss: 0.0627\n"
     ]
    },
    {
     "data": {
      "application/vnd.jupyter.widget-view+json": {
       "model_id": "e4c0ac7512da4e1fb7118397d7aee018",
       "version_major": 2,
       "version_minor": 0
      },
      "text/plain": [
       "Epoch 195/1000:   0%|          | 0/50 [00:00<?, ?it/s]"
      ]
     },
     "metadata": {},
     "output_type": "display_data"
    },
    {
     "name": "stdout",
     "output_type": "stream",
     "text": [
      "Epoch 195/1000, Train Loss: 0.0452, Val Loss: 0.0620\n"
     ]
    },
    {
     "data": {
      "application/vnd.jupyter.widget-view+json": {
       "model_id": "1f6aa90f32bb4a598548d1aa1cb75759",
       "version_major": 2,
       "version_minor": 0
      },
      "text/plain": [
       "Epoch 196/1000:   0%|          | 0/50 [00:00<?, ?it/s]"
      ]
     },
     "metadata": {},
     "output_type": "display_data"
    },
    {
     "name": "stdout",
     "output_type": "stream",
     "text": [
      "Epoch 196/1000, Train Loss: 0.0445, Val Loss: 0.0612\n"
     ]
    },
    {
     "data": {
      "application/vnd.jupyter.widget-view+json": {
       "model_id": "c565948e12314ebe9abb00e041837cf6",
       "version_major": 2,
       "version_minor": 0
      },
      "text/plain": [
       "Epoch 197/1000:   0%|          | 0/50 [00:00<?, ?it/s]"
      ]
     },
     "metadata": {},
     "output_type": "display_data"
    },
    {
     "name": "stdout",
     "output_type": "stream",
     "text": [
      "Epoch 197/1000, Train Loss: 0.0438, Val Loss: 0.0606\n"
     ]
    },
    {
     "data": {
      "application/vnd.jupyter.widget-view+json": {
       "model_id": "d243a5a5b1514f4f903a9f3a666522a6",
       "version_major": 2,
       "version_minor": 0
      },
      "text/plain": [
       "Epoch 198/1000:   0%|          | 0/50 [00:00<?, ?it/s]"
      ]
     },
     "metadata": {},
     "output_type": "display_data"
    },
    {
     "name": "stdout",
     "output_type": "stream",
     "text": [
      "Epoch 198/1000, Train Loss: 0.0430, Val Loss: 0.0598\n"
     ]
    },
    {
     "data": {
      "application/vnd.jupyter.widget-view+json": {
       "model_id": "068f29bca92e4895b4078a88d00a3196",
       "version_major": 2,
       "version_minor": 0
      },
      "text/plain": [
       "Epoch 199/1000:   0%|          | 0/50 [00:00<?, ?it/s]"
      ]
     },
     "metadata": {},
     "output_type": "display_data"
    },
    {
     "name": "stdout",
     "output_type": "stream",
     "text": [
      "Epoch 199/1000, Train Loss: 0.0423, Val Loss: 0.0591\n"
     ]
    },
    {
     "data": {
      "application/vnd.jupyter.widget-view+json": {
       "model_id": "188971a98c944236be2bce6e8c90fe02",
       "version_major": 2,
       "version_minor": 0
      },
      "text/plain": [
       "Epoch 200/1000:   0%|          | 0/50 [00:00<?, ?it/s]"
      ]
     },
     "metadata": {},
     "output_type": "display_data"
    },
    {
     "name": "stdout",
     "output_type": "stream",
     "text": [
      "Epoch 200/1000, Train Loss: 0.0415, Val Loss: 0.0584\n"
     ]
    },
    {
     "data": {
      "application/vnd.jupyter.widget-view+json": {
       "model_id": "86978838fff04e13a07f67e6bdf92360",
       "version_major": 2,
       "version_minor": 0
      },
      "text/plain": [
       "Epoch 201/1000:   0%|          | 0/50 [00:00<?, ?it/s]"
      ]
     },
     "metadata": {},
     "output_type": "display_data"
    },
    {
     "name": "stdout",
     "output_type": "stream",
     "text": [
      "Epoch 201/1000, Train Loss: 0.0408, Val Loss: 0.0577\n"
     ]
    },
    {
     "data": {
      "application/vnd.jupyter.widget-view+json": {
       "model_id": "f1e8437274ff4c50b67b89cc448d37c0",
       "version_major": 2,
       "version_minor": 0
      },
      "text/plain": [
       "Epoch 202/1000:   0%|          | 0/50 [00:00<?, ?it/s]"
      ]
     },
     "metadata": {},
     "output_type": "display_data"
    },
    {
     "name": "stdout",
     "output_type": "stream",
     "text": [
      "Epoch 202/1000, Train Loss: 0.0401, Val Loss: 0.0569\n"
     ]
    },
    {
     "data": {
      "application/vnd.jupyter.widget-view+json": {
       "model_id": "6a7d6300dae148f69b9ef2eb0cc7bb79",
       "version_major": 2,
       "version_minor": 0
      },
      "text/plain": [
       "Epoch 203/1000:   0%|          | 0/50 [00:00<?, ?it/s]"
      ]
     },
     "metadata": {},
     "output_type": "display_data"
    },
    {
     "name": "stdout",
     "output_type": "stream",
     "text": [
      "Epoch 203/1000, Train Loss: 0.0394, Val Loss: 0.0563\n"
     ]
    },
    {
     "data": {
      "application/vnd.jupyter.widget-view+json": {
       "model_id": "b7675d56ee72439e8f65ee1f5c14d2a6",
       "version_major": 2,
       "version_minor": 0
      },
      "text/plain": [
       "Epoch 204/1000:   0%|          | 0/50 [00:00<?, ?it/s]"
      ]
     },
     "metadata": {},
     "output_type": "display_data"
    },
    {
     "name": "stdout",
     "output_type": "stream",
     "text": [
      "Epoch 204/1000, Train Loss: 0.0386, Val Loss: 0.0555\n"
     ]
    },
    {
     "data": {
      "application/vnd.jupyter.widget-view+json": {
       "model_id": "a843ba04df8449b8a38eb028bac35c02",
       "version_major": 2,
       "version_minor": 0
      },
      "text/plain": [
       "Epoch 205/1000:   0%|          | 0/50 [00:00<?, ?it/s]"
      ]
     },
     "metadata": {},
     "output_type": "display_data"
    },
    {
     "name": "stdout",
     "output_type": "stream",
     "text": [
      "Epoch 205/1000, Train Loss: 0.0379, Val Loss: 0.0549\n"
     ]
    },
    {
     "data": {
      "application/vnd.jupyter.widget-view+json": {
       "model_id": "e90f5e2739ed498992789a686b73a6ac",
       "version_major": 2,
       "version_minor": 0
      },
      "text/plain": [
       "Epoch 206/1000:   0%|          | 0/50 [00:00<?, ?it/s]"
      ]
     },
     "metadata": {},
     "output_type": "display_data"
    },
    {
     "name": "stdout",
     "output_type": "stream",
     "text": [
      "Epoch 206/1000, Train Loss: 0.0372, Val Loss: 0.0541\n"
     ]
    },
    {
     "data": {
      "application/vnd.jupyter.widget-view+json": {
       "model_id": "a5f0a270b3064913a87ec833abec2d81",
       "version_major": 2,
       "version_minor": 0
      },
      "text/plain": [
       "Epoch 207/1000:   0%|          | 0/50 [00:00<?, ?it/s]"
      ]
     },
     "metadata": {},
     "output_type": "display_data"
    },
    {
     "name": "stdout",
     "output_type": "stream",
     "text": [
      "Epoch 207/1000, Train Loss: 0.0364, Val Loss: 0.0534\n"
     ]
    },
    {
     "data": {
      "application/vnd.jupyter.widget-view+json": {
       "model_id": "8fbb316cbfde4bfba09f12e8c23350e1",
       "version_major": 2,
       "version_minor": 0
      },
      "text/plain": [
       "Epoch 208/1000:   0%|          | 0/50 [00:00<?, ?it/s]"
      ]
     },
     "metadata": {},
     "output_type": "display_data"
    },
    {
     "name": "stdout",
     "output_type": "stream",
     "text": [
      "Epoch 208/1000, Train Loss: 0.0361, Val Loss: 0.0534\n"
     ]
    },
    {
     "data": {
      "application/vnd.jupyter.widget-view+json": {
       "model_id": "d82d98cca9f34296bfb911f8455d3846",
       "version_major": 2,
       "version_minor": 0
      },
      "text/plain": [
       "Epoch 209/1000:   0%|          | 0/50 [00:00<?, ?it/s]"
      ]
     },
     "metadata": {},
     "output_type": "display_data"
    },
    {
     "name": "stdout",
     "output_type": "stream",
     "text": [
      "Epoch 209/1000, Train Loss: 0.0360, Val Loss: 0.0534\n"
     ]
    },
    {
     "data": {
      "application/vnd.jupyter.widget-view+json": {
       "model_id": "72efc4ededf0497fb0d43f8422c5c9be",
       "version_major": 2,
       "version_minor": 0
      },
      "text/plain": [
       "Epoch 210/1000:   0%|          | 0/50 [00:00<?, ?it/s]"
      ]
     },
     "metadata": {},
     "output_type": "display_data"
    },
    {
     "name": "stdout",
     "output_type": "stream",
     "text": [
      "Epoch 210/1000, Train Loss: 0.0361, Val Loss: 0.0534\n"
     ]
    },
    {
     "data": {
      "application/vnd.jupyter.widget-view+json": {
       "model_id": "c79107139f22402eb94622b938d5d8c0",
       "version_major": 2,
       "version_minor": 0
      },
      "text/plain": [
       "Epoch 211/1000:   0%|          | 0/50 [00:00<?, ?it/s]"
      ]
     },
     "metadata": {},
     "output_type": "display_data"
    },
    {
     "name": "stdout",
     "output_type": "stream",
     "text": [
      "Epoch 211/1000, Train Loss: 0.0360, Val Loss: 0.0533\n"
     ]
    },
    {
     "data": {
      "application/vnd.jupyter.widget-view+json": {
       "model_id": "6495d253272644c29dbd7c90965c7440",
       "version_major": 2,
       "version_minor": 0
      },
      "text/plain": [
       "Epoch 212/1000:   0%|          | 0/50 [00:00<?, ?it/s]"
      ]
     },
     "metadata": {},
     "output_type": "display_data"
    },
    {
     "name": "stdout",
     "output_type": "stream",
     "text": [
      "Epoch 212/1000, Train Loss: 0.0361, Val Loss: 0.0534\n"
     ]
    },
    {
     "data": {
      "application/vnd.jupyter.widget-view+json": {
       "model_id": "2ccdadfd22c34620b900d52668bd455f",
       "version_major": 2,
       "version_minor": 0
      },
      "text/plain": [
       "Epoch 213/1000:   0%|          | 0/50 [00:00<?, ?it/s]"
      ]
     },
     "metadata": {},
     "output_type": "display_data"
    },
    {
     "name": "stdout",
     "output_type": "stream",
     "text": [
      "Epoch 213/1000, Train Loss: 0.0360, Val Loss: 0.0534\n"
     ]
    },
    {
     "data": {
      "application/vnd.jupyter.widget-view+json": {
       "model_id": "4e5bd947df03417ab6737e5805c3f062",
       "version_major": 2,
       "version_minor": 0
      },
      "text/plain": [
       "Epoch 214/1000:   0%|          | 0/50 [00:00<?, ?it/s]"
      ]
     },
     "metadata": {},
     "output_type": "display_data"
    },
    {
     "name": "stdout",
     "output_type": "stream",
     "text": [
      "Epoch 214/1000, Train Loss: 0.0361, Val Loss: 0.0534\n"
     ]
    },
    {
     "data": {
      "application/vnd.jupyter.widget-view+json": {
       "model_id": "c41746c284354c0c87d171ea58ef589f",
       "version_major": 2,
       "version_minor": 0
      },
      "text/plain": [
       "Epoch 215/1000:   0%|          | 0/50 [00:00<?, ?it/s]"
      ]
     },
     "metadata": {},
     "output_type": "display_data"
    },
    {
     "name": "stdout",
     "output_type": "stream",
     "text": [
      "Epoch 215/1000, Train Loss: 0.0361, Val Loss: 0.0534\n"
     ]
    },
    {
     "data": {
      "application/vnd.jupyter.widget-view+json": {
       "model_id": "1888553bfca24e479eae9bcd514acca4",
       "version_major": 2,
       "version_minor": 0
      },
      "text/plain": [
       "Epoch 216/1000:   0%|          | 0/50 [00:00<?, ?it/s]"
      ]
     },
     "metadata": {},
     "output_type": "display_data"
    },
    {
     "name": "stdout",
     "output_type": "stream",
     "text": [
      "Epoch 216/1000, Train Loss: 0.0361, Val Loss: 0.0534\n"
     ]
    },
    {
     "data": {
      "application/vnd.jupyter.widget-view+json": {
       "model_id": "327849cc62574f31946461e639156fff",
       "version_major": 2,
       "version_minor": 0
      },
      "text/plain": [
       "Epoch 217/1000:   0%|          | 0/50 [00:00<?, ?it/s]"
      ]
     },
     "metadata": {},
     "output_type": "display_data"
    },
    {
     "name": "stdout",
     "output_type": "stream",
     "text": [
      "Epoch 217/1000, Train Loss: 0.0361, Val Loss: 0.0534\n"
     ]
    },
    {
     "data": {
      "application/vnd.jupyter.widget-view+json": {
       "model_id": "99fbe6c4494f41c2975b318418cec285",
       "version_major": 2,
       "version_minor": 0
      },
      "text/plain": [
       "Epoch 218/1000:   0%|          | 0/50 [00:00<?, ?it/s]"
      ]
     },
     "metadata": {},
     "output_type": "display_data"
    },
    {
     "name": "stdout",
     "output_type": "stream",
     "text": [
      "Epoch 218/1000, Train Loss: 0.0360, Val Loss: 0.0534\n"
     ]
    },
    {
     "data": {
      "application/vnd.jupyter.widget-view+json": {
       "model_id": "c67a25e4fb4d4082844575fe1627778e",
       "version_major": 2,
       "version_minor": 0
      },
      "text/plain": [
       "Epoch 219/1000:   0%|          | 0/50 [00:00<?, ?it/s]"
      ]
     },
     "metadata": {},
     "output_type": "display_data"
    },
    {
     "name": "stdout",
     "output_type": "stream",
     "text": [
      "Epoch 219/1000, Train Loss: 0.0360, Val Loss: 0.0534\n"
     ]
    },
    {
     "data": {
      "application/vnd.jupyter.widget-view+json": {
       "model_id": "2d105c813c7442f0a4552b3a3ce8f4ef",
       "version_major": 2,
       "version_minor": 0
      },
      "text/plain": [
       "Epoch 220/1000:   0%|          | 0/50 [00:00<?, ?it/s]"
      ]
     },
     "metadata": {},
     "output_type": "display_data"
    },
    {
     "name": "stdout",
     "output_type": "stream",
     "text": [
      "Epoch 220/1000, Train Loss: 0.0360, Val Loss: 0.0534\n"
     ]
    },
    {
     "data": {
      "application/vnd.jupyter.widget-view+json": {
       "model_id": "1effe7a99b8445e4ae2e4c1d405aaf65",
       "version_major": 2,
       "version_minor": 0
      },
      "text/plain": [
       "Epoch 221/1000:   0%|          | 0/50 [00:00<?, ?it/s]"
      ]
     },
     "metadata": {},
     "output_type": "display_data"
    },
    {
     "name": "stdout",
     "output_type": "stream",
     "text": [
      "Epoch 221/1000, Train Loss: 0.0360, Val Loss: 0.0534\n",
      "Early stopping triggered\n"
     ]
    }
   ],
   "source": [
    "# Train the model\n",
    "trained_model = train_model(\n",
    "    model, train_loader, val_loader, criterion, optimizer, scheduler\n",
    ")\n",
    "\n",
    "# Save the best model\n",
    "torch.save(trained_model.state_dict(), \"best_model.pth\")"
   ]
  },
  {
   "cell_type": "markdown",
   "id": "9fe8db42-9ca0-4ef3-8af4-e1157f2e6fff",
   "metadata": {},
   "source": [
    "## 6. Evaluate the Model\n"
   ]
  },
  {
   "cell_type": "code",
   "execution_count": 13,
   "id": "7d1e4f32-7920-4fcf-abcd-2b03edee7487",
   "metadata": {},
   "outputs": [],
   "source": [
    "def evaluate_model(model, data_loader):\n",
    "    model.eval()\n",
    "    total_loss = 0.0\n",
    "    all_predictions = []\n",
    "    all_targets = []\n",
    "\n",
    "    with torch.no_grad():\n",
    "        for frames, imu_data, targets in data_loader:\n",
    "            frames, imu_data, targets = (\n",
    "                frames.to(device),\n",
    "                imu_data.to(device),\n",
    "                targets.to(device),\n",
    "            )\n",
    "            outputs = model(frames, imu_data)\n",
    "            loss = criterion(outputs, targets)\n",
    "            total_loss += loss.item()\n",
    "\n",
    "            all_predictions.append(outputs.cpu().numpy())\n",
    "            all_targets.append(targets.cpu().numpy())\n",
    "\n",
    "    avg_loss = total_loss / len(data_loader)\n",
    "    all_predictions = np.concatenate(all_predictions)\n",
    "    all_targets = np.concatenate(all_targets)\n",
    "\n",
    "    return avg_loss, all_predictions, all_targets"
   ]
  },
  {
   "cell_type": "code",
   "execution_count": 14,
   "id": "090c473b-45a6-418a-83f6-4761c3863a7c",
   "metadata": {},
   "outputs": [
    {
     "name": "stdout",
     "output_type": "stream",
     "text": [
      "Validation Loss: 0.0534\n"
     ]
    }
   ],
   "source": [
    "# Evaluate the model\n",
    "val_loss, val_predictions, val_targets = evaluate_model(trained_model, val_loader)\n",
    "print(f\"Validation Loss: {val_loss:.4f}\")"
   ]
  },
  {
   "cell_type": "markdown",
   "id": "7fdd0325-6bab-4f80-a72d-4f7a703575ca",
   "metadata": {},
   "source": [
    "## 7. Visualize Predictions\n"
   ]
  },
  {
   "cell_type": "code",
   "execution_count": 15,
   "metadata": {},
   "outputs": [],
   "source": [
    "with open(\"configs/default_config.yaml\", \"r\") as file:\n",
    "    config = yaml.safe_load(file)\n",
    "probe_specs = config[\"probe_specs\"]"
   ]
  },
  {
   "cell_type": "code",
   "execution_count": 16,
   "metadata": {},
   "outputs": [
    {
     "data": {
      "image/png": "[encoded data removed]",
      "text/plain": [
       "<Figure size 2400x1200 with 12 Axes>"
      ]
     },
     "metadata": {},
     "output_type": "display_data"
    }
   ],
   "source": [
    "def plot_position_orientation_errors(predictions, targets):\n",
    "    fig, axes = plt.subplots(2, 6, figsize=(24, 12))\n",
    "\n",
    "    # Titles for position and orientation\n",
    "    pos_titles = [\"Position X\", \"Position Y\", \"Position Z\"]\n",
    "    orient_titles = [\"Orientation X\", \"Orientation Y\", \"Orientation Z\"]\n",
    "\n",
    "    # Position plots (X, Y, Z)\n",
    "    for i in range(3):\n",
    "        # Ground Truth vs Predicted\n",
    "        axes[0, i].plot(targets[:, i], label=\"Ground Truth\", color=\"b\")\n",
    "        axes[0, i].plot(predictions[:, i], label=\"Predicted\", color=\"r\", linestyle=\"--\")\n",
    "        axes[0, i].set_title(f\"GT vs Predicted {pos_titles[i]}\")\n",
    "        axes[0, i].set_xlabel(\"Frame Index\")\n",
    "        axes[0, i].set_ylabel(f\"{pos_titles[i]} (mm)\")\n",
    "        axes[0, i].legend()\n",
    "        axes[0, i].grid(True)\n",
    "\n",
    "        # Error\n",
    "        error = predictions[:, i] - targets[:, i]\n",
    "        axes[0, i + 3].plot(error, label=\"Error\", color=\"g\")\n",
    "        axes[0, i + 3].set_title(f\"{pos_titles[i]} Error\")\n",
    "        axes[0, i + 3].set_xlabel(\"Frame Index\")\n",
    "        axes[0, i + 3].set_ylabel(f\"{pos_titles[i]} Error (mm)\")\n",
    "        axes[0, i + 3].grid(True)\n",
    "\n",
    "    # Orientation plots (X, Y, Z)\n",
    "    for i in range(3):\n",
    "        # Ground Truth vs Predicted\n",
    "        axes[1, i].plot(targets[:, i + 4], label=\"Ground Truth\", color=\"b\")\n",
    "        axes[1, i].plot(\n",
    "            predictions[:, i + 4], label=\"Predicted\", color=\"r\", linestyle=\"--\"\n",
    "        )\n",
    "        axes[1, i].set_title(f\"GT vs Predicted {orient_titles[i]}\")\n",
    "        axes[1, i].set_xlabel(\"Frame Index\")\n",
    "        axes[1, i].set_ylabel(f\"{orient_titles[i]} (radians)\")\n",
    "        axes[1, i].legend()\n",
    "        axes[1, i].grid(True)\n",
    "\n",
    "        # Error\n",
    "        error = predictions[:, i + 4] - targets[:, i + 4]\n",
    "        axes[1, i + 3].plot(error, label=\"Error\", color=\"g\")\n",
    "        axes[1, i + 3].set_title(f\"{orient_titles[i]} Error\")\n",
    "        axes[1, i + 3].set_xlabel(\"Frame Index\")\n",
    "        axes[1, i + 3].set_ylabel(f\"{orient_titles[i]} Error (radians)\")\n",
    "        axes[1, i + 3].grid(True)\n",
    "\n",
    "    plt.tight_layout()\n",
    "    plt.show()\n",
    "\n",
    "\n",
    "plot_position_orientation_errors(val_predictions, val_targets)"
   ]
  },
  {
   "cell_type": "code",
   "execution_count": 17,
   "metadata": {},
   "outputs": [
    {
     "name": "stdout",
     "output_type": "stream",
     "text": [
      "Reconstructing ground truth volume...\n"
     ]
    },
    {
     "data": {
      "application/vnd.jupyter.widget-view+json": {
       "model_id": "1b94de89a18c4d20a5009bcbae87efb4",
       "version_major": 2,
       "version_minor": 0
      },
      "text/plain": [
       "  0%|          | 0/500 [00:00<?, ?it/s]"
      ]
     },
     "metadata": {},
     "output_type": "display_data"
    },
    {
     "name": "stdout",
     "output_type": "stream",
     "text": [
      "Ground truth volume shape: (697, 715, 601)\n",
      "Volume origin: [  44.0769405   -13.89386663 -969.06145428]\n",
      "Voxel size: 0.1 mm\n",
      "Ground truth volume saved as 'ground_truth_volume.npy'\n",
      "Metadata saved as 'ground_truth_volume_metadata.npy'\n"
     ]
    }
   ],
   "source": [
    "def reconstruct_ground_truth_volume(df, probe_specs, voxel_size=0.5):\n",
    "    frames = df[\"frame\"].values\n",
    "    positions = df[[\"ot_pos_x\", \"ot_pos_y\", \"ot_pos_z\"]].values\n",
    "    orientations = df[[\"ot_qw\", \"ot_qx\", \"ot_qy\", \"ot_qz\"]].values\n",
    "\n",
    "    depth = probe_specs[\"depth\"]\n",
    "    width = probe_specs[\"width\"]\n",
    "    marker_to_probe_bottom = probe_specs[\"marker_to_probe_bottom\"]\n",
    "\n",
    "    axial_scale = depth / 1000\n",
    "    lateral_scale = width / 657\n",
    "\n",
    "    rotations = Rotation.from_quat(orientations[:, [1, 2, 3, 0]])\n",
    "\n",
    "    frame_corners = np.array(\n",
    "        [[0, 0, 0], [width, 0, 0], [0, depth, 0], [width, depth, 0]]\n",
    "    )\n",
    "\n",
    "    transform_matrix = np.array(\n",
    "        [\n",
    "            [0, 0, -1],\n",
    "            [1, 0, 0],\n",
    "            [0, -1, 0],\n",
    "        ]\n",
    "    )\n",
    "\n",
    "    frame_corners = frame_corners @ transform_matrix.T\n",
    "    frame_corners[:, 2] += marker_to_probe_bottom\n",
    "\n",
    "    all_corners = (\n",
    "        np.einsum(\"ijk,lk->ilj\", rotations.as_matrix(), frame_corners)\n",
    "        + positions[:, np.newaxis, :]\n",
    "    )\n",
    "    min_corner = np.min(all_corners.reshape(-1, 3), axis=0)\n",
    "    max_corner = np.max(all_corners.reshape(-1, 3), axis=0)\n",
    "\n",
    "    volume_shape = np.ceil((max_corner - min_corner) / voxel_size).astype(int) + 1\n",
    "    volume = np.zeros(volume_shape, dtype=np.float32)\n",
    "    counts = np.zeros(volume_shape, dtype=np.int32)\n",
    "\n",
    "    x, y = np.meshgrid(np.arange(657) * lateral_scale, np.arange(1000) * axial_scale)\n",
    "    frame_coords = np.stack((x, y, np.zeros_like(x)), axis=-1)\n",
    "    frame_coords = frame_coords @ transform_matrix.T\n",
    "    frame_coords[:, :, 2] += marker_to_probe_bottom\n",
    "\n",
    "    # Lists to store frame centers and orientations\n",
    "    frame_centers = []\n",
    "    frame_orientations = []\n",
    "\n",
    "    print(\"Reconstructing ground truth volume...\")\n",
    "    for i, (frame, position, orientation) in enumerate(\n",
    "        tqdm(zip(frames, positions, orientations), total=len(frames))\n",
    "    ):\n",
    "        frame = np.mean(frame, axis=-1).astype(np.float32)\n",
    "\n",
    "        rotation = Rotation.from_quat(orientation[[1, 2, 3, 0]]).as_matrix()\n",
    "        world_coords = np.einsum(\"ij,klj->kli\", rotation, frame_coords) + position\n",
    "\n",
    "        voxel_coords = np.round((world_coords - min_corner) / voxel_size).astype(int)\n",
    "\n",
    "        mask = np.all((voxel_coords >= 0) & (voxel_coords < volume_shape), axis=2)\n",
    "        valid_voxels = voxel_coords[mask]\n",
    "        valid_intensities = frame[mask]\n",
    "\n",
    "        np.add.at(volume, tuple(valid_voxels.T), valid_intensities)\n",
    "        np.add.at(counts, tuple(valid_voxels.T), 1)\n",
    "\n",
    "        # Calculate frame center using corner coordinates\n",
    "        frame_center = np.mean(all_corners[i], axis=0)\n",
    "        frame_centers.append(frame_center)\n",
    "        frame_orientations.append(orientation[[1, 2, 3, 0]])  # Reorder to [x, y, z, w]\n",
    "\n",
    "    mask = counts > 0\n",
    "    volume[mask] /= counts[mask]\n",
    "\n",
    "    return (\n",
    "        volume,\n",
    "        min_corner,\n",
    "        voxel_size,\n",
    "        np.array(frame_centers),\n",
    "        np.array(frame_orientations),\n",
    "    )\n",
    "\n",
    "\n",
    "# Probe specifications\n",
    "probe_specs = {\n",
    "    \"depth\": 50,  # mm (axial direction)\n",
    "    \"width\": 38,  # mm (lateral direction, assuming 19 mm on each side of the center)\n",
    "    \"axial_res\": 0.5,  # mm\n",
    "    \"lateral_res\": 2,  # mm\n",
    "    \"slice_thickness\": 5,  # mm (elevational direction)\n",
    "    \"marker_to_probe_bottom\": 54,  # mm (approximate, to be refined)\n",
    "}\n",
    "\n",
    "# Reconstruct ground truth volume\n",
    "(\n",
    "    ground_truth_volume,\n",
    "    volume_origin,\n",
    "    voxel_size,\n",
    "    ground_truth_centers,\n",
    "    ground_truth_orientations,\n",
    ") = reconstruct_ground_truth_volume(\n",
    "    df, probe_specs, voxel_size=0.1  # lower voxel size corresponds to higher resolution\n",
    ")\n",
    "\n",
    "print(f\"Ground truth volume shape: {ground_truth_volume.shape}\")\n",
    "print(f\"Volume origin: {volume_origin}\")\n",
    "print(f\"Voxel size: {voxel_size} mm\")\n",
    "\n",
    "# Save the ground truth volume\n",
    "np.save(\"ground_truth_volume.npy\", np.flip(ground_truth_volume, axis=0))\n",
    "print(\"Ground truth volume saved as 'ground_truth_volume.npy'\")\n",
    "\n",
    "# Save metadata\n",
    "metadata = {\n",
    "    \"volume_origin\": volume_origin.tolist(),\n",
    "    \"voxel_size\": voxel_size,\n",
    "    \"probe_specs\": probe_specs,\n",
    "}\n",
    "np.save(\"ground_truth_volume_metadata.npy\", metadata)\n",
    "print(\"Metadata saved as 'ground_truth_volume_metadata.npy'\")"
   ]
  },
  {
   "cell_type": "code",
   "execution_count": 18,
   "metadata": {},
   "outputs": [],
   "source": [
    "def apply_constant_rotation(rotation_matrix, axes, angle_degrees):\n",
    "    \"\"\"Applies a constant rotation to the specified axes.\"\"\"\n",
    "    angle_radians = np.deg2rad(angle_degrees)\n",
    "    rotation = np.eye(3)\n",
    "    if \"x\" in axes:\n",
    "        rotation = np.dot(Rotation.from_euler(\"x\", angle_radians).as_matrix(), rotation)\n",
    "    if \"y\" in axes:\n",
    "        rotation = np.dot(Rotation.from_euler(\"y\", angle_radians).as_matrix(), rotation)\n",
    "    if \"z\" in axes:\n",
    "        rotation = np.dot(Rotation.from_euler(\"z\", angle_radians).as_matrix(), rotation)\n",
    "    return np.dot(rotation_matrix, rotation)"
   ]
  },
  {
   "cell_type": "code",
   "execution_count": 21,
   "metadata": {},
   "outputs": [],
   "source": [
    "def reconstruct_predicted_volume_displacement(\n",
    "    frames,\n",
    "    predicted_displacements,\n",
    "    probe_specs,\n",
    "    voxel_size=0.5,\n",
    "    initial_pose=None,\n",
    "    ignore_orientation=False,\n",
    "    rotation_axes=None,\n",
    "):\n",
    "    # Initialize initial pose\n",
    "    if initial_pose is None:\n",
    "        current_position = np.zeros(3)\n",
    "        current_rotation = np.eye(3)\n",
    "    else:\n",
    "        current_position, current_rotation = initial_pose\n",
    "\n",
    "    # Probe specifications\n",
    "    depth = probe_specs[\"depth\"]\n",
    "    width = probe_specs[\"width\"]\n",
    "    marker_to_probe_bottom = probe_specs[\"marker_to_probe_bottom\"]\n",
    "\n",
    "    # Calculate scaling factors\n",
    "    axial_scale = depth / frames.shape[1]\n",
    "    lateral_scale = width / frames.shape[2]\n",
    "\n",
    "    # Calculate volume bounds\n",
    "    frame_corners = np.array(\n",
    "        [[0, 0, 0], [width, 0, 0], [0, depth, 0], [width, depth, 0]]\n",
    "    )\n",
    "    transform_matrix = np.array(\n",
    "        [\n",
    "            [0, 0, -1],\n",
    "            [1, 0, 0],\n",
    "            [0, -1, 0],\n",
    "        ]\n",
    "    )\n",
    "    frame_corners = frame_corners @ transform_matrix.T\n",
    "    frame_corners[:, 2] += marker_to_probe_bottom\n",
    "\n",
    "    all_corners = []\n",
    "    positions = []\n",
    "\n",
    "    # Set up 3D plot\n",
    "    fig = plt.figure(figsize=(12, 8))\n",
    "    ax = fig.add_subplot(111, projection=\"3d\")\n",
    "\n",
    "    print(\"Reconstructing predicted volume...\")\n",
    "    for i, (frame, displacement) in enumerate(\n",
    "        tqdm(zip(frames, predicted_displacements), total=len(frames))\n",
    "    ):\n",
    "        translation = displacement[:3]\n",
    "        quaternion = displacement[3:]\n",
    "        rotation_matrix = Rotation.from_quat(quaternion).as_matrix()\n",
    "\n",
    "        # Update current position and rotation based on predicted displacement\n",
    "        current_position += current_rotation @ translation\n",
    "        current_rotation = current_rotation @ rotation_matrix\n",
    "\n",
    "        # Calculate and store frame corners in world space\n",
    "        corners_world = (\n",
    "            np.einsum(\"ij,kj->ki\", current_rotation, frame_corners) + current_position\n",
    "        )\n",
    "        all_corners.append(corners_world)\n",
    "\n",
    "        # Store positions for sanity check\n",
    "        positions.append(current_position.copy())\n",
    "\n",
    "        # Sanity check: print displacement and rotation\n",
    "        print(f\"Frame {i+1}:\")\n",
    "        print(f\"  Displacement (mm): {translation}\")\n",
    "        print(\n",
    "            f\"  Rotation (degrees): {Rotation.from_quat(quaternion).as_euler('xyz', degrees=True)}\"\n",
    "        )\n",
    "        print(f\"  Current Position (mm): {current_position}\\n\")\n",
    "\n",
    "        # Sanity check: plot current position and frame corners\n",
    "        for corner in corners_world:\n",
    "            ax.scatter(\n",
    "                corner[0],\n",
    "                corner[1],\n",
    "                corner[2],\n",
    "                color=\"red\",\n",
    "                marker=\"x\",\n",
    "                label=\"Frame Corner\" if i == 0 else \"\",\n",
    "            )\n",
    "\n",
    "    # Plot rectangles for the initial and final frames\n",
    "    for j, corners in enumerate([all_corners[0], all_corners[-1]]):\n",
    "        if j == 0:\n",
    "            label = \"Initial Frame\"\n",
    "            color = \"blue\"\n",
    "        else:\n",
    "            label = \"Final Frame\"\n",
    "            color = \"green\"\n",
    "\n",
    "        # Draw rectangle by connecting the corners\n",
    "        ax.plot(\n",
    "            [corners[0][0], corners[1][0]],\n",
    "            [corners[0][1], corners[1][1]],\n",
    "            [corners[0][2], corners[1][2]],\n",
    "            color=color,\n",
    "            label=label if j == 0 else \"\",\n",
    "        )\n",
    "        ax.plot(\n",
    "            [corners[1][0], corners[3][0]],\n",
    "            [corners[1][1], corners[3][1]],\n",
    "            [corners[1][2], corners[3][2]],\n",
    "            color=color,\n",
    "        )\n",
    "        ax.plot(\n",
    "            [corners[3][0], corners[2][0]],\n",
    "            [corners[3][1], corners[2][1]],\n",
    "            [corners[3][2], corners[2][2]],\n",
    "            color=color,\n",
    "        )\n",
    "        ax.plot(\n",
    "            [corners[2][0], corners[0][0]],\n",
    "            [corners[2][1], corners[0][1]],\n",
    "            [corners[2][2], corners[0][2]],\n",
    "            color=color,\n",
    "        )\n",
    "\n",
    "    all_corners = np.array(all_corners)\n",
    "    min_corner = np.min(all_corners.reshape(-1, 3), axis=0)\n",
    "    max_corner = np.max(all_corners.reshape(-1, 3), axis=0)\n",
    "\n",
    "    # Initialize volume\n",
    "    volume_shape = np.ceil((max_corner - min_corner) / voxel_size).astype(int) + 1\n",
    "    volume = np.zeros(volume_shape, dtype=np.float32)\n",
    "    counts = np.zeros(volume_shape, dtype=np.int32)\n",
    "\n",
    "    # Create coordinate grid for frames\n",
    "    x, y = np.meshgrid(\n",
    "        np.arange(frames.shape[2]) * lateral_scale,\n",
    "        np.arange(frames.shape[1]) * axial_scale,\n",
    "    )\n",
    "    frame_coords = np.stack((x, y, np.zeros_like(x)), axis=-1)\n",
    "    frame_coords = frame_coords @ transform_matrix.T\n",
    "    frame_coords[:, :, 2] += marker_to_probe_bottom\n",
    "\n",
    "    for i, frame in enumerate(tqdm(frames, total=len(frames))):\n",
    "        if frame.ndim == 3:\n",
    "            frame = np.mean(frame, axis=-1).astype(np.float32)\n",
    "\n",
    "        # Transform frame coordinates to world space\n",
    "        world_coords = (\n",
    "            np.einsum(\"ij,klj->kli\", current_rotation, frame_coords) + current_position\n",
    "        )\n",
    "\n",
    "        # Calculate voxel coordinates\n",
    "        voxel_coords = np.round((world_coords - min_corner) / voxel_size).astype(int)\n",
    "\n",
    "        # Filter out-of-bounds voxels\n",
    "        mask = np.all((voxel_coords >= 0) & (voxel_coords < volume_shape), axis=2)\n",
    "        valid_voxels = voxel_coords[mask]\n",
    "        valid_intensities = frame[mask]\n",
    "\n",
    "        # Update volume and counts\n",
    "        np.add.at(volume, tuple(valid_voxels.T), valid_intensities)\n",
    "        np.add.at(counts, tuple(valid_voxels.T), 1)\n",
    "\n",
    "    # Average intensities and handle zero counts\n",
    "    mask = counts > 0\n",
    "    volume[mask] /= counts[mask]\n",
    "\n",
    "    # Finalize and display 3D plot\n",
    "    ax.set_xlabel(\"X Position (mm)\")\n",
    "    ax.set_ylabel(\"Y Position (mm)\")\n",
    "    ax.set_zlabel(\"Z Position (mm)\")\n",
    "    ax.set_title(\"Probe Position and Frame Corners Over Time\")\n",
    "    ax.legend()\n",
    "    plt.show()\n",
    "\n",
    "    return volume, min_corner, voxel_size"
   ]
  },
  {
   "cell_type": "code",
   "execution_count": 22,
   "metadata": {},
   "outputs": [
    {
     "name": "stdout",
     "output_type": "stream",
     "text": [
      "Reconstructing predicted volume...\n"
     ]
    },
    {
     "data": {
      "application/vnd.jupyter.widget-view+json": {
       "model_id": "82b18b24cce84df69c553b8abc323040",
       "version_major": 2,
       "version_minor": 0
      },
      "text/plain": [
       "  0%|          | 0/100 [00:00<?, ?it/s]"
      ]
     },
     "metadata": {},
     "output_type": "display_data"
    },
    {
     "name": "stdout",
     "output_type": "stream",
     "text": [
      "Frame 1:\n",
      "  Displacement (mm): [1.302693e-04 7.508709e-06 2.285979e-02]\n",
      "  Rotation (degrees): [ 0.01230813 -0.00921817  0.00855223]\n",
      "  Current Position (mm): [1.30269298e-04 7.50870913e-06 2.28597894e-02]\n",
      "\n",
      "Frame 2:\n",
      "  Displacement (mm): [1.302693e-04 7.508709e-06 2.285979e-02]\n",
      "  Rotation (degrees): [ 0.01230813 -0.00921817  0.00855223]\n",
      "  Current Position (mm): [2.56860351e-04 1.01256315e-05 4.57196006e-02]\n",
      "\n",
      "Frame 3:\n",
      "  Displacement (mm): [1.302693e-04 7.508709e-06 2.285979e-02]\n",
      "  Rotation (degrees): [ 0.01230813 -0.00921817  0.00855223]\n",
      "  Current Position (mm): [3.79773886e-04 7.85021344e-06 6.85794319e-02]\n",
      "\n",
      "Frame 4:\n",
      "  Displacement (mm): [1.302693e-04 7.508709e-06 2.285979e-02]\n",
      "  Rotation (degrees): [ 0.01230813 -0.00921817  0.00855223]\n",
      "  Current Position (mm): [4.99010630e-04 6.81902006e-07 9.14392816e-02]\n",
      "\n",
      "Frame 5:\n",
      "  Displacement (mm): [1.302693e-04 7.508709e-06 2.285979e-02]\n",
      "  Rotation (degrees): [ 0.01230813 -0.00921817  0.00855223]\n",
      "  Current Position (mm): [ 6.14571311e-04 -1.13798555e-05  1.14299148e-01]\n",
      "\n",
      "Frame 6:\n",
      "  Displacement (mm): [1.302693e-04 7.508709e-06 2.285979e-02]\n",
      "  Rotation (degrees): [ 0.01230813 -0.00921817  0.00855223]\n",
      "  Current Position (mm): [ 7.26456656e-04 -2.83356111e-05  1.37159030e-01]\n",
      "\n",
      "Frame 7:\n",
      "  Displacement (mm): [1.302693e-04 7.508709e-06 2.285979e-02]\n",
      "  Rotation (degrees): [ 0.01230813 -0.00921817  0.00855223]\n",
      "  Current Position (mm): [ 8.34667395e-04 -5.01859166e-05  1.60018925e-01]\n",
      "\n",
      "Frame 8:\n",
      "  Displacement (mm): [1.302693e-04 7.508709e-06 2.285979e-02]\n",
      "  Rotation (degrees): [ 0.01230813 -0.00921817  0.00855223]\n",
      "  Current Position (mm): [ 9.39204255e-04 -7.69313233e-05  1.82878832e-01]\n",
      "\n",
      "Frame 9:\n",
      "  Displacement (mm): [1.302693e-04 7.508709e-06 2.285979e-02]\n",
      "  Rotation (degrees): [ 0.01230813 -0.00921817  0.00855223]\n",
      "  Current Position (mm): [ 1.04006797e-03 -1.08572382e-04  2.05738750e-01]\n",
      "\n",
      "Frame 10:\n",
      "  Displacement (mm): [1.302693e-04 7.508709e-06 2.285979e-02]\n",
      "  Rotation (degrees): [ 0.01230813 -0.00921817  0.00855223]\n",
      "  Current Position (mm): [ 1.13725926e-03 -1.45109642e-04  2.28598676e-01]\n",
      "\n",
      "Frame 11:\n",
      "  Displacement (mm): [1.302693e-04 7.508709e-06 2.285979e-02]\n",
      "  Rotation (degrees): [ 0.01230813 -0.00921817  0.00855223]\n",
      "  Current Position (mm): [ 1.23077886e-03 -1.86543655e-04  2.51458609e-01]\n",
      "\n",
      "Frame 12:\n",
      "  Displacement (mm): [1.302693e-04 7.508709e-06 2.285979e-02]\n",
      "  Rotation (degrees): [ 0.01230813 -0.00921817  0.00855223]\n",
      "  Current Position (mm): [ 1.32062750e-03 -2.32874969e-04  2.74318547e-01]\n",
      "\n",
      "Frame 13:\n",
      "  Displacement (mm): [1.302693e-04 7.508709e-06 2.285979e-02]\n",
      "  Rotation (degrees): [ 0.01230813 -0.00921817  0.00855223]\n",
      "  Current Position (mm): [ 1.40680591e-03 -2.84104134e-04  2.97178489e-01]\n",
      "\n",
      "Frame 14:\n",
      "  Displacement (mm): [1.302693e-04 7.508709e-06 2.285979e-02]\n",
      "  Rotation (degrees): [ 0.01230813 -0.00921817  0.00855223]\n",
      "  Current Position (mm): [ 0.00148931 -0.00034023  0.32003843]\n",
      "\n",
      "Frame 15:\n",
      "  Displacement (mm): [1.302693e-04 7.508709e-06 2.285979e-02]\n",
      "  Rotation (degrees): [ 0.01230813 -0.00921817  0.00855223]\n",
      "  Current Position (mm): [ 0.00156815 -0.00040126  0.34289838]\n",
      "\n",
      "Frame 16:\n",
      "  Displacement (mm): [1.302693e-04 7.508709e-06 2.285979e-02]\n",
      "  Rotation (degrees): [ 0.01230813 -0.00921817  0.00855223]\n",
      "  Current Position (mm): [ 0.00164333 -0.00046718  0.36575832]\n",
      "\n",
      "Frame 17:\n",
      "  Displacement (mm): [1.302693e-04 7.508709e-06 2.285979e-02]\n",
      "  Rotation (degrees): [ 0.01230813 -0.00921817  0.00855223]\n",
      "  Current Position (mm): [ 0.00171483 -0.00053801  0.38861826]\n",
      "\n",
      "Frame 18:\n",
      "  Displacement (mm): [1.302693e-04 7.508709e-06 2.285979e-02]\n",
      "  Rotation (degrees): [ 0.01230813 -0.00921817  0.00855223]\n",
      "  Current Position (mm): [ 0.00178267 -0.00061374  0.4114782 ]\n",
      "\n",
      "Frame 19:\n",
      "  Displacement (mm): [1.302693e-04 7.508709e-06 2.285979e-02]\n",
      "  Rotation (degrees): [ 0.01230813 -0.00921817  0.00855223]\n",
      "  Current Position (mm): [ 0.00184684 -0.00069436  0.43433813]\n",
      "\n",
      "Frame 20:\n",
      "  Displacement (mm): [1.302693e-04 7.508709e-06 2.285979e-02]\n",
      "  Rotation (degrees): [ 0.01230813 -0.00921817  0.00855223]\n",
      "  Current Position (mm): [ 0.00190735 -0.00077989  0.45719805]\n",
      "\n",
      "Frame 21:\n",
      "  Displacement (mm): [1.302693e-04 7.508709e-06 2.285979e-02]\n",
      "  Rotation (degrees): [ 0.01230813 -0.00921817  0.00855223]\n",
      "  Current Position (mm): [ 0.00196419 -0.00087033  0.48005796]\n",
      "\n",
      "Frame 22:\n",
      "  Displacement (mm): [1.302693e-04 7.508709e-06 2.285979e-02]\n",
      "  Rotation (degrees): [ 0.01230813 -0.00921817  0.00855223]\n",
      "  Current Position (mm): [ 0.00201737 -0.00096566  0.50291786]\n",
      "\n",
      "Frame 23:\n",
      "  Displacement (mm): [1.302693e-04 7.508709e-06 2.285979e-02]\n",
      "  Rotation (degrees): [ 0.01230813 -0.00921817  0.00855223]\n",
      "  Current Position (mm): [ 0.00206689 -0.0010659   0.52577775]\n",
      "\n",
      "Frame 24:\n",
      "  Displacement (mm): [1.302693e-04 7.508709e-06 2.285979e-02]\n",
      "  Rotation (degrees): [ 0.01230813 -0.00921817  0.00855223]\n",
      "  Current Position (mm): [ 0.00211274 -0.00117104  0.54863762]\n",
      "\n",
      "Frame 25:\n",
      "  Displacement (mm): [1.302693e-04 7.508709e-06 2.285979e-02]\n",
      "  Rotation (degrees): [ 0.01230813 -0.00921817  0.00855223]\n",
      "  Current Position (mm): [ 0.00215494 -0.00128109  0.57149748]\n",
      "\n",
      "Frame 26:\n",
      "  Displacement (mm): [1.302693e-04 7.508709e-06 2.285979e-02]\n",
      "  Rotation (degrees): [ 0.01230813 -0.00921817  0.00855223]\n",
      "  Current Position (mm): [ 0.00219347 -0.00139604  0.59435732]\n",
      "\n",
      "Frame 27:\n",
      "  Displacement (mm): [1.302693e-04 7.508709e-06 2.285979e-02]\n",
      "  Rotation (degrees): [ 0.01230813 -0.00921817  0.00855223]\n",
      "  Current Position (mm): [ 0.00222834 -0.00151589  0.61721714]\n",
      "\n",
      "Frame 28:\n",
      "  Displacement (mm): [1.302693e-04 7.508709e-06 2.285979e-02]\n",
      "  Rotation (degrees): [ 0.01230813 -0.00921817  0.00855223]\n",
      "  Current Position (mm): [ 0.00225955 -0.00164066  0.64007694]\n",
      "\n",
      "Frame 29:\n",
      "  Displacement (mm): [1.302693e-04 7.508709e-06 2.285979e-02]\n",
      "  Rotation (degrees): [ 0.01230813 -0.00921817  0.00855223]\n",
      "  Current Position (mm): [ 0.00228711 -0.00177032  0.66293672]\n",
      "\n",
      "Frame 30:\n",
      "  Displacement (mm): [1.302693e-04 7.508709e-06 2.285979e-02]\n",
      "  Rotation (degrees): [ 0.01230813 -0.00921817  0.00855223]\n",
      "  Current Position (mm): [ 0.002311   -0.0019049   0.68579647]\n",
      "\n",
      "Frame 31:\n",
      "  Displacement (mm): [1.302693e-04 7.508709e-06 2.285979e-02]\n",
      "  Rotation (degrees): [ 0.01230813 -0.00921817  0.00855223]\n",
      "  Current Position (mm): [ 0.00233124 -0.00204438  0.7086562 ]\n",
      "\n",
      "Frame 32:\n",
      "  Displacement (mm): [1.302693e-04 7.508709e-06 2.285979e-02]\n",
      "  Rotation (degrees): [ 0.01230813 -0.00921817  0.00855223]\n",
      "  Current Position (mm): [ 0.00234783 -0.00218878  0.7315159 ]\n",
      "\n",
      "Frame 33:\n",
      "  Displacement (mm): [1.302693e-04 7.508709e-06 2.285979e-02]\n",
      "  Rotation (degrees): [ 0.01230813 -0.00921817  0.00855223]\n",
      "  Current Position (mm): [ 0.00236075 -0.00233808  0.75437557]\n",
      "\n",
      "Frame 34:\n",
      "  Displacement (mm): [1.302693e-04 7.508709e-06 2.285979e-02]\n",
      "  Rotation (degrees): [ 0.01230813 -0.00921817  0.00855223]\n",
      "  Current Position (mm): [ 0.00237003 -0.00249229  0.77723521]\n",
      "\n",
      "Frame 35:\n",
      "  Displacement (mm): [1.302693e-04 7.508709e-06 2.285979e-02]\n",
      "  Rotation (degrees): [ 0.01230813 -0.00921817  0.00855223]\n",
      "  Current Position (mm): [ 0.00237565 -0.00265141  0.80009482]\n",
      "\n",
      "Frame 36:\n",
      "  Displacement (mm): [1.302693e-04 7.508709e-06 2.285979e-02]\n",
      "  Rotation (degrees): [ 0.01230813 -0.00921817  0.00855223]\n",
      "  Current Position (mm): [ 0.00237761 -0.00281544  0.82295439]\n",
      "\n",
      "Frame 37:\n",
      "  Displacement (mm): [1.302693e-04 7.508709e-06 2.285979e-02]\n",
      "  Rotation (degrees): [ 0.01230813 -0.00921817  0.00855223]\n",
      "  Current Position (mm): [ 0.00237592 -0.00298438  0.84581393]\n",
      "\n",
      "Frame 38:\n",
      "  Displacement (mm): [1.302693e-04 7.508709e-06 2.285979e-02]\n",
      "  Rotation (degrees): [ 0.01230813 -0.00921817  0.00855223]\n",
      "  Current Position (mm): [ 0.00237058 -0.00315823  0.86867343]\n",
      "\n",
      "Frame 39:\n",
      "  Displacement (mm): [1.302693e-04 7.508709e-06 2.285979e-02]\n",
      "  Rotation (degrees): [ 0.01230813 -0.00921817  0.00855223]\n",
      "  Current Position (mm): [ 0.00236159 -0.003337    0.89153289]\n",
      "\n",
      "Frame 40:\n",
      "  Displacement (mm): [1.302693e-04 7.508709e-06 2.285979e-02]\n",
      "  Rotation (degrees): [ 0.01230813 -0.00921817  0.00855223]\n",
      "  Current Position (mm): [ 0.00234895 -0.00352067  0.91439231]\n",
      "\n",
      "Frame 41:\n",
      "  Displacement (mm): [1.302693e-04 7.508709e-06 2.285979e-02]\n",
      "  Rotation (degrees): [ 0.01230813 -0.00921817  0.00855223]\n",
      "  Current Position (mm): [ 0.00233266 -0.00370926  0.93725169]\n",
      "\n",
      "Frame 42:\n",
      "  Displacement (mm): [1.302693e-04 7.508709e-06 2.285979e-02]\n",
      "  Rotation (degrees): [ 0.01230813 -0.00921817  0.00855223]\n",
      "  Current Position (mm): [ 0.00231273 -0.00390277  0.96011102]\n",
      "\n",
      "Frame 43:\n",
      "  Displacement (mm): [1.302693e-04 7.508709e-06 2.285979e-02]\n",
      "  Rotation (degrees): [ 0.01230813 -0.00921817  0.00855223]\n",
      "  Current Position (mm): [ 0.00228914 -0.00410118  0.98297031]\n",
      "\n",
      "Frame 44:\n",
      "  Displacement (mm): [1.302693e-04 7.508709e-06 2.285979e-02]\n",
      "  Rotation (degrees): [ 0.01230813 -0.00921817  0.00855223]\n",
      "  Current Position (mm): [ 0.0022619  -0.00430452  1.00582955]\n",
      "\n",
      "Frame 45:\n",
      "  Displacement (mm): [1.302693e-04 7.508709e-06 2.285979e-02]\n",
      "  Rotation (degrees): [ 0.01230813 -0.00921817  0.00855223]\n",
      "  Current Position (mm): [ 0.00223102 -0.00451276  1.02868875]\n",
      "\n",
      "Frame 46:\n",
      "  Displacement (mm): [1.302693e-04 7.508709e-06 2.285979e-02]\n",
      "  Rotation (degrees): [ 0.01230813 -0.00921817  0.00855223]\n",
      "  Current Position (mm): [ 0.0021965  -0.00472593  1.05154789]\n",
      "\n",
      "Frame 47:\n",
      "  Displacement (mm): [1.302693e-04 7.508709e-06 2.285979e-02]\n",
      "  Rotation (degrees): [ 0.01230813 -0.00921817  0.00855223]\n",
      "  Current Position (mm): [ 0.00215832 -0.00494401  1.07440698]\n",
      "\n",
      "Frame 48:\n",
      "  Displacement (mm): [1.302693e-04 7.508709e-06 2.285979e-02]\n",
      "  Rotation (degrees): [ 0.01230813 -0.00921817  0.00855223]\n",
      "  Current Position (mm): [ 0.00211651 -0.005167    1.09726601]\n",
      "\n",
      "Frame 49:\n",
      "  Displacement (mm): [1.302693e-04 7.508709e-06 2.285979e-02]\n",
      "  Rotation (degrees): [ 0.01230813 -0.00921817  0.00855223]\n",
      "  Current Position (mm): [ 0.00207105 -0.00539492  1.12012499]\n",
      "\n",
      "Frame 50:\n",
      "  Displacement (mm): [1.302693e-04 7.508709e-06 2.285979e-02]\n",
      "  Rotation (degrees): [ 0.01230813 -0.00921817  0.00855223]\n",
      "  Current Position (mm): [ 0.00202194 -0.00562775  1.14298392]\n",
      "\n",
      "Frame 51:\n",
      "  Displacement (mm): [1.302693e-04 7.508709e-06 2.285979e-02]\n",
      "  Rotation (degrees): [ 0.01230813 -0.00921817  0.00855223]\n",
      "  Current Position (mm): [ 0.0019692  -0.0058655   1.16584278]\n",
      "\n",
      "Frame 52:\n",
      "  Displacement (mm): [1.302693e-04 7.508709e-06 2.285979e-02]\n",
      "  Rotation (degrees): [ 0.01230813 -0.00921817  0.00855223]\n",
      "  Current Position (mm): [ 0.00191281 -0.00610816  1.18870159]\n",
      "\n",
      "Frame 53:\n",
      "  Displacement (mm): [1.302693e-04 7.508709e-06 2.285979e-02]\n",
      "  Rotation (degrees): [ 0.01230813 -0.00921817  0.00855223]\n",
      "  Current Position (mm): [ 0.00185278 -0.00635575  1.21156033]\n",
      "\n",
      "Frame 54:\n",
      "  Displacement (mm): [1.302693e-04 7.508709e-06 2.285979e-02]\n",
      "  Rotation (degrees): [ 0.01230813 -0.00921817  0.00855223]\n",
      "  Current Position (mm): [ 0.00178911 -0.00660826  1.23441901]\n",
      "\n",
      "Frame 55:\n",
      "  Displacement (mm): [1.302693e-04 7.508709e-06 2.285979e-02]\n",
      "  Rotation (degrees): [ 0.01230813 -0.00921817  0.00855223]\n",
      "  Current Position (mm): [ 0.00172181 -0.00686569  1.25727762]\n",
      "\n",
      "Frame 56:\n",
      "  Displacement (mm): [1.302693e-04 7.508709e-06 2.285979e-02]\n",
      "  Rotation (degrees): [ 0.01230813 -0.00921817  0.00855223]\n",
      "  Current Position (mm): [ 0.00165086 -0.00712804  1.28013617]\n",
      "\n",
      "Frame 57:\n",
      "  Displacement (mm): [1.302693e-04 7.508709e-06 2.285979e-02]\n",
      "  Rotation (degrees): [ 0.01230813 -0.00921817  0.00855223]\n",
      "  Current Position (mm): [ 0.00157628 -0.00739531  1.30299464]\n",
      "\n",
      "Frame 58:\n",
      "  Displacement (mm): [1.302693e-04 7.508709e-06 2.285979e-02]\n",
      "  Rotation (degrees): [ 0.01230813 -0.00921817  0.00855223]\n",
      "  Current Position (mm): [ 0.00149806 -0.0076675   1.32585305]\n",
      "\n",
      "Frame 59:\n",
      "  Displacement (mm): [1.302693e-04 7.508709e-06 2.285979e-02]\n",
      "  Rotation (degrees): [ 0.01230813 -0.00921817  0.00855223]\n",
      "  Current Position (mm): [ 0.0014162  -0.00794462  1.34871139]\n",
      "\n",
      "Frame 60:\n",
      "  Displacement (mm): [0.00338606 0.00399577 0.01870948]\n",
      "  Rotation (degrees): [0.83424315 0.32638811 0.2273346 ]\n",
      "  Current Position (mm): [ 0.00459002 -0.00415762  1.36750133]\n",
      "\n",
      "Frame 61:\n",
      "  Displacement (mm): [0.01101124 0.01333641 0.00898931]\n",
      "  Rotation (degrees): [2.80406197 1.11547665 0.76961859]\n",
      "  Current Position (mm): [0.01539647 0.00906906 1.37689231]\n",
      "\n",
      "Frame 62:\n",
      "  Displacement (mm): [0.00888207 0.01072823 0.01170347]\n",
      "  Rotation (degrees): [2.24762576 0.8947877  0.61389893]\n",
      "  Current Position (mm): [0.02420173 0.0191162  1.38924058]\n",
      "\n",
      "Frame 63:\n",
      "  Displacement (mm): [0.00401697 0.00476862 0.01790523]\n",
      "  Rotation (degrees): [0.99482942 0.39152723 0.27060004]\n",
      "  Current Position (mm): [0.02865938 0.02196461 1.40744742]\n",
      "\n",
      "Frame 64:\n",
      "  Displacement (mm): [0.0010003  0.00107327 0.02175072]\n",
      "  Rotation (degrees): [0.23084515 0.08037054 0.06628528]\n",
      "  Current Position (mm): [0.03052286 0.02022487 1.42909799]\n",
      "\n",
      "Frame 65:\n",
      "  Displacement (mm): [1.302693e-04 7.508709e-06 2.285979e-02]\n",
      "  Rotation (degrees): [ 0.01230813 -0.00921817  0.00855223]\n",
      "  Current Position (mm): [0.03164108 0.01715653 1.45172368]\n",
      "\n",
      "Frame 66:\n",
      "  Displacement (mm): [1.302693e-04 7.508709e-06 2.285979e-02]\n",
      "  Rotation (degrees): [ 0.01230813 -0.00921817  0.00855223]\n",
      "  Current Position (mm): [0.03275583 0.01408317 1.47434886]\n",
      "\n",
      "Frame 67:\n",
      "  Displacement (mm): [1.302693e-04 7.508709e-06 2.285979e-02]\n",
      "  Rotation (degrees): [ 0.01230813 -0.00921817  0.00855223]\n",
      "  Current Position (mm): [0.0338671  0.01100481 1.49697353]\n",
      "\n",
      "Frame 68:\n",
      "  Displacement (mm): [1.302693e-04 7.508709e-06 2.285979e-02]\n",
      "  Rotation (degrees): [ 0.01230813 -0.00921817  0.00855223]\n",
      "  Current Position (mm): [0.0349749  0.00792143 1.51959769]\n",
      "\n",
      "Frame 69:\n",
      "  Displacement (mm): [1.302693e-04 7.508709e-06 2.285979e-02]\n",
      "  Rotation (degrees): [ 0.01230813 -0.00921817  0.00855223]\n",
      "  Current Position (mm): [0.03607922 0.00483304 1.54222133]\n",
      "\n",
      "Frame 70:\n",
      "  Displacement (mm): [1.302693e-04 7.508709e-06 2.285979e-02]\n",
      "  Rotation (degrees): [ 0.01230813 -0.00921817  0.00855223]\n",
      "  Current Position (mm): [0.03718007 0.00173963 1.56484446]\n",
      "\n",
      "Frame 71:\n",
      "  Displacement (mm): [1.302693e-04 7.508709e-06 2.285979e-02]\n",
      "  Rotation (degrees): [ 0.01230813 -0.00921817  0.00855223]\n",
      "  Current Position (mm): [ 3.82774533e-02 -1.35878923e-03  1.58746707e+00]\n",
      "\n",
      "Frame 72:\n",
      "  Displacement (mm): [0.00489016 0.00583825 0.01679214]\n",
      "  Rotation (degrees): [1.2177889  0.48173152 0.33095044]\n",
      "  Current Position (mm): [0.04362887 0.00235529 1.6047165 ]\n",
      "\n",
      "Frame 73:\n",
      "  Displacement (mm): [0.0114788  0.01390916 0.0083933 ]\n",
      "  Rotation (degrees): [2.92692549 1.16396706 0.8042678 ]\n",
      "  Current Position (mm): [0.05487969 0.01536519 1.61470832]\n",
      "\n",
      "Frame 74:\n",
      "  Displacement (mm): [0.00810793 0.00977993 0.0126903 ]\n",
      "  Rotation (degrees): [2.0465528  0.81460728 0.5581157 ]\n",
      "  Current Position (mm): [0.06335497 0.02287083 1.62864619]\n",
      "\n",
      "Frame 75:\n",
      "  Displacement (mm): [0.00341665 0.00403324 0.01867049]\n",
      "  Rotation (degrees): [0.84201863 0.32954538 0.22942556]\n",
      "  Current Position (mm): [0.06820146 0.02258951 1.64743343]\n",
      "\n",
      "Frame 76:\n",
      "  Displacement (mm): [0.00845097 0.01020015 0.01225301]\n",
      "  Rotation (degrees): [2.13557325 0.8501335  0.5827804 ]\n",
      "  Current Position (mm): [0.07713153 0.03006129 1.66121837]\n",
      "\n",
      "Frame 77:\n",
      "  Displacement (mm): [0.01791144 0.02178897 0.00019331]\n",
      "  Rotation (degrees): [4.64217844 1.83176137 1.29788109]\n",
      "  Current Position (mm): [0.0933608  0.05257567 1.66625125]\n",
      "\n",
      "Frame 78:\n",
      "  Displacement (mm): [ 0.02072502  0.02523553 -0.00339329]\n",
      "  Rotation (degrees): [5.40721101 2.1239982  1.52389607]\n",
      "  Current Position (mm): [0.11120622 0.07984643 1.67021601]\n",
      "\n",
      "Frame 79:\n",
      "  Displacement (mm): [ 0.01885851  0.02294911 -0.00101397]\n",
      "  Rotation (degrees): [4.89867892 1.93013342 1.37326221]\n",
      "  Current Position (mm): [0.12737288 0.1037505  1.67732714]\n",
      "\n",
      "Frame 80:\n",
      "  Displacement (mm): [ 0.02442373  0.02976636 -0.0081082 ]\n",
      "  Rotation (degrees): [6.42685877 2.50799559 1.83062205]\n",
      "  Current Position (mm): [0.1462862  0.13781882 1.68279828]\n",
      "\n",
      "Frame 81:\n",
      "  Displacement (mm): [ 0.02991508  0.03649312 -0.01510828]\n",
      "  Rotation (degrees): [7.97036349 3.07708588 2.30660613]\n",
      "  Current Position (mm): [0.16700149 0.18237522 1.68916414]\n",
      "\n",
      "Frame 82:\n",
      "  Displacement (mm): [ 0.02657444  0.03240092 -0.01084982]\n",
      "  Rotation (degrees): [7.0271244  2.73107393 2.01407877]\n",
      "  Current Position (mm): [0.18523739 0.21984993 1.70086192]\n",
      "\n",
      "Frame 83:\n",
      "  Displacement (mm): [ 0.02163775  0.0263536  -0.00455678]\n",
      "  Rotation (degrees): [5.65734824 2.21878473 1.59856442]\n",
      "  Current Position (mm): [0.20137414 0.24641212 1.7156106 ]\n",
      "\n",
      "Frame 84:\n",
      "  Displacement (mm): [0.01637046 0.01990131 0.00215768]\n",
      "  Rotation (degrees): [4.22701639 1.67171165 1.1767284 ]\n",
      "  Current Position (mm): [0.21607156 0.26138779 1.73072432]\n",
      "\n",
      "Frame 85:\n",
      "  Displacement (mm): [0.01770102 0.02153121 0.00046155]\n",
      "  Rotation (degrees): [4.58532766 1.80990546 1.28122834]\n",
      "  Current Position (mm): [0.23123773 0.27817008 1.74701769]\n",
      "\n",
      "Frame 86:\n",
      "  Displacement (mm): [0.01144371 0.01386617 0.00843803]\n",
      "  Rotation (degrees): [2.91769576 1.16032747 0.8016616 ]\n",
      "  Current Position (mm): [0.24533963 0.28184662 1.76051025]\n",
      "\n",
      "Frame 87:\n",
      "  Displacement (mm): [0.0097877  0.01183761 0.01054901]\n",
      "  Rotation (degrees): [2.48369162 0.98862956 0.67972108]\n",
      "  Current Position (mm): [0.2593676  0.28188595 1.77277501]\n",
      "\n",
      "Frame 88:\n",
      "  Displacement (mm): [0.01054377 0.01276377 0.00958522]\n",
      "  Rotation (degrees): [2.68146465 1.06700488 0.73513999]\n",
      "  Current Position (mm): [0.27374552 0.28299801 1.78534482]\n",
      "\n",
      "Frame 89:\n",
      "  Displacement (mm): [0.01182927 0.01433848 0.00794653]\n",
      "  Rotation (degrees): [3.01918096 1.20032059 0.83034802]\n",
      "  Current Position (mm): [0.28856362 0.28609752 1.79874213]\n",
      "\n",
      "Frame 90:\n",
      "  Displacement (mm): [0.00699678 0.00841881 0.01410673]\n",
      "  Rotation (degrees): [1.75909337 0.69958338 0.47881863]\n",
      "  Current Position (mm): [0.30286806 0.28000393 1.80752177]\n",
      "\n",
      "Frame 91:\n",
      "  Displacement (mm): [0.01678186 0.02040527 0.00163324]\n",
      "  Rotation (degrees): [4.33759036 1.71443905 1.2088924 ]\n",
      "  Current Position (mm): [0.3188396  0.29115749 1.82544331]\n",
      "\n",
      "Frame 92:\n",
      "  Displacement (mm): [0.00987858 0.01194893 0.01043317]\n",
      "  Rotation (degrees): [2.50743003 0.99804865 0.68635976]\n",
      "  Current Position (mm): [0.33411794 0.28954864 1.83608278]\n",
      "\n",
      "Frame 93:\n",
      "  Displacement (mm): [0.00404723 0.00480569 0.01786666]\n",
      "  Rotation (degrees): [1.00254211 0.39465215 0.27268223]\n",
      "  Current Position (mm): [0.34873721 0.27802166 1.83956095]\n",
      "\n",
      "Frame 94:\n",
      "  Displacement (mm): [0.00307332 0.00361267 0.01910815]\n",
      "  Rotation (degrees): [0.75479901 0.29411063 0.20599326]\n",
      "  Current Position (mm): [0.36328924 0.26491364 1.84157001]\n",
      "\n",
      "Frame 95:\n",
      "  Displacement (mm): [1.302693e-04 7.508709e-06 2.285979e-02]\n",
      "  Rotation (degrees): [ 0.01230813 -0.00921817  0.00855223]\n",
      "  Current Position (mm): [0.37745477 0.24706377 1.83975158]\n",
      "\n",
      "Frame 96:\n",
      "  Displacement (mm): [1.302693e-04 7.508709e-06 2.285979e-02]\n",
      "  Rotation (degrees): [ 0.01230813 -0.00921817  0.00855223]\n",
      "  Current Position (mm): [0.39161682 0.22921159 1.83792865]\n",
      "\n",
      "Frame 97:\n",
      "  Displacement (mm): [1.302693e-04 7.508709e-06 2.285979e-02]\n",
      "  Rotation (degrees): [ 0.01230813 -0.00921817  0.00855223]\n",
      "  Current Position (mm): [0.40577541 0.21135712 1.83610125]\n",
      "\n",
      "Frame 98:\n",
      "  Displacement (mm): [1.302693e-04 7.508709e-06 2.285979e-02]\n",
      "  Rotation (degrees): [ 0.01230813 -0.00921817  0.00855223]\n",
      "  Current Position (mm): [0.41993052 0.19350036 1.83426935]\n",
      "\n",
      "Frame 99:\n",
      "  Displacement (mm): [1.302693e-04 7.508709e-06 2.285979e-02]\n",
      "  Rotation (degrees): [ 0.01230813 -0.00921817  0.00855223]\n",
      "  Current Position (mm): [0.43408215 0.1756413  1.83243297]\n",
      "\n",
      "Frame 100:\n",
      "  Displacement (mm): [0.00505025 0.00495864 0.01821652]\n",
      "  Rotation (degrees): [-0.23356399 -0.04415642 -1.00897403]\n",
      "  Current Position (mm): [0.44984128 0.16446676 1.83538493]\n",
      "\n"
     ]
    },
    {
     "data": {
      "application/vnd.jupyter.widget-view+json": {
       "model_id": "8f4f2e34f12e4bbd8f751b969d5cb1bb",
       "version_major": 2,
       "version_minor": 0
      },
      "text/plain": [
       "  0%|          | 0/100 [00:00<?, ?it/s]"
      ]
     },
     "metadata": {},
     "output_type": "display_data"
    },
    {
     "data": {
      "image/png": "[encoded data removed]",
      "text/plain": [
       "<Figure size 1200x800 with 1 Axes>"
      ]
     },
     "metadata": {},
     "output_type": "display_data"
    },
    {
     "name": "stdout",
     "output_type": "stream",
     "text": [
      "Predicted volume shape: (415, 818, 695)\n",
      "Volume origin: [ -2.46093835 -43.62158897  -2.50302649]\n",
      "Voxel size: 0.1 mm\n",
      "Predicted volume saved as 'predicted_volume.npy'\n",
      "Metadata saved as 'predicted_volume_metadata.npy'\n"
     ]
    }
   ],
   "source": [
    "# Use the trained model to make predictions on the validation set\n",
    "all_frames = []\n",
    "all_predictions = []\n",
    "\n",
    "with torch.no_grad():\n",
    "    for frames, imu_data, _ in val_loader:\n",
    "        frames = frames.to(device)\n",
    "        imu_data = imu_data.to(device)\n",
    "        outputs = model(frames, imu_data)  # Predicted displacements\n",
    "\n",
    "        # Append the numpy arrays for frames and predictions\n",
    "        all_frames.append(frames.cpu().numpy())\n",
    "        all_predictions.append(outputs.cpu().numpy())\n",
    "\n",
    "# Concatenate lists into 2D numpy arrays\n",
    "all_frames = np.concatenate(all_frames, axis=0)\n",
    "all_predictions = np.concatenate(all_predictions, axis=0)\n",
    "\n",
    "\n",
    "# Define probe specifications\n",
    "probe_specs = {\n",
    "    \"depth\": 50,  # mm (axial direction)\n",
    "    \"width\": 38,  # mm (lateral direction, assuming 19 mm on each side of the center)\n",
    "    \"axial_res\": 0.5,  # mm\n",
    "    \"lateral_res\": 2,  # mm\n",
    "    \"slice_thickness\": 5,  # mm (elevational direction)\n",
    "    \"marker_to_probe_bottom\": 54,  # mm (approximate, to be refined)\n",
    "}\n",
    "\n",
    "# Reconstruct the predicted volume based on predicted displacements\n",
    "predicted_volume, volume_origin, voxel_size = reconstruct_predicted_volume_displacement(\n",
    "    all_frames[:, 0],  # Use only the first frame of each sequence\n",
    "    all_predictions,  # Use the full prediction array (displacement + angular displacement)\n",
    "    probe_specs,\n",
    "    voxel_size=0.1,  # Adjust voxel size for the desired resolution\n",
    "    initial_pose=None,  # Optionally set initial pose, or keep as None\n",
    "    ignore_orientation=False,  # Set to False to use predicted orientations\n",
    ")\n",
    "\n",
    "print(f\"Predicted volume shape: {predicted_volume.shape}\")\n",
    "print(f\"Volume origin: {volume_origin}\")\n",
    "print(f\"Voxel size: {voxel_size} mm\")\n",
    "\n",
    "# Save the predicted volume\n",
    "np.save(\"predicted_volume.npy\", predicted_volume)\n",
    "print(\"Predicted volume saved as 'predicted_volume.npy'\")\n",
    "\n",
    "# Save metadata\n",
    "metadata = {\n",
    "    \"volume_origin\": volume_origin.tolist(),\n",
    "    \"voxel_size\": voxel_size,\n",
    "    \"probe_specs\": probe_specs,\n",
    "}\n",
    "np.save(\"predicted_volume_metadata.npy\", metadata)\n",
    "print(\"Metadata saved as 'predicted_volume_metadata.npy'\")"
   ]
  },
  {
   "cell_type": "code",
   "execution_count": null,
   "metadata": {},
   "outputs": [],
   "source": [
    "print(\n",
    "    f\"predicted_frame_centers: {predicted_frame_centers.shape}, ground_truth_centers: {ground_truth_centers.shape}\"\n",
    ")"
   ]
  },
  {
   "cell_type": "code",
   "execution_count": null,
   "metadata": {},
   "outputs": [],
   "source": [
    "def plot_frame_center_trajectories_with_error(\n",
    "    gt_centers,\n",
    "    gt_orientations,\n",
    "    pred_centers,\n",
    "    pred_orientations,\n",
    "    frame_stride=1,\n",
    "    scale=0.2,\n",
    "):\n",
    "    \"\"\"\n",
    "    Plot ground truth and predicted trajectories of frame centers with orientation vectors and error.\n",
    "\n",
    "    :param gt_centers: Array of shape (n, 3) with [x, y, z] for each ground truth frame center\n",
    "    :param gt_orientations: Array of shape (n, 4) with [qw, qx, qy, qz] for each ground truth frame orientation\n",
    "    :param pred_centers: Array of shape (n, 3) with [x, y, z] for each predicted frame center\n",
    "    :param pred_orientations: Array of shape (n, 4) with [qw, qx, qy, qz] for each predicted frame orientation\n",
    "    :param frame_stride: Number of frames to skip between orientation vector plots\n",
    "    :param scale: Scale factor for orientation vectors\n",
    "    \"\"\"\n",
    "    fig = plt.figure(figsize=(20, 6))\n",
    "\n",
    "    # Ground Truth Trajectory\n",
    "    ax1 = fig.add_subplot(131, projection=\"3d\")\n",
    "    plot_trajectory(\n",
    "        ax1, gt_centers, gt_orientations, frame_stride, scale, \"Ground Truth\", \"blue\"\n",
    "    )\n",
    "\n",
    "    # Predicted Trajectory\n",
    "    ax2 = fig.add_subplot(132, projection=\"3d\")\n",
    "    plot_trajectory(\n",
    "        ax2, pred_centers, pred_orientations, frame_stride, scale, \"Predicted\", \"red\"\n",
    "    )\n",
    "\n",
    "    # Error Plot\n",
    "    ax3 = fig.add_subplot(133)\n",
    "    plot_error(ax3, gt_centers, pred_centers)\n",
    "\n",
    "    plt.tight_layout()\n",
    "    plt.show()\n",
    "\n",
    "\n",
    "def plot_trajectory(ax, centers, orientations, frame_stride, scale, title, color):\n",
    "    ax.plot(\n",
    "        centers[:, 0], centers[:, 1], centers[:, 2], label=\"Trajectory\", color=color\n",
    "    )\n",
    "\n",
    "    for i in range(0, len(centers), frame_stride):\n",
    "        pos = centers[i]\n",
    "        quat = orientations[i]\n",
    "        rot_matrix = Rotation.from_quat(quat).as_matrix()\n",
    "\n",
    "        axes = np.array([[scale, 0, 0], [0, scale, 0], [0, 0, scale]])\n",
    "        transformed_axes = rot_matrix @ axes.T + pos[:, np.newaxis]\n",
    "\n",
    "        colors = [\"r\", \"g\", \"b\"]\n",
    "        labels = [\"X\", \"Y\", \"Z\"]\n",
    "        for j, (axis_color, label) in enumerate(zip(colors, labels)):\n",
    "            ax.quiver(\n",
    "                pos[0],\n",
    "                pos[1],\n",
    "                pos[2],\n",
    "                transformed_axes[0, j] - pos[0],\n",
    "                transformed_axes[1, j] - pos[1],\n",
    "                transformed_axes[2, j] - pos[2],\n",
    "                color=axis_color,\n",
    "                label=f\"{label} axis\" if i == 0 else \"\",\n",
    "            )\n",
    "\n",
    "    ax.set_xlabel(\"X Position (mm)\")\n",
    "    ax.set_ylabel(\"Y Position (mm)\")\n",
    "    ax.set_zlabel(\"Z Position (mm)\")\n",
    "    ax.set_title(f\"{title} Frame Center Trajectory\")\n",
    "    ax.legend()\n",
    "\n",
    "\n",
    "def plot_error(ax, gt_centers, pred_centers):\n",
    "    error = np.linalg.norm(pred_centers - gt_centers, axis=1)\n",
    "    ax.plot(error, color=\"green\")\n",
    "    ax.set_title(\"Frame Center Position Error Over Time\")\n",
    "    ax.set_xlabel(\"Frame Index\")\n",
    "    ax.set_ylabel(\"Position Error (mm)\")\n",
    "    ax.grid(True)\n",
    "\n",
    "\n",
    "plot_frame_center_trajectories_with_error(\n",
    "    ground_truth_centers,\n",
    "    ground_truth_orientations,\n",
    "    predicted_frame_centers,\n",
    "    predicted_frame_orientations,\n",
    "    frame_stride=1,\n",
    "    scale=0.5,\n",
    ")"
   ]
  },
  {
   "cell_type": "code",
   "execution_count": null,
   "metadata": {},
   "outputs": [],
   "source": []
  }
 ],
 "metadata": {
  "kernelspec": {
   "display_name": "abusfusion",
   "language": "python",
   "name": "python3"
  },
  "language_info": {
   "codemirror_mode": {
    "name": "ipython",
    "version": 3
   },
   "file_extension": ".py",
   "mimetype": "text/x-python",
   "name": "python",
   "nbconvert_exporter": "python",
   "pygments_lexer": "ipython3",
   "version": "3.12.5"
  }
 },
 "nbformat": 4,
 "nbformat_minor": 2
}
